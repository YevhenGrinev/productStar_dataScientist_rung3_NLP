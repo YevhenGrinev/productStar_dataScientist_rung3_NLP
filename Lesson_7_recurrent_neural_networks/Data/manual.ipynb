{
 "cells": [
  {
   "cell_type": "code",
   "execution_count": 3,
   "id": "e41c02bb-ba45-4cc3-9502-0b0a627a77ae",
   "metadata": {},
   "outputs": [],
   "source": [
    "import pandas as pd\n",
    "import pickle \n",
    "import numpy as np\n",
    "import tensorflow as tf\n",
    "import gensim\n",
    "\n",
    "np.random.seed(17)\n",
    "tf.random.set_seed(17)"
   ]
  },
  {
   "cell_type": "code",
   "execution_count": 4,
   "id": "31b1685c-a442-4e79-9c5f-17b963feedab",
   "metadata": {
    "tags": []
   },
   "outputs": [],
   "source": [
    "df = pd.read_pickle('./offensive_comments.df')"
   ]
  },
  {
   "cell_type": "code",
   "execution_count": 5,
   "id": "9e483023-c4e9-4cdf-a827-e8286eaab2f0",
   "metadata": {
    "tags": []
   },
   "outputs": [
    {
     "data": {
      "text/html": [
       "<div>\n",
       "<style scoped>\n",
       "    .dataframe tbody tr th:only-of-type {\n",
       "        vertical-align: middle;\n",
       "    }\n",
       "\n",
       "    .dataframe tbody tr th {\n",
       "        vertical-align: top;\n",
       "    }\n",
       "\n",
       "    .dataframe thead th {\n",
       "        text-align: right;\n",
       "    }\n",
       "</style>\n",
       "<table border=\"1\" class=\"dataframe\">\n",
       "  <thead>\n",
       "    <tr style=\"text-align: right;\">\n",
       "      <th></th>\n",
       "      <th>comment</th>\n",
       "      <th>is_offensive</th>\n",
       "    </tr>\n",
       "  </thead>\n",
       "  <tbody>\n",
       "    <tr>\n",
       "      <th>99995</th>\n",
       "      <td>На хуй иди, чмо</td>\n",
       "      <td>1</td>\n",
       "    </tr>\n",
       "    <tr>\n",
       "      <th>99996</th>\n",
       "      <td>Кончелыга</td>\n",
       "      <td>1</td>\n",
       "    </tr>\n",
       "    <tr>\n",
       "      <th>99997</th>\n",
       "      <td>\\n\\n\\n\\n\\n\\n\\n</td>\n",
       "      <td>1</td>\n",
       "    </tr>\n",
       "    <tr>\n",
       "      <th>99998</th>\n",
       "      <td>Завалить тварь</td>\n",
       "      <td>1</td>\n",
       "    </tr>\n",
       "    <tr>\n",
       "      <th>99999</th>\n",
       "      <td>еблан.Я хуйлушам изначально написал,что сделал...</td>\n",
       "      <td>1</td>\n",
       "    </tr>\n",
       "  </tbody>\n",
       "</table>\n",
       "</div>"
      ],
      "text/plain": [
       "                                                 comment  is_offensive\n",
       "99995                                    На хуй иди, чмо             1\n",
       "99996                                          Кончелыга             1\n",
       "99997                                     \\n\\n\\n\\n\\n\\n\\n             1\n",
       "99998                                    Завалить тварь              1\n",
       "99999  еблан.Я хуйлушам изначально написал,что сделал...             1"
      ]
     },
     "execution_count": 5,
     "metadata": {},
     "output_type": "execute_result"
    }
   ],
   "source": [
    "df.tail()"
   ]
  },
  {
   "cell_type": "code",
   "execution_count": 6,
   "id": "18f07411-4c1d-41d3-a30f-46acd2eecfe7",
   "metadata": {
    "tags": []
   },
   "outputs": [
    {
     "data": {
      "text/html": [
       "<div>\n",
       "<style scoped>\n",
       "    .dataframe tbody tr th:only-of-type {\n",
       "        vertical-align: middle;\n",
       "    }\n",
       "\n",
       "    .dataframe tbody tr th {\n",
       "        vertical-align: top;\n",
       "    }\n",
       "\n",
       "    .dataframe thead th {\n",
       "        text-align: right;\n",
       "    }\n",
       "</style>\n",
       "<table border=\"1\" class=\"dataframe\">\n",
       "  <thead>\n",
       "    <tr style=\"text-align: right;\">\n",
       "      <th></th>\n",
       "      <th>comment</th>\n",
       "      <th>is_offensive</th>\n",
       "    </tr>\n",
       "  </thead>\n",
       "  <tbody>\n",
       "    <tr>\n",
       "      <th>53844</th>\n",
       "      <td>Взвешанное решение это хорошо. ТС молодец, вид...</td>\n",
       "      <td>0</td>\n",
       "    </tr>\n",
       "    <tr>\n",
       "      <th>10034</th>\n",
       "      <td>Не надо, раздражение потом сильное. Друг расск...</td>\n",
       "      <td>0</td>\n",
       "    </tr>\n",
       "    <tr>\n",
       "      <th>2592</th>\n",
       "      <td>Я бы реально пошел работать тогда водителем тр...</td>\n",
       "      <td>0</td>\n",
       "    </tr>\n",
       "    <tr>\n",
       "      <th>19398</th>\n",
       "      <td>Судя по такому предположению, мсье из Петербурга?</td>\n",
       "      <td>0</td>\n",
       "    </tr>\n",
       "    <tr>\n",
       "      <th>26446</th>\n",
       "      <td>Проблема матери в том что и она созависимая от...</td>\n",
       "      <td>0</td>\n",
       "    </tr>\n",
       "    <tr>\n",
       "      <th>...</th>\n",
       "      <td>...</td>\n",
       "      <td>...</td>\n",
       "    </tr>\n",
       "    <tr>\n",
       "      <th>42297</th>\n",
       "      <td>Тоже обычно с индии начинаю</td>\n",
       "      <td>0</td>\n",
       "    </tr>\n",
       "    <tr>\n",
       "      <th>98710</th>\n",
       "      <td>Ты спорящий, навязывающий свое ебучее мнение и...</td>\n",
       "      <td>1</td>\n",
       "    </tr>\n",
       "    <tr>\n",
       "      <th>34959</th>\n",
       "      <td>А ведь дохера заманчиво. Ведь каждый долбаный ...</td>\n",
       "      <td>0</td>\n",
       "    </tr>\n",
       "    <tr>\n",
       "      <th>64753</th>\n",
       "      <td>Фрукт-фрукт, сиська-сиська, цветок-цветок. Тож...</td>\n",
       "      <td>0</td>\n",
       "    </tr>\n",
       "    <tr>\n",
       "      <th>76399</th>\n",
       "      <td></td>\n",
       "      <td>0</td>\n",
       "    </tr>\n",
       "  </tbody>\n",
       "</table>\n",
       "<p>100000 rows × 2 columns</p>\n",
       "</div>"
      ],
      "text/plain": [
       "                                                 comment  is_offensive\n",
       "53844  Взвешанное решение это хорошо. ТС молодец, вид...             0\n",
       "10034  Не надо, раздражение потом сильное. Друг расск...             0\n",
       "2592   Я бы реально пошел работать тогда водителем тр...             0\n",
       "19398  Судя по такому предположению, мсье из Петербурга?             0\n",
       "26446  Проблема матери в том что и она созависимая от...             0\n",
       "...                                                  ...           ...\n",
       "42297                        Тоже обычно с индии начинаю             0\n",
       "98710  Ты спорящий, навязывающий свое ебучее мнение и...             1\n",
       "34959  А ведь дохера заманчиво. Ведь каждый долбаный ...             0\n",
       "64753  Фрукт-фрукт, сиська-сиська, цветок-цветок. Тож...             0\n",
       "76399                                                                0\n",
       "\n",
       "[100000 rows x 2 columns]"
      ]
     },
     "execution_count": 6,
     "metadata": {},
     "output_type": "execute_result"
    }
   ],
   "source": [
    "df.sample(frac=1)"
   ]
  },
  {
   "cell_type": "code",
   "execution_count": 7,
   "id": "898b5bc4-ced7-4c00-bcf0-aad7c9f5bfe4",
   "metadata": {
    "tags": []
   },
   "outputs": [
    {
     "data": {
      "text/plain": [
       "0.1"
      ]
     },
     "execution_count": 7,
     "metadata": {},
     "output_type": "execute_result"
    }
   ],
   "source": [
    "df.is_offensive.mean()"
   ]
  },
  {
   "cell_type": "code",
   "execution_count": 8,
   "id": "604aaeca-08a9-4db5-a9eb-eeda2dd7bf14",
   "metadata": {
    "tags": []
   },
   "outputs": [],
   "source": [
    "from nltk.corpus import stopwords\n",
    "from nltk.tokenize import word_tokenize\n",
    "from nltk.stem.snowball import RussianStemmer"
   ]
  },
  {
   "cell_type": "code",
   "execution_count": 9,
   "id": "f2b162fa-8ba8-45dc-993d-cdf9c4e8fecb",
   "metadata": {
    "tags": []
   },
   "outputs": [],
   "source": [
    "stop_words = set(stopwords.words('russian'))\n",
    "stemmer = RussianStemmer()\n",
    "\n",
    "def preprocess(comment):\n",
    "    \n",
    "    comment = comment.lower()\n",
    "    \n",
    "    tokens = word_tokenize(comment)\n",
    "    \n",
    "    tokens = [stemmer.stem(t) for t in tokens if t.isalpha() and t not in stop_words]\n",
    "    \n",
    "    return tokens"
   ]
  },
  {
   "cell_type": "code",
   "execution_count": 10,
   "id": "e5781120-c04b-4976-a395-d5f1dc4732b3",
   "metadata": {
    "tags": []
   },
   "outputs": [
    {
     "name": "stdout",
     "output_type": "stream",
     "text": [
      "CPU times: user 1min 25s, sys: 712 ms, total: 1min 25s\n",
      "Wall time: 1min 25s\n"
     ]
    }
   ],
   "source": [
    "%%time\n",
    "\n",
    "df.comment = df.comment.apply(lambda x: preprocess(x))"
   ]
  },
  {
   "cell_type": "code",
   "execution_count": 11,
   "id": "eaea7e3c-3a93-4ea8-bf90-54d36aad6391",
   "metadata": {
    "tags": []
   },
   "outputs": [
    {
     "data": {
      "text/plain": [
       "0                                            [кастрир]\n",
       "1    [рассужда, эт, замкнут, круг, никт, виноват, э...\n",
       "2    [пят, этаж, трус, собак, одеял, правд, пожар, ...\n",
       "3       [начина, меня, замок, двер, наход, женск, бан]\n",
       "4    [случайн, насса, рук, вытер, е, штан, гост, пр...\n",
       "Name: comment, dtype: object"
      ]
     },
     "execution_count": 11,
     "metadata": {},
     "output_type": "execute_result"
    }
   ],
   "source": [
    "df.comment.head()"
   ]
  },
  {
   "cell_type": "code",
   "execution_count": 12,
   "id": "b6c80111-2ae4-4a20-9da2-1d1adc61a94b",
   "metadata": {
    "tags": []
   },
   "outputs": [],
   "source": [
    "with open('./vectors.w2v', 'rb') as file:\n",
    "    model = pickle.load(file)"
   ]
  },
  {
   "cell_type": "code",
   "execution_count": 16,
   "id": "61922360-052e-40e5-a65c-961579f6cb70",
   "metadata": {
    "tags": []
   },
   "outputs": [
    {
     "data": {
      "text/plain": [
       "<gensim.models.keyedvectors.KeyedVectors at 0x16db07160>"
      ]
     },
     "execution_count": 16,
     "metadata": {},
     "output_type": "execute_result"
    }
   ],
   "source": [
    "model"
   ]
  },
  {
   "cell_type": "raw",
   "id": "7fbe4237-e6a5-4671-892d-3b9539f52e64",
   "metadata": {},
   "source": [
    "gensim.models.word2vec.Word2Vec"
   ]
  },
  {
   "cell_type": "code",
   "execution_count": 17,
   "id": "beda0eac-441b-4b27-8f77-bb7ff2a1d758",
   "metadata": {
    "tags": []
   },
   "outputs": [
    {
     "ename": "AttributeError",
     "evalue": "'KeyedVectors' object has no attribute 'key_to_index'",
     "output_type": "error",
     "traceback": [
      "\u001b[0;31m---------------------------------------------------------------------------\u001b[0m",
      "\u001b[0;31mAttributeError\u001b[0m                            Traceback (most recent call last)",
      "Cell \u001b[0;32mIn[17], line 1\u001b[0m\n\u001b[0;32m----> 1\u001b[0m \u001b[43mmodel\u001b[49m\u001b[38;5;241;43m.\u001b[39;49m\u001b[43mkey_to_index\u001b[49m\n",
      "\u001b[0;31mAttributeError\u001b[0m: 'KeyedVectors' object has no attribute 'key_to_index'"
     ]
    }
   ],
   "source": [
    "model.key_to_index"
   ]
  },
  {
   "cell_type": "code",
   "execution_count": null,
   "id": "10309548-44c6-49f9-a1b9-855b1c47ecfa",
   "metadata": {
    "tags": []
   },
   "outputs": [],
   "source": [
    "# df['comment'] = df['comment'].apply(lambda x: [wv.key_to_index[word].index for word in x if word in wv.index_to_key])"
   ]
  },
  {
   "cell_type": "code",
   "execution_count": null,
   "id": "588284cc-2b2f-40d8-b7b3-41f1eb05c072",
   "metadata": {
    "tags": []
   },
   "outputs": [],
   "source": [
    "# len(data.loc[df['comment'].map(len) == 0])"
   ]
  }
 ],
 "metadata": {
  "kernelspec": {
   "display_name": "Python 3 (ipykernel)",
   "language": "python",
   "name": "python3"
  },
  "language_info": {
   "codemirror_mode": {
    "name": "ipython",
    "version": 3
   },
   "file_extension": ".py",
   "mimetype": "text/x-python",
   "name": "python",
   "nbconvert_exporter": "python",
   "pygments_lexer": "ipython3",
   "version": "3.10.10"
  }
 },
 "nbformat": 4,
 "nbformat_minor": 5
}
