{
 "cells": [
  {
   "cell_type": "markdown",
   "metadata": {},
   "source": [
    "# Распознавание рукописный цифр\n",
    "\n",
    "В этом воршколпе нам предстоит решить задачу распознавания рукописных цифр. Это типичная задача мультиклассовой классификации. Для этого мы воспользуемся классическим датасетом MNIST и натренируем на нём нейросеть. Применяя знания, полученные в теоретической части, мы попробуем подобрать лучшую модель для решения данной задачи."
   ]
  },
  {
   "cell_type": "code",
   "execution_count": 1,
   "metadata": {
    "tags": []
   },
   "outputs": [],
   "source": [
    "# импортируем всё необходимое и зафиксируем сид\n",
    "\n",
    "import tensorflow as tf\n",
    "import numpy as np\n",
    "import matplotlib.pyplot as plt\n",
    "import os\n",
    "\n",
    "os.environ['CUDA_VISIBLE_DEVICES'] = '-1'\n",
    "\n",
    "np.random.seed(17)\n",
    "tf.random.set_seed(17)"
   ]
  },
  {
   "cell_type": "markdown",
   "metadata": {},
   "source": [
    "При помощи функционала Tensorflow/Keras мы можем загрузить уже подготовленный датасет прямо в код из репозитория"
   ]
  },
  {
   "cell_type": "code",
   "execution_count": 2,
   "metadata": {
    "tags": []
   },
   "outputs": [
    {
     "name": "stdout",
     "output_type": "stream",
     "text": [
      "Downloading data from https://storage.googleapis.com/tensorflow/tf-keras-datasets/mnist.npz\n"
     ]
    },
    {
     "ename": "Exception",
     "evalue": "URL fetch failure on https://storage.googleapis.com/tensorflow/tf-keras-datasets/mnist.npz: 403 -- Forbidden",
     "output_type": "error",
     "traceback": [
      "\u001b[0;31m---------------------------------------------------------------------------\u001b[0m",
      "\u001b[0;31mHTTPError\u001b[0m                                 Traceback (most recent call last)",
      "File \u001b[0;32m~/.pyenv/versions/3.10.10/lib/python3.10/site-packages/keras/utils/data_utils.py:283\u001b[0m, in \u001b[0;36mget_file\u001b[0;34m(fname, origin, untar, md5_hash, file_hash, cache_subdir, hash_algorithm, extract, archive_format, cache_dir)\u001b[0m\n\u001b[1;32m    282\u001b[0m \u001b[38;5;28;01mtry\u001b[39;00m:\n\u001b[0;32m--> 283\u001b[0m   \u001b[43murlretrieve\u001b[49m\u001b[43m(\u001b[49m\u001b[43morigin\u001b[49m\u001b[43m,\u001b[49m\u001b[43m \u001b[49m\u001b[43mfpath\u001b[49m\u001b[43m,\u001b[49m\u001b[43m \u001b[49m\u001b[43mDLProgbar\u001b[49m\u001b[43m(\u001b[49m\u001b[43m)\u001b[49m\u001b[43m)\u001b[49m\n\u001b[1;32m    284\u001b[0m \u001b[38;5;28;01mexcept\u001b[39;00m urllib\u001b[38;5;241m.\u001b[39merror\u001b[38;5;241m.\u001b[39mHTTPError \u001b[38;5;28;01mas\u001b[39;00m e:\n",
      "File \u001b[0;32m~/.pyenv/versions/3.10.10/lib/python3.10/site-packages/keras/utils/data_utils.py:82\u001b[0m, in \u001b[0;36murlretrieve\u001b[0;34m(url, filename, reporthook, data)\u001b[0m\n\u001b[1;32m     80\u001b[0m       \u001b[38;5;28;01mbreak\u001b[39;00m\n\u001b[0;32m---> 82\u001b[0m response \u001b[38;5;241m=\u001b[39m \u001b[43murlopen\u001b[49m\u001b[43m(\u001b[49m\u001b[43murl\u001b[49m\u001b[43m,\u001b[49m\u001b[43m \u001b[49m\u001b[43mdata\u001b[49m\u001b[43m)\u001b[49m\n\u001b[1;32m     83\u001b[0m \u001b[38;5;28;01mwith\u001b[39;00m \u001b[38;5;28mopen\u001b[39m(filename, \u001b[38;5;124m'\u001b[39m\u001b[38;5;124mwb\u001b[39m\u001b[38;5;124m'\u001b[39m) \u001b[38;5;28;01mas\u001b[39;00m fd:\n",
      "File \u001b[0;32m~/.pyenv/versions/3.10.10/lib/python3.10/urllib/request.py:216\u001b[0m, in \u001b[0;36murlopen\u001b[0;34m(url, data, timeout, cafile, capath, cadefault, context)\u001b[0m\n\u001b[1;32m    215\u001b[0m     opener \u001b[38;5;241m=\u001b[39m _opener\n\u001b[0;32m--> 216\u001b[0m \u001b[38;5;28;01mreturn\u001b[39;00m \u001b[43mopener\u001b[49m\u001b[38;5;241;43m.\u001b[39;49m\u001b[43mopen\u001b[49m\u001b[43m(\u001b[49m\u001b[43murl\u001b[49m\u001b[43m,\u001b[49m\u001b[43m \u001b[49m\u001b[43mdata\u001b[49m\u001b[43m,\u001b[49m\u001b[43m \u001b[49m\u001b[43mtimeout\u001b[49m\u001b[43m)\u001b[49m\n",
      "File \u001b[0;32m~/.pyenv/versions/3.10.10/lib/python3.10/urllib/request.py:525\u001b[0m, in \u001b[0;36mOpenerDirector.open\u001b[0;34m(self, fullurl, data, timeout)\u001b[0m\n\u001b[1;32m    524\u001b[0m     meth \u001b[38;5;241m=\u001b[39m \u001b[38;5;28mgetattr\u001b[39m(processor, meth_name)\n\u001b[0;32m--> 525\u001b[0m     response \u001b[38;5;241m=\u001b[39m \u001b[43mmeth\u001b[49m\u001b[43m(\u001b[49m\u001b[43mreq\u001b[49m\u001b[43m,\u001b[49m\u001b[43m \u001b[49m\u001b[43mresponse\u001b[49m\u001b[43m)\u001b[49m\n\u001b[1;32m    527\u001b[0m \u001b[38;5;28;01mreturn\u001b[39;00m response\n",
      "File \u001b[0;32m~/.pyenv/versions/3.10.10/lib/python3.10/urllib/request.py:634\u001b[0m, in \u001b[0;36mHTTPErrorProcessor.http_response\u001b[0;34m(self, request, response)\u001b[0m\n\u001b[1;32m    633\u001b[0m \u001b[38;5;28;01mif\u001b[39;00m \u001b[38;5;129;01mnot\u001b[39;00m (\u001b[38;5;241m200\u001b[39m \u001b[38;5;241m<\u001b[39m\u001b[38;5;241m=\u001b[39m code \u001b[38;5;241m<\u001b[39m \u001b[38;5;241m300\u001b[39m):\n\u001b[0;32m--> 634\u001b[0m     response \u001b[38;5;241m=\u001b[39m \u001b[38;5;28;43mself\u001b[39;49m\u001b[38;5;241;43m.\u001b[39;49m\u001b[43mparent\u001b[49m\u001b[38;5;241;43m.\u001b[39;49m\u001b[43merror\u001b[49m\u001b[43m(\u001b[49m\n\u001b[1;32m    635\u001b[0m \u001b[43m        \u001b[49m\u001b[38;5;124;43m'\u001b[39;49m\u001b[38;5;124;43mhttp\u001b[39;49m\u001b[38;5;124;43m'\u001b[39;49m\u001b[43m,\u001b[49m\u001b[43m \u001b[49m\u001b[43mrequest\u001b[49m\u001b[43m,\u001b[49m\u001b[43m \u001b[49m\u001b[43mresponse\u001b[49m\u001b[43m,\u001b[49m\u001b[43m \u001b[49m\u001b[43mcode\u001b[49m\u001b[43m,\u001b[49m\u001b[43m \u001b[49m\u001b[43mmsg\u001b[49m\u001b[43m,\u001b[49m\u001b[43m \u001b[49m\u001b[43mhdrs\u001b[49m\u001b[43m)\u001b[49m\n\u001b[1;32m    637\u001b[0m \u001b[38;5;28;01mreturn\u001b[39;00m response\n",
      "File \u001b[0;32m~/.pyenv/versions/3.10.10/lib/python3.10/urllib/request.py:563\u001b[0m, in \u001b[0;36mOpenerDirector.error\u001b[0;34m(self, proto, *args)\u001b[0m\n\u001b[1;32m    562\u001b[0m args \u001b[38;5;241m=\u001b[39m (\u001b[38;5;28mdict\u001b[39m, \u001b[38;5;124m'\u001b[39m\u001b[38;5;124mdefault\u001b[39m\u001b[38;5;124m'\u001b[39m, \u001b[38;5;124m'\u001b[39m\u001b[38;5;124mhttp_error_default\u001b[39m\u001b[38;5;124m'\u001b[39m) \u001b[38;5;241m+\u001b[39m orig_args\n\u001b[0;32m--> 563\u001b[0m \u001b[38;5;28;01mreturn\u001b[39;00m \u001b[38;5;28;43mself\u001b[39;49m\u001b[38;5;241;43m.\u001b[39;49m\u001b[43m_call_chain\u001b[49m\u001b[43m(\u001b[49m\u001b[38;5;241;43m*\u001b[39;49m\u001b[43margs\u001b[49m\u001b[43m)\u001b[49m\n",
      "File \u001b[0;32m~/.pyenv/versions/3.10.10/lib/python3.10/urllib/request.py:496\u001b[0m, in \u001b[0;36mOpenerDirector._call_chain\u001b[0;34m(self, chain, kind, meth_name, *args)\u001b[0m\n\u001b[1;32m    495\u001b[0m func \u001b[38;5;241m=\u001b[39m \u001b[38;5;28mgetattr\u001b[39m(handler, meth_name)\n\u001b[0;32m--> 496\u001b[0m result \u001b[38;5;241m=\u001b[39m \u001b[43mfunc\u001b[49m\u001b[43m(\u001b[49m\u001b[38;5;241;43m*\u001b[39;49m\u001b[43margs\u001b[49m\u001b[43m)\u001b[49m\n\u001b[1;32m    497\u001b[0m \u001b[38;5;28;01mif\u001b[39;00m result \u001b[38;5;129;01mis\u001b[39;00m \u001b[38;5;129;01mnot\u001b[39;00m \u001b[38;5;28;01mNone\u001b[39;00m:\n",
      "File \u001b[0;32m~/.pyenv/versions/3.10.10/lib/python3.10/urllib/request.py:643\u001b[0m, in \u001b[0;36mHTTPDefaultErrorHandler.http_error_default\u001b[0;34m(self, req, fp, code, msg, hdrs)\u001b[0m\n\u001b[1;32m    642\u001b[0m \u001b[38;5;28;01mdef\u001b[39;00m \u001b[38;5;21mhttp_error_default\u001b[39m(\u001b[38;5;28mself\u001b[39m, req, fp, code, msg, hdrs):\n\u001b[0;32m--> 643\u001b[0m     \u001b[38;5;28;01mraise\u001b[39;00m HTTPError(req\u001b[38;5;241m.\u001b[39mfull_url, code, msg, hdrs, fp)\n",
      "\u001b[0;31mHTTPError\u001b[0m: HTTP Error 403: Forbidden",
      "\nDuring handling of the above exception, another exception occurred:\n",
      "\u001b[0;31mException\u001b[0m                                 Traceback (most recent call last)",
      "Cell \u001b[0;32mIn[2], line 1\u001b[0m\n\u001b[0;32m----> 1\u001b[0m (x_train, y_train), (x_test, y_test) \u001b[38;5;241m=\u001b[39m \u001b[43mtf\u001b[49m\u001b[38;5;241;43m.\u001b[39;49m\u001b[43mkeras\u001b[49m\u001b[38;5;241;43m.\u001b[39;49m\u001b[43mdatasets\u001b[49m\u001b[38;5;241;43m.\u001b[39;49m\u001b[43mmnist\u001b[49m\u001b[38;5;241;43m.\u001b[39;49m\u001b[43mload_data\u001b[49m\u001b[43m(\u001b[49m\u001b[43mpath\u001b[49m\u001b[38;5;241;43m=\u001b[39;49m\u001b[38;5;124;43m\"\u001b[39;49m\u001b[38;5;124;43mmnist.npz\u001b[39;49m\u001b[38;5;124;43m\"\u001b[39;49m\u001b[43m)\u001b[49m\n",
      "File \u001b[0;32m~/.pyenv/versions/3.10.10/lib/python3.10/site-packages/keras/datasets/mnist.py:71\u001b[0m, in \u001b[0;36mload_data\u001b[0;34m(path)\u001b[0m\n\u001b[1;32m     25\u001b[0m \u001b[38;5;250m\u001b[39m\u001b[38;5;124;03m\"\"\"Loads the MNIST dataset.\u001b[39;00m\n\u001b[1;32m     26\u001b[0m \n\u001b[1;32m     27\u001b[0m \u001b[38;5;124;03mThis is a dataset of 60,000 28x28 grayscale images of the 10 digits,\u001b[39;00m\n\u001b[0;32m   (...)\u001b[0m\n\u001b[1;32m     68\u001b[0m \u001b[38;5;124;03m  https://creativecommons.org/licenses/by-sa/3.0/)\u001b[39;00m\n\u001b[1;32m     69\u001b[0m \u001b[38;5;124;03m\"\"\"\u001b[39;00m\n\u001b[1;32m     70\u001b[0m origin_folder \u001b[38;5;241m=\u001b[39m \u001b[38;5;124m'\u001b[39m\u001b[38;5;124mhttps://storage.googleapis.com/tensorflow/tf-keras-datasets/\u001b[39m\u001b[38;5;124m'\u001b[39m\n\u001b[0;32m---> 71\u001b[0m path \u001b[38;5;241m=\u001b[39m \u001b[43mget_file\u001b[49m\u001b[43m(\u001b[49m\n\u001b[1;32m     72\u001b[0m \u001b[43m    \u001b[49m\u001b[43mpath\u001b[49m\u001b[43m,\u001b[49m\n\u001b[1;32m     73\u001b[0m \u001b[43m    \u001b[49m\u001b[43morigin\u001b[49m\u001b[38;5;241;43m=\u001b[39;49m\u001b[43morigin_folder\u001b[49m\u001b[43m \u001b[49m\u001b[38;5;241;43m+\u001b[39;49m\u001b[43m \u001b[49m\u001b[38;5;124;43m'\u001b[39;49m\u001b[38;5;124;43mmnist.npz\u001b[39;49m\u001b[38;5;124;43m'\u001b[39;49m\u001b[43m,\u001b[49m\n\u001b[1;32m     74\u001b[0m \u001b[43m    \u001b[49m\u001b[43mfile_hash\u001b[49m\u001b[38;5;241;43m=\u001b[39;49m\n\u001b[1;32m     75\u001b[0m \u001b[43m    \u001b[49m\u001b[38;5;124;43m'\u001b[39;49m\u001b[38;5;124;43m731c5ac602752760c8e48fbffcf8c3b850d9dc2a2aedcf2cc48468fc17b673d1\u001b[39;49m\u001b[38;5;124;43m'\u001b[39;49m\u001b[43m)\u001b[49m\n\u001b[1;32m     76\u001b[0m \u001b[38;5;28;01mwith\u001b[39;00m np\u001b[38;5;241m.\u001b[39mload(path, allow_pickle\u001b[38;5;241m=\u001b[39m\u001b[38;5;28;01mTrue\u001b[39;00m) \u001b[38;5;28;01mas\u001b[39;00m f:  \u001b[38;5;66;03m# pylint: disable=unexpected-keyword-arg\u001b[39;00m\n\u001b[1;32m     77\u001b[0m   x_train, y_train \u001b[38;5;241m=\u001b[39m f[\u001b[38;5;124m'\u001b[39m\u001b[38;5;124mx_train\u001b[39m\u001b[38;5;124m'\u001b[39m], f[\u001b[38;5;124m'\u001b[39m\u001b[38;5;124my_train\u001b[39m\u001b[38;5;124m'\u001b[39m]\n",
      "File \u001b[0;32m~/.pyenv/versions/3.10.10/lib/python3.10/site-packages/keras/utils/data_utils.py:285\u001b[0m, in \u001b[0;36mget_file\u001b[0;34m(fname, origin, untar, md5_hash, file_hash, cache_subdir, hash_algorithm, extract, archive_format, cache_dir)\u001b[0m\n\u001b[1;32m    283\u001b[0m   urlretrieve(origin, fpath, DLProgbar())\n\u001b[1;32m    284\u001b[0m \u001b[38;5;28;01mexcept\u001b[39;00m urllib\u001b[38;5;241m.\u001b[39merror\u001b[38;5;241m.\u001b[39mHTTPError \u001b[38;5;28;01mas\u001b[39;00m e:\n\u001b[0;32m--> 285\u001b[0m   \u001b[38;5;28;01mraise\u001b[39;00m \u001b[38;5;167;01mException\u001b[39;00m(error_msg\u001b[38;5;241m.\u001b[39mformat(origin, e\u001b[38;5;241m.\u001b[39mcode, e\u001b[38;5;241m.\u001b[39mmsg))\n\u001b[1;32m    286\u001b[0m \u001b[38;5;28;01mexcept\u001b[39;00m urllib\u001b[38;5;241m.\u001b[39merror\u001b[38;5;241m.\u001b[39mURLError \u001b[38;5;28;01mas\u001b[39;00m e:\n\u001b[1;32m    287\u001b[0m   \u001b[38;5;28;01mraise\u001b[39;00m \u001b[38;5;167;01mException\u001b[39;00m(error_msg\u001b[38;5;241m.\u001b[39mformat(origin, e\u001b[38;5;241m.\u001b[39merrno, e\u001b[38;5;241m.\u001b[39mreason))\n",
      "\u001b[0;31mException\u001b[0m: URL fetch failure on https://storage.googleapis.com/tensorflow/tf-keras-datasets/mnist.npz: 403 -- Forbidden"
     ]
    }
   ],
   "source": [
    "(x_train, y_train), (x_test, y_test) = tf.keras.datasets.mnist.load_data(path=\"mnist.npz\")"
   ]
  },
  {
   "cell_type": "code",
   "execution_count": 3,
   "metadata": {},
   "outputs": [
    {
     "data": {
      "text/plain": [
       "((60000, 28, 28), (60000,), (10000, 28, 28), (10000,))"
      ]
     },
     "execution_count": 3,
     "metadata": {},
     "output_type": "execute_result"
    }
   ],
   "source": [
    "# посмотрим, что у нас имеется:\n",
    "\n",
    "x_train.shape, y_train.shape, x_test.shape, y_test.shape"
   ]
  },
  {
   "cell_type": "code",
   "execution_count": 6,
   "metadata": {},
   "outputs": [
    {
     "data": {
      "text/plain": [
       "<matplotlib.image.AxesImage at 0x2c116142520>"
      ]
     },
     "execution_count": 6,
     "metadata": {},
     "output_type": "execute_result"
    },
    {
     "data": {
      "image/png": "[encoded data removed]",
      "text/plain": [
       "<Figure size 432x288 with 1 Axes>"
      ]
     },
     "metadata": {
      "needs_background": "light"
     },
     "output_type": "display_data"
    }
   ],
   "source": [
    "plt.imshow(x_train[2])"
   ]
  },
  {
   "cell_type": "code",
   "execution_count": 7,
   "metadata": {},
   "outputs": [
    {
     "data": {
      "text/plain": [
       "array([[  0,   0,   0,   0,   0,   0,   0,   0,   0,   0,   0,   0,   0,\n",
       "          0,   0,   0,   0,   0,   0,   0,   0,   0,   0,   0,   0,   0,\n",
       "          0,   0],\n",
       "       [  0,   0,   0,   0,   0,   0,   0,   0,   0,   0,   0,   0,   0,\n",
       "          0,   0,   0,   0,   0,   0,   0,   0,   0,   0,   0,   0,   0,\n",
       "          0,   0],\n",
       "       [  0,   0,   0,   0,   0,   0,   0,   0,   0,   0,   0,   0,   0,\n",
       "          0,   0,   0,   0,   0,   0,   0,   0,   0,   0,   0,   0,   0,\n",
       "          0,   0],\n",
       "       [  0,   0,   0,   0,   0,   0,   0,   0,   0,   0,   0,   0,   0,\n",
       "          0,   0,   0,   0,   0,   0,   0,   0,   0,   0,   0,   0,   0,\n",
       "          0,   0],\n",
       "       [  0,   0,   0,   0,   0,   0,   0,   0,   0,   0,   0,   0,   0,\n",
       "          0,   0,   0,   0,   0,   0,   0,   0,   0,   0,   0,   0,   0,\n",
       "          0,   0],\n",
       "       [  0,   0,   0,   0,   0,   0,   0,   0,   0,   0,   0,   0,   0,\n",
       "          0,   0,   0,   0,   0,   0,   0,  67, 232,  39,   0,   0,   0,\n",
       "          0,   0],\n",
       "       [  0,   0,   0,   0,  62,  81,   0,   0,   0,   0,   0,   0,   0,\n",
       "          0,   0,   0,   0,   0,   0,   0, 120, 180,  39,   0,   0,   0,\n",
       "          0,   0],\n",
       "       [  0,   0,   0,   0, 126, 163,   0,   0,   0,   0,   0,   0,   0,\n",
       "          0,   0,   0,   0,   0,   0,   2, 153, 210,  40,   0,   0,   0,\n",
       "          0,   0],\n",
       "       [  0,   0,   0,   0, 220, 163,   0,   0,   0,   0,   0,   0,   0,\n",
       "          0,   0,   0,   0,   0,   0,  27, 254, 162,   0,   0,   0,   0,\n",
       "          0,   0],\n",
       "       [  0,   0,   0,   0, 222, 163,   0,   0,   0,   0,   0,   0,   0,\n",
       "          0,   0,   0,   0,   0,   0, 183, 254, 125,   0,   0,   0,   0,\n",
       "          0,   0],\n",
       "       [  0,   0,   0,  46, 245, 163,   0,   0,   0,   0,   0,   0,   0,\n",
       "          0,   0,   0,   0,   0,   0, 198, 254,  56,   0,   0,   0,   0,\n",
       "          0,   0],\n",
       "       [  0,   0,   0, 120, 254, 163,   0,   0,   0,   0,   0,   0,   0,\n",
       "          0,   0,   0,   0,   0,  23, 231, 254,  29,   0,   0,   0,   0,\n",
       "          0,   0],\n",
       "       [  0,   0,   0, 159, 254, 120,   0,   0,   0,   0,   0,   0,   0,\n",
       "          0,   0,   0,   0,   0, 163, 254, 216,  16,   0,   0,   0,   0,\n",
       "          0,   0],\n",
       "       [  0,   0,   0, 159, 254,  67,   0,   0,   0,   0,   0,   0,   0,\n",
       "          0,   0,  14,  86, 178, 248, 254,  91,   0,   0,   0,   0,   0,\n",
       "          0,   0],\n",
       "       [  0,   0,   0, 159, 254,  85,   0,   0,   0,  47,  49, 116, 144,\n",
       "        150, 241, 243, 234, 179, 241, 252,  40,   0,   0,   0,   0,   0,\n",
       "          0,   0],\n",
       "       [  0,   0,   0, 150, 253, 237, 207, 207, 207, 253, 254, 250, 240,\n",
       "        198, 143,  91,  28,   5, 233, 250,   0,   0,   0,   0,   0,   0,\n",
       "          0,   0],\n",
       "       [  0,   0,   0,   0, 119, 177, 177, 177, 177, 177,  98,  56,   0,\n",
       "          0,   0,   0,   0, 102, 254, 220,   0,   0,   0,   0,   0,   0,\n",
       "          0,   0],\n",
       "       [  0,   0,   0,   0,   0,   0,   0,   0,   0,   0,   0,   0,   0,\n",
       "          0,   0,   0,   0, 169, 254, 137,   0,   0,   0,   0,   0,   0,\n",
       "          0,   0],\n",
       "       [  0,   0,   0,   0,   0,   0,   0,   0,   0,   0,   0,   0,   0,\n",
       "          0,   0,   0,   0, 169, 254,  57,   0,   0,   0,   0,   0,   0,\n",
       "          0,   0],\n",
       "       [  0,   0,   0,   0,   0,   0,   0,   0,   0,   0,   0,   0,   0,\n",
       "          0,   0,   0,   0, 169, 254,  57,   0,   0,   0,   0,   0,   0,\n",
       "          0,   0],\n",
       "       [  0,   0,   0,   0,   0,   0,   0,   0,   0,   0,   0,   0,   0,\n",
       "          0,   0,   0,   0, 169, 255,  94,   0,   0,   0,   0,   0,   0,\n",
       "          0,   0],\n",
       "       [  0,   0,   0,   0,   0,   0,   0,   0,   0,   0,   0,   0,   0,\n",
       "          0,   0,   0,   0, 169, 254,  96,   0,   0,   0,   0,   0,   0,\n",
       "          0,   0],\n",
       "       [  0,   0,   0,   0,   0,   0,   0,   0,   0,   0,   0,   0,   0,\n",
       "          0,   0,   0,   0, 169, 254, 153,   0,   0,   0,   0,   0,   0,\n",
       "          0,   0],\n",
       "       [  0,   0,   0,   0,   0,   0,   0,   0,   0,   0,   0,   0,   0,\n",
       "          0,   0,   0,   0, 169, 255, 153,   0,   0,   0,   0,   0,   0,\n",
       "          0,   0],\n",
       "       [  0,   0,   0,   0,   0,   0,   0,   0,   0,   0,   0,   0,   0,\n",
       "          0,   0,   0,   0,  96, 254, 153,   0,   0,   0,   0,   0,   0,\n",
       "          0,   0],\n",
       "       [  0,   0,   0,   0,   0,   0,   0,   0,   0,   0,   0,   0,   0,\n",
       "          0,   0,   0,   0,   0,   0,   0,   0,   0,   0,   0,   0,   0,\n",
       "          0,   0],\n",
       "       [  0,   0,   0,   0,   0,   0,   0,   0,   0,   0,   0,   0,   0,\n",
       "          0,   0,   0,   0,   0,   0,   0,   0,   0,   0,   0,   0,   0,\n",
       "          0,   0],\n",
       "       [  0,   0,   0,   0,   0,   0,   0,   0,   0,   0,   0,   0,   0,\n",
       "          0,   0,   0,   0,   0,   0,   0,   0,   0,   0,   0,   0,   0,\n",
       "          0,   0]], dtype=uint8)"
      ]
     },
     "execution_count": 7,
     "metadata": {},
     "output_type": "execute_result"
    }
   ],
   "source": [
    "x_train[2]"
   ]
  },
  {
   "cell_type": "code",
   "execution_count": 8,
   "metadata": {},
   "outputs": [
    {
     "data": {
      "text/plain": [
       "array([5, 0, 4], dtype=uint8)"
      ]
     },
     "execution_count": 8,
     "metadata": {},
     "output_type": "execute_result"
    }
   ],
   "source": [
    "# в ответах приводятся правильные цифры\n",
    "y_train[:3]"
   ]
  },
  {
   "cell_type": "markdown",
   "metadata": {},
   "source": [
    "Для настройки модели отделим от трейна небольшой кусок на валидационный датасет. На нём мы не будем тренировать нейросеть, но именно на него мы будем ориентироваться для оценки работы модели на новых данных."
   ]
  },
  {
   "cell_type": "code",
   "execution_count": 9,
   "metadata": {},
   "outputs": [],
   "source": [
    "val_frac = 0.25\n",
    "\n",
    "x_val = x_train[round((1-val_frac) * len(x_train)):]\n",
    "y_val = y_train[round((1-val_frac) * len(y_train)):]\n",
    "\n",
    "x_train = x_train[:round((1-val_frac) * len(x_train))]\n",
    "y_train = y_train[:round((1-val_frac) * len(y_train))]"
   ]
  },
  {
   "cell_type": "markdown",
   "metadata": {},
   "source": [
    "Давайте начнём с какой-нибудь наивной простой последовательной модели и посмотрим, как она сможет натренироваться на таких данных \"из коробки\".\n",
    "\n",
    "Т.к. мы имеем дело с задачей мультиклассовой классификации (10 классов цифр от 0 до 9), в качестве последнего слоя задаём слой из 10 нейронов с функцией активации Softmax.\n",
    "\n",
    "В качестве функции потерь будем использовать Categorical crossentropy loss. В классическом виде она работает с ответами, закодированными посредством OHE. Если же наши ответы закодированы простым числом, стоит использовать её космитическую модификацию: SparseCategoricalCrossentropy.\n",
    "\n",
    "Первый слой Flatten позволяет \"развернуть\" наши данные, упакованные в матрицу, в обычный линейный массив, который мы сможем привязать к Dense-слою."
   ]
  },
  {
   "cell_type": "code",
   "execution_count": 10,
   "metadata": {},
   "outputs": [
    {
     "name": "stdout",
     "output_type": "stream",
     "text": [
      "Model: \"sequential\"\n",
      "_________________________________________________________________\n",
      "Layer (type)                 Output Shape              Param #   \n",
      "=================================================================\n",
      "flatten (Flatten)            (None, 784)               0         \n",
      "_________________________________________________________________\n",
      "dense (Dense)                (None, 784)               615440    \n",
      "_________________________________________________________________\n",
      "dense_1 (Dense)              (None, 500)               392500    \n",
      "_________________________________________________________________\n",
      "dense_2 (Dense)              (None, 100)               50100     \n",
      "_________________________________________________________________\n",
      "dense_3 (Dense)              (None, 10)                1010      \n",
      "=================================================================\n",
      "Total params: 1,059,050\n",
      "Trainable params: 1,059,050\n",
      "Non-trainable params: 0\n",
      "_________________________________________________________________\n"
     ]
    }
   ],
   "source": [
    "model = tf.keras.models.Sequential([\n",
    "    tf.keras.layers.Flatten(input_shape=(28, 28)),\n",
    "    tf.keras.layers.Dense(28*28, activation='relu'),\n",
    "    tf.keras.layers.Dense(500, activation='relu'),\n",
    "    tf.keras.layers.Dense(100, activation='relu'),\n",
    "    tf.keras.layers.Dense(10, activation='softmax')\n",
    "])\n",
    "\n",
    "model.compile(optimizer=tf.keras.optimizers.Adam(),\n",
    "              loss=tf.keras.losses.SparseCategoricalCrossentropy(),\n",
    "              metrics=['accuracy'])\n",
    "\n",
    "model.summary()"
   ]
  },
  {
   "cell_type": "code",
   "execution_count": 11,
   "metadata": {},
   "outputs": [
    {
     "name": "stdout",
     "output_type": "stream",
     "text": [
      "Epoch 1/50\n",
      "44/44 [==============================] - 7s 154ms/step - loss: 14.0490 - accuracy: 0.6331 - val_loss: 0.7496 - val_accuracy: 0.8023\n",
      "Epoch 2/50\n",
      "44/44 [==============================] - 5s 124ms/step - loss: 0.5386 - accuracy: 0.8635 - val_loss: 0.4329 - val_accuracy: 0.8915\n",
      "Epoch 3/50\n",
      "44/44 [==============================] - 5s 113ms/step - loss: 0.3506 - accuracy: 0.9069 - val_loss: 0.3513 - val_accuracy: 0.9144\n",
      "Epoch 4/50\n",
      "44/44 [==============================] - 5s 111ms/step - loss: 0.2632 - accuracy: 0.9284 - val_loss: 0.3019 - val_accuracy: 0.9248\n",
      "Epoch 5/50\n",
      "44/44 [==============================] - 5s 111ms/step - loss: 0.2026 - accuracy: 0.9436 - val_loss: 0.2754 - val_accuracy: 0.9329\n",
      "Epoch 6/50\n",
      "44/44 [==============================] - 5s 106ms/step - loss: 0.1602 - accuracy: 0.9543 - val_loss: 0.2474 - val_accuracy: 0.9375\n",
      "Epoch 7/50\n",
      "44/44 [==============================] - 5s 105ms/step - loss: 0.1290 - accuracy: 0.9622 - val_loss: 0.2255 - val_accuracy: 0.9432\n",
      "Epoch 8/50\n",
      "44/44 [==============================] - 6s 136ms/step - loss: 0.1042 - accuracy: 0.9686 - val_loss: 0.2261 - val_accuracy: 0.9467\n",
      "Epoch 9/50\n",
      "44/44 [==============================] - 5s 111ms/step - loss: 0.0808 - accuracy: 0.9759 - val_loss: 0.2196 - val_accuracy: 0.9475\n",
      "Epoch 10/50\n",
      "44/44 [==============================] - 5s 111ms/step - loss: 0.0647 - accuracy: 0.9803 - val_loss: 0.2023 - val_accuracy: 0.9518\n",
      "Epoch 11/50\n",
      "44/44 [==============================] - 5s 112ms/step - loss: 0.0519 - accuracy: 0.9844 - val_loss: 0.1960 - val_accuracy: 0.9533\n",
      "Epoch 12/50\n",
      "44/44 [==============================] - 5s 111ms/step - loss: 0.0421 - accuracy: 0.9880 - val_loss: 0.1968 - val_accuracy: 0.9557\n",
      "Epoch 13/50\n",
      "44/44 [==============================] - 5s 114ms/step - loss: 0.0355 - accuracy: 0.9896 - val_loss: 0.1960 - val_accuracy: 0.9569\n",
      "Epoch 14/50\n",
      "44/44 [==============================] - 5s 120ms/step - loss: 0.0306 - accuracy: 0.9910 - val_loss: 0.1926 - val_accuracy: 0.9573\n",
      "Epoch 15/50\n",
      "44/44 [==============================] - 5s 123ms/step - loss: 0.0244 - accuracy: 0.9932 - val_loss: 0.1950 - val_accuracy: 0.9577\n",
      "Epoch 16/50\n",
      "44/44 [==============================] - 5s 118ms/step - loss: 0.0205 - accuracy: 0.9947 - val_loss: 0.1957 - val_accuracy: 0.9588\n",
      "Epoch 17/50\n",
      "44/44 [==============================] - 5s 120ms/step - loss: 0.0173 - accuracy: 0.9954 - val_loss: 0.1914 - val_accuracy: 0.9589\n",
      "Epoch 18/50\n",
      "44/44 [==============================] - 5s 121ms/step - loss: 0.0154 - accuracy: 0.9959 - val_loss: 0.1998 - val_accuracy: 0.9583\n",
      "Epoch 19/50\n",
      "44/44 [==============================] - 5s 120ms/step - loss: 0.0137 - accuracy: 0.9963 - val_loss: 0.1972 - val_accuracy: 0.9601\n",
      "Epoch 20/50\n",
      "44/44 [==============================] - 5s 125ms/step - loss: 0.0118 - accuracy: 0.9969 - val_loss: 0.1967 - val_accuracy: 0.9601\n",
      "Epoch 21/50\n",
      "44/44 [==============================] - 6s 127ms/step - loss: 0.0104 - accuracy: 0.9975 - val_loss: 0.1969 - val_accuracy: 0.9609\n",
      "Epoch 22/50\n",
      "44/44 [==============================] - 6s 126ms/step - loss: 0.0095 - accuracy: 0.9975 - val_loss: 0.1967 - val_accuracy: 0.9619\n",
      "Epoch 23/50\n",
      "44/44 [==============================] - 6s 126ms/step - loss: 0.0087 - accuracy: 0.9978 - val_loss: 0.1964 - val_accuracy: 0.9615\n",
      "Epoch 24/50\n",
      "44/44 [==============================] - 6s 126ms/step - loss: 0.0082 - accuracy: 0.9978 - val_loss: 0.1991 - val_accuracy: 0.9625\n",
      "Epoch 25/50\n",
      "44/44 [==============================] - 6s 130ms/step - loss: 0.0071 - accuracy: 0.9982 - val_loss: 0.2039 - val_accuracy: 0.9620\n",
      "Epoch 26/50\n",
      "44/44 [==============================] - 6s 132ms/step - loss: 0.0065 - accuracy: 0.9984 - val_loss: 0.2035 - val_accuracy: 0.9617\n",
      "Epoch 27/50\n",
      "44/44 [==============================] - 6s 131ms/step - loss: 0.0063 - accuracy: 0.9984 - val_loss: 0.2050 - val_accuracy: 0.9629\n",
      "Epoch 28/50\n",
      "44/44 [==============================] - 6s 129ms/step - loss: 0.0054 - accuracy: 0.9986 - val_loss: 0.2051 - val_accuracy: 0.9629\n",
      "Epoch 29/50\n",
      "44/44 [==============================] - 6s 131ms/step - loss: 0.0049 - accuracy: 0.9987 - val_loss: 0.2034 - val_accuracy: 0.9632\n",
      "Epoch 30/50\n",
      "44/44 [==============================] - 6s 131ms/step - loss: 0.0049 - accuracy: 0.9987 - val_loss: 0.2065 - val_accuracy: 0.9630\n",
      "Epoch 31/50\n",
      "44/44 [==============================] - 6s 129ms/step - loss: 0.0045 - accuracy: 0.9988 - val_loss: 0.2077 - val_accuracy: 0.9628\n",
      "Epoch 32/50\n",
      "44/44 [==============================] - 6s 128ms/step - loss: 0.0042 - accuracy: 0.9989 - val_loss: 0.2063 - val_accuracy: 0.9633\n",
      "Epoch 33/50\n",
      "44/44 [==============================] - 6s 129ms/step - loss: 0.0040 - accuracy: 0.9989 - val_loss: 0.2096 - val_accuracy: 0.9635\n",
      "Epoch 34/50\n",
      "44/44 [==============================] - 6s 147ms/step - loss: 0.0036 - accuracy: 0.9990 - val_loss: 0.2126 - val_accuracy: 0.9637\n",
      "Epoch 35/50\n",
      "44/44 [==============================] - 8s 171ms/step - loss: 0.0033 - accuracy: 0.9991 - val_loss: 0.2170 - val_accuracy: 0.9640\n",
      "Epoch 36/50\n",
      "44/44 [==============================] - 8s 181ms/step - loss: 0.0033 - accuracy: 0.9991 - val_loss: 0.2167 - val_accuracy: 0.9639\n",
      "Epoch 37/50\n",
      "44/44 [==============================] - 8s 171ms/step - loss: 0.0028 - accuracy: 0.9993 - val_loss: 0.2172 - val_accuracy: 0.9643\n",
      "Epoch 38/50\n",
      "44/44 [==============================] - 7s 170ms/step - loss: 0.0027 - accuracy: 0.9993 - val_loss: 0.2158 - val_accuracy: 0.9645\n",
      "Epoch 39/50\n",
      "44/44 [==============================] - 7s 168ms/step - loss: 0.0025 - accuracy: 0.9993 - val_loss: 0.2211 - val_accuracy: 0.9641\n",
      "Epoch 40/50\n",
      "44/44 [==============================] - 8s 173ms/step - loss: 0.0024 - accuracy: 0.9993 - val_loss: 0.2208 - val_accuracy: 0.9646\n",
      "Epoch 41/50\n",
      "44/44 [==============================] - 8s 174ms/step - loss: 0.0024 - accuracy: 0.9994 - val_loss: 0.2207 - val_accuracy: 0.9640\n",
      "Epoch 42/50\n",
      "44/44 [==============================] - 8s 173ms/step - loss: 0.0024 - accuracy: 0.9994 - val_loss: 0.2283 - val_accuracy: 0.9634\n",
      "Epoch 43/50\n",
      "44/44 [==============================] - 8s 179ms/step - loss: 0.0046 - accuracy: 0.9986 - val_loss: 0.2370 - val_accuracy: 0.9613\n",
      "Epoch 44/50\n",
      "44/44 [==============================] - 8s 171ms/step - loss: 0.0297 - accuracy: 0.9909 - val_loss: 0.2371 - val_accuracy: 0.9517\n",
      "Epoch 45/50\n",
      "44/44 [==============================] - 7s 162ms/step - loss: 0.0675 - accuracy: 0.9806 - val_loss: 0.2447 - val_accuracy: 0.9515\n",
      "Epoch 46/50\n",
      "44/44 [==============================] - 7s 157ms/step - loss: 0.0582 - accuracy: 0.9834 - val_loss: 0.2196 - val_accuracy: 0.9623\n",
      "Epoch 47/50\n",
      "44/44 [==============================] - 6s 142ms/step - loss: 0.0333 - accuracy: 0.9894 - val_loss: 0.2365 - val_accuracy: 0.9587\n",
      "Epoch 48/50\n",
      "44/44 [==============================] - 6s 147ms/step - loss: 0.0185 - accuracy: 0.9943 - val_loss: 0.2191 - val_accuracy: 0.9633\n",
      "Epoch 49/50\n",
      "44/44 [==============================] - 6s 144ms/step - loss: 0.0097 - accuracy: 0.9968 - val_loss: 0.1992 - val_accuracy: 0.9680\n",
      "Epoch 50/50\n",
      "44/44 [==============================] - 6s 144ms/step - loss: 0.0056 - accuracy: 0.9983 - val_loss: 0.2017 - val_accuracy: 0.9685\n"
     ]
    }
   ],
   "source": [
    "# натренируем модель на 50 эпохах для начала\n",
    "\n",
    "history = model.fit(x_train, y_train,\n",
    "                    validation_data=(x_val, y_val),\n",
    "                    batch_size=1024,\n",
    "                    epochs=50)"
   ]
  },
  {
   "cell_type": "code",
   "execution_count": 12,
   "metadata": {},
   "outputs": [
    {
     "data": {
      "text/plain": [
       "<matplotlib.legend.Legend at 0x2c116359160>"
      ]
     },
     "execution_count": 12,
     "metadata": {},
     "output_type": "execute_result"
    },
    {
     "data": {
      "image/png": "[encoded data removed]",
      "text/plain": [
       "<Figure size 432x288 with 1 Axes>"
      ]
     },
     "metadata": {
      "needs_background": "light"
     },
     "output_type": "display_data"
    }
   ],
   "source": [
    "# посмотрим, что у нас с графиками значений функции потерь\n",
    "# чтобы не отображать на графике первые самые большие значения,\n",
    "# вырежем из истории самое начало\n",
    "\n",
    "plt.plot(history.history['loss'][2:])\n",
    "plt.plot(history.history['val_loss'][2:])\n",
    "plt.legend(['loss', 'val_loss'])"
   ]
  },
  {
   "cell_type": "markdown",
   "metadata": {},
   "source": [
    "Loss на трейне продолжает снижаться, но на валидации после ~10-й эпохи он снова пошёл вверх. Это классическая ситуация переобучения: наша модель так хорошо \"запомнила\" обучающий датасет, что на новых данных уже даёт худшие результаты.\n",
    "\n",
    "Давайте попробуем добавить слои Batch Normalozation и посмотрим, повлияют ли они как-то на процесс обучения."
   ]
  },
  {
   "cell_type": "code",
   "execution_count": 13,
   "metadata": {},
   "outputs": [
    {
     "name": "stdout",
     "output_type": "stream",
     "text": [
      "Model: \"sequential_1\"\n",
      "_________________________________________________________________\n",
      "Layer (type)                 Output Shape              Param #   \n",
      "=================================================================\n",
      "flatten_1 (Flatten)          (None, 784)               0         \n",
      "_________________________________________________________________\n",
      "batch_normalization (BatchNo (None, 784)               3136      \n",
      "_________________________________________________________________\n",
      "dense_4 (Dense)              (None, 784)               615440    \n",
      "_________________________________________________________________\n",
      "batch_normalization_1 (Batch (None, 784)               3136      \n",
      "_________________________________________________________________\n",
      "dense_5 (Dense)              (None, 500)               392500    \n",
      "_________________________________________________________________\n",
      "batch_normalization_2 (Batch (None, 500)               2000      \n",
      "_________________________________________________________________\n",
      "dense_6 (Dense)              (None, 100)               50100     \n",
      "_________________________________________________________________\n",
      "batch_normalization_3 (Batch (None, 100)               400       \n",
      "_________________________________________________________________\n",
      "dense_7 (Dense)              (None, 10)                1010      \n",
      "=================================================================\n",
      "Total params: 1,067,722\n",
      "Trainable params: 1,063,386\n",
      "Non-trainable params: 4,336\n",
      "_________________________________________________________________\n"
     ]
    }
   ],
   "source": [
    "# Добавляем батчнорм\n",
    "\n",
    "model = tf.keras.models.Sequential([\n",
    "    tf.keras.layers.Flatten(input_shape=(28, 28)),\n",
    "    tf.keras.layers.BatchNormalization(),\n",
    "    tf.keras.layers.Dense(28*28, activation='relu'),\n",
    "    tf.keras.layers.BatchNormalization(),\n",
    "    tf.keras.layers.Dense(500, activation='relu'),\n",
    "    tf.keras.layers.BatchNormalization(),\n",
    "    tf.keras.layers.Dense(100, activation='relu'),\n",
    "    tf.keras.layers.BatchNormalization(),\n",
    "    tf.keras.layers.Dense(10, activation='softmax')\n",
    "])\n",
    "\n",
    "model.compile(optimizer=tf.keras.optimizers.Adam(),\n",
    "              loss=tf.keras.losses.SparseCategoricalCrossentropy(),\n",
    "              metrics=['accuracy'])\n",
    "\n",
    "model.summary()"
   ]
  },
  {
   "cell_type": "markdown",
   "metadata": {},
   "source": [
    "Обратите внимание, что в слоях batch_normalization тоже присутствуют обучаемые параметры. В итоге количество обучаемых параметровв нашей модели слегка увеличилось. Но зато батчнорм можно использовать и без настройки гиперпараметров."
   ]
  },
  {
   "cell_type": "code",
   "execution_count": 14,
   "metadata": {
    "scrolled": true
   },
   "outputs": [
    {
     "name": "stdout",
     "output_type": "stream",
     "text": [
      "Epoch 1/50\n",
      "44/44 [==============================] - 12s 274ms/step - loss: 0.3642 - accuracy: 0.8930 - val_loss: 0.3158 - val_accuracy: 0.9142\n",
      "Epoch 2/50\n",
      "44/44 [==============================] - 10s 236ms/step - loss: 0.0972 - accuracy: 0.9736 - val_loss: 0.2028 - val_accuracy: 0.9494\n",
      "Epoch 3/50\n",
      "44/44 [==============================] - 10s 227ms/step - loss: 0.0510 - accuracy: 0.9875 - val_loss: 0.1587 - val_accuracy: 0.9609\n",
      "Epoch 4/50\n",
      "44/44 [==============================] - 11s 245ms/step - loss: 0.0272 - accuracy: 0.9949 - val_loss: 0.1241 - val_accuracy: 0.9683\n",
      "Epoch 5/50\n",
      "44/44 [==============================] - 7s 160ms/step - loss: 0.0156 - accuracy: 0.9977 - val_loss: 0.1084 - val_accuracy: 0.9696\n",
      "Epoch 6/50\n",
      "44/44 [==============================] - 7s 164ms/step - loss: 0.0103 - accuracy: 0.9987 - val_loss: 0.1051 - val_accuracy: 0.9702\n",
      "Epoch 7/50\n",
      "44/44 [==============================] - 8s 172ms/step - loss: 0.0069 - accuracy: 0.9992 - val_loss: 0.1031 - val_accuracy: 0.9701\n",
      "Epoch 8/50\n",
      "44/44 [==============================] - 7s 154ms/step - loss: 0.0063 - accuracy: 0.9991 - val_loss: 0.1175 - val_accuracy: 0.9698\n",
      "Epoch 9/50\n",
      "44/44 [==============================] - 8s 173ms/step - loss: 0.0061 - accuracy: 0.9991 - val_loss: 0.1105 - val_accuracy: 0.9713\n",
      "Epoch 10/50\n",
      "44/44 [==============================] - 7s 166ms/step - loss: 0.0050 - accuracy: 0.9992 - val_loss: 0.1102 - val_accuracy: 0.9726\n",
      "Epoch 11/50\n",
      "44/44 [==============================] - 7s 156ms/step - loss: 0.0047 - accuracy: 0.9994 - val_loss: 0.1118 - val_accuracy: 0.9729\n",
      "Epoch 12/50\n",
      "44/44 [==============================] - 7s 149ms/step - loss: 0.0031 - accuracy: 0.9996 - val_loss: 0.1283 - val_accuracy: 0.9733\n",
      "Epoch 13/50\n",
      "44/44 [==============================] - 7s 150ms/step - loss: 0.0022 - accuracy: 0.9997 - val_loss: 0.1217 - val_accuracy: 0.9723\n",
      "Epoch 14/50\n",
      "44/44 [==============================] - 7s 150ms/step - loss: 0.0021 - accuracy: 0.9997 - val_loss: 0.1252 - val_accuracy: 0.9743\n",
      "Epoch 15/50\n",
      "44/44 [==============================] - 7s 149ms/step - loss: 0.0016 - accuracy: 0.9998 - val_loss: 0.1278 - val_accuracy: 0.9748\n",
      "Epoch 16/50\n",
      "44/44 [==============================] - 6s 146ms/step - loss: 0.0022 - accuracy: 0.9996 - val_loss: 0.1154 - val_accuracy: 0.9736\n",
      "Epoch 17/50\n",
      "44/44 [==============================] - 7s 148ms/step - loss: 0.0026 - accuracy: 0.9994 - val_loss: 0.1387 - val_accuracy: 0.9727\n",
      "Epoch 18/50\n",
      "44/44 [==============================] - 7s 148ms/step - loss: 0.0016 - accuracy: 0.9999 - val_loss: 0.1434 - val_accuracy: 0.9735\n",
      "Epoch 19/50\n",
      "44/44 [==============================] - 6s 147ms/step - loss: 0.0021 - accuracy: 0.9997 - val_loss: 0.1729 - val_accuracy: 0.9728\n",
      "Epoch 20/50\n",
      "44/44 [==============================] - 7s 155ms/step - loss: 0.0148 - accuracy: 0.9959 - val_loss: 0.1967 - val_accuracy: 0.9680\n",
      "Epoch 21/50\n",
      "44/44 [==============================] - 7s 170ms/step - loss: 0.0133 - accuracy: 0.9960 - val_loss: 0.2127 - val_accuracy: 0.9689\n",
      "Epoch 22/50\n",
      "44/44 [==============================] - 7s 150ms/step - loss: 0.0136 - accuracy: 0.9962 - val_loss: 0.2013 - val_accuracy: 0.9706\n",
      "Epoch 23/50\n",
      "44/44 [==============================] - 7s 158ms/step - loss: 0.0067 - accuracy: 0.9984 - val_loss: 0.1974 - val_accuracy: 0.9731\n",
      "Epoch 24/50\n",
      "44/44 [==============================] - 6s 129ms/step - loss: 0.0040 - accuracy: 0.9990 - val_loss: 0.1883 - val_accuracy: 0.9741\n",
      "Epoch 25/50\n",
      "44/44 [==============================] - 5s 115ms/step - loss: 0.0021 - accuracy: 0.9996 - val_loss: 0.1797 - val_accuracy: 0.9755\n",
      "Epoch 26/50\n",
      "44/44 [==============================] - 5s 121ms/step - loss: 0.0012 - accuracy: 0.9997 - val_loss: 0.1790 - val_accuracy: 0.9761\n",
      "Epoch 27/50\n",
      "44/44 [==============================] - 5s 122ms/step - loss: 9.1411e-04 - accuracy: 0.9998 - val_loss: 0.1684 - val_accuracy: 0.9764\n",
      "Epoch 28/50\n",
      "44/44 [==============================] - 6s 137ms/step - loss: 8.3614e-04 - accuracy: 0.9999 - val_loss: 0.1684 - val_accuracy: 0.9755\n",
      "Epoch 29/50\n",
      "44/44 [==============================] - 7s 150ms/step - loss: 3.4162e-04 - accuracy: 1.0000 - val_loss: 0.1614 - val_accuracy: 0.9766\n",
      "Epoch 30/50\n",
      "44/44 [==============================] - 6s 138ms/step - loss: 2.2642e-04 - accuracy: 1.0000 - val_loss: 0.1619 - val_accuracy: 0.9768\n",
      "Epoch 31/50\n",
      "44/44 [==============================] - 5s 125ms/step - loss: 1.7229e-04 - accuracy: 1.0000 - val_loss: 0.1611 - val_accuracy: 0.9770\n",
      "Epoch 32/50\n",
      "44/44 [==============================] - 5s 125ms/step - loss: 1.5436e-04 - accuracy: 1.0000 - val_loss: 0.1634 - val_accuracy: 0.9773\n",
      "Epoch 33/50\n",
      "44/44 [==============================] - 6s 135ms/step - loss: 1.3457e-04 - accuracy: 1.0000 - val_loss: 0.1635 - val_accuracy: 0.9774\n",
      "Epoch 34/50\n",
      "44/44 [==============================] - 6s 133ms/step - loss: 1.2403e-04 - accuracy: 1.0000 - val_loss: 0.1632 - val_accuracy: 0.9776\n",
      "Epoch 35/50\n",
      "44/44 [==============================] - 5s 118ms/step - loss: 1.2124e-04 - accuracy: 1.0000 - val_loss: 0.1653 - val_accuracy: 0.9776\n",
      "Epoch 36/50\n",
      "44/44 [==============================] - 5s 114ms/step - loss: 1.0655e-04 - accuracy: 1.0000 - val_loss: 0.1664 - val_accuracy: 0.9776\n",
      "Epoch 37/50\n",
      "44/44 [==============================] - 5s 114ms/step - loss: 1.0036e-04 - accuracy: 1.0000 - val_loss: 0.1669 - val_accuracy: 0.9776\n",
      "Epoch 38/50\n",
      "44/44 [==============================] - 5s 115ms/step - loss: 9.5934e-05 - accuracy: 1.0000 - val_loss: 0.1690 - val_accuracy: 0.9777\n",
      "Epoch 39/50\n",
      "44/44 [==============================] - 5s 114ms/step - loss: 0.0011 - accuracy: 0.9998 - val_loss: 0.1684 - val_accuracy: 0.9769\n",
      "Epoch 40/50\n",
      "44/44 [==============================] - 5s 105ms/step - loss: 0.0025 - accuracy: 0.9994 - val_loss: 0.1659 - val_accuracy: 0.9741\n",
      "Epoch 41/50\n",
      "44/44 [==============================] - 5s 108ms/step - loss: 0.0062 - accuracy: 0.9982 - val_loss: 0.1776 - val_accuracy: 0.9716\n",
      "Epoch 42/50\n",
      "44/44 [==============================] - 5s 108ms/step - loss: 0.0125 - accuracy: 0.9962 - val_loss: 0.1635 - val_accuracy: 0.9691\n",
      "Epoch 43/50\n",
      "44/44 [==============================] - 5s 106ms/step - loss: 0.0154 - accuracy: 0.9953 - val_loss: 0.2691 - val_accuracy: 0.9698\n",
      "Epoch 44/50\n",
      "44/44 [==============================] - 5s 107ms/step - loss: 0.0101 - accuracy: 0.9965 - val_loss: 0.2176 - val_accuracy: 0.9733\n",
      "Epoch 45/50\n",
      "44/44 [==============================] - 5s 107ms/step - loss: 0.0057 - accuracy: 0.9985 - val_loss: 0.2121 - val_accuracy: 0.9728\n",
      "Epoch 46/50\n",
      "44/44 [==============================] - 5s 104ms/step - loss: 0.0026 - accuracy: 0.9995 - val_loss: 0.1772 - val_accuracy: 0.9763\n",
      "Epoch 47/50\n",
      "44/44 [==============================] - 5s 107ms/step - loss: 0.0012 - accuracy: 0.9998 - val_loss: 0.1485 - val_accuracy: 0.9776\n",
      "Epoch 48/50\n",
      "44/44 [==============================] - 5s 107ms/step - loss: 5.6776e-04 - accuracy: 0.9999 - val_loss: 0.1443 - val_accuracy: 0.9778\n",
      "Epoch 49/50\n",
      "44/44 [==============================] - 5s 104ms/step - loss: 3.7492e-04 - accuracy: 1.0000 - val_loss: 0.1471 - val_accuracy: 0.9775\n",
      "Epoch 50/50\n",
      "44/44 [==============================] - 5s 102ms/step - loss: 2.2955e-04 - accuracy: 1.0000 - val_loss: 0.1454 - val_accuracy: 0.9781\n"
     ]
    }
   ],
   "source": [
    "# обучаем новую модель\n",
    "\n",
    "history = model.fit(x_train, y_train,\n",
    "                    validation_data=(x_val, y_val),\n",
    "                    batch_size=1024,\n",
    "                    epochs=50)"
   ]
  },
  {
   "cell_type": "code",
   "execution_count": 15,
   "metadata": {},
   "outputs": [
    {
     "data": {
      "text/plain": [
       "<matplotlib.legend.Legend at 0x2c118c5e250>"
      ]
     },
     "execution_count": 15,
     "metadata": {},
     "output_type": "execute_result"
    },
    {
     "data": {
      "image/png": "[encoded data removed]",
      "text/plain": [
       "<Figure size 432x288 with 1 Axes>"
      ]
     },
     "metadata": {
      "needs_background": "light"
     },
     "output_type": "display_data"
    }
   ],
   "source": [
    "# посмотрим, что теперь на графиках\n",
    "\n",
    "plt.plot(history.history['loss'][2:])\n",
    "plt.plot(history.history['val_loss'][2:])\n",
    "plt.legend(['loss', 'val_loss'])"
   ]
  },
  {
   "cell_type": "markdown",
   "metadata": {},
   "source": [
    "Как можно видеть из графиков, батчнорм ускорил обучение: модель доходит до своего лучшего состояния уже примерно за ~5 эпох. Более того, дальше на трейне модель обучается настолько хорошо, что запоминает 100% данных: Loss уходит в ноль, а метрика возрастает до единицы. \n",
    "\n",
    "Это плохая ситуация, ведь из-за такого переобучения наша точность на валидации снижается. Модель получилась достаточно сложная, раз она может всё запомнить. Есть смысл попробовать её немного упростить (например, выкинув какие-то слои). Заодно давайте и добавим коллбэк EarlyStopping, чтобы не ждать каждый раз все 50 эпох. "
   ]
  },
  {
   "cell_type": "code",
   "execution_count": 17,
   "metadata": {},
   "outputs": [],
   "source": [
    "# в новой модели выкинем самый большой слой (и соответствующий ему батчнорм)\n",
    "\n",
    "model = tf.keras.models.Sequential([\n",
    "    tf.keras.layers.Flatten(input_shape=(28, 28)),\n",
    "    tf.keras.layers.BatchNormalization(),\n",
    "    tf.keras.layers.Dense(28*28, activation='relu'),\n",
    "    tf.keras.layers.BatchNormalization(),\n",
    "    # тут был слой на 500 нейронов\n",
    "    tf.keras.layers.Dense(100, activation='relu'),\n",
    "    tf.keras.layers.BatchNormalization(),\n",
    "    tf.keras.layers.Dense(10, activation='softmax')\n",
    "])\n",
    "\n",
    "model.compile(optimizer=tf.keras.optimizers.Adam(),\n",
    "              loss=tf.keras.losses.SparseCategoricalCrossentropy(),\n",
    "              metrics=['accuracy'])"
   ]
  },
  {
   "cell_type": "code",
   "execution_count": 18,
   "metadata": {},
   "outputs": [
    {
     "name": "stdout",
     "output_type": "stream",
     "text": [
      "Epoch 1/50\n",
      "44/44 [==============================] - 5s 113ms/step - loss: 0.3994 - accuracy: 0.8787 - val_loss: 0.2341 - val_accuracy: 0.9301\n",
      "Epoch 2/50\n",
      "44/44 [==============================] - 5s 104ms/step - loss: 0.1291 - accuracy: 0.9644 - val_loss: 0.1780 - val_accuracy: 0.9516\n",
      "Epoch 3/50\n",
      "44/44 [==============================] - 5s 103ms/step - loss: 0.0788 - accuracy: 0.9796 - val_loss: 0.1513 - val_accuracy: 0.9613\n",
      "Epoch 4/50\n",
      "44/44 [==============================] - 5s 104ms/step - loss: 0.0479 - accuracy: 0.9890 - val_loss: 0.1243 - val_accuracy: 0.9683\n",
      "Epoch 5/50\n",
      "44/44 [==============================] - 5s 104ms/step - loss: 0.0296 - accuracy: 0.9950 - val_loss: 0.1143 - val_accuracy: 0.9693\n",
      "Epoch 6/50\n",
      "44/44 [==============================] - 4s 102ms/step - loss: 0.0178 - accuracy: 0.9978 - val_loss: 0.1061 - val_accuracy: 0.9701\n",
      "Epoch 7/50\n",
      "44/44 [==============================] - 5s 103ms/step - loss: 0.0115 - accuracy: 0.9990 - val_loss: 0.1033 - val_accuracy: 0.9713\n",
      "Epoch 8/50\n",
      "44/44 [==============================] - 5s 103ms/step - loss: 0.0088 - accuracy: 0.9991 - val_loss: 0.1064 - val_accuracy: 0.9711\n",
      "Epoch 9/50\n",
      "44/44 [==============================] - 5s 102ms/step - loss: 0.0062 - accuracy: 0.9994 - val_loss: 0.1098 - val_accuracy: 0.9710\n",
      "Epoch 00009: early stopping\n"
     ]
    }
   ],
   "source": [
    "# в параметре monitor у EarlyStopping укажем величину, которую будем пониторить\n",
    "# а в параметре patience - количество эпох, в ходе которых эта величина не должна улучшаться\n",
    "\n",
    "stopping = tf.keras.callbacks.EarlyStopping(monitor='val_loss',\n",
    "                                            patience=2,\n",
    "                                            verbose=1)\n",
    "\n",
    "history = model.fit(x_train, y_train,\n",
    "                    validation_data=(x_val, y_val),\n",
    "                    batch_size=1024,\n",
    "                    epochs=50,\n",
    "                    callbacks=[stopping]) # добавляем коллбэк в цикл обучения"
   ]
  },
  {
   "cell_type": "code",
   "execution_count": 19,
   "metadata": {},
   "outputs": [
    {
     "data": {
      "text/plain": [
       "<matplotlib.legend.Legend at 0x2c1184afe20>"
      ]
     },
     "execution_count": 19,
     "metadata": {},
     "output_type": "execute_result"
    },
    {
     "data": {
      "image/png": "[encoded data removed]",
      "text/plain": [
       "<Figure size 432x288 with 1 Axes>"
      ]
     },
     "metadata": {
      "needs_background": "light"
     },
     "output_type": "display_data"
    }
   ],
   "source": [
    "plt.plot(history.history['loss'][2:])\n",
    "plt.plot(history.history['val_loss'][2:])\n",
    "plt.legend(['loss', 'val_loss'])"
   ]
  },
  {
   "cell_type": "markdown",
   "metadata": {},
   "source": [
    "Теперь не обязательно ждать: обучение само останавливается, когда начинается оверфиттинг.\n",
    "\n",
    "Давайте попробуем добавить дропаут и посмотрим, как это повлияет на наш процесс обучения."
   ]
  },
  {
   "cell_type": "code",
   "execution_count": 20,
   "metadata": {},
   "outputs": [],
   "source": [
    "# добавялем дропаут в после промежуточных слоёв\n",
    "\n",
    "model = tf.keras.models.Sequential([\n",
    "    tf.keras.layers.Flatten(input_shape=(28, 28)),\n",
    "    tf.keras.layers.BatchNormalization(),\n",
    "    tf.keras.layers.Dense(28*28, activation='relu'),\n",
    "    tf.keras.layers.BatchNormalization(),\n",
    "    tf.keras.layers.Dropout(0.5),\n",
    "    tf.keras.layers.Dense(100, activation='relu'),\n",
    "    tf.keras.layers.BatchNormalization(),\n",
    "    tf.keras.layers.Dropout(0.5),\n",
    "    tf.keras.layers.Dense(10, activation='softmax')\n",
    "])\n",
    "\n",
    "model.compile(optimizer=tf.keras.optimizers.Adam(),\n",
    "              loss=tf.keras.losses.SparseCategoricalCrossentropy(),\n",
    "              metrics=['accuracy'])"
   ]
  },
  {
   "cell_type": "code",
   "execution_count": 21,
   "metadata": {},
   "outputs": [
    {
     "name": "stdout",
     "output_type": "stream",
     "text": [
      "Epoch 1/50\n",
      "44/44 [==============================] - 10s 216ms/step - loss: 0.7254 - accuracy: 0.7860 - val_loss: 0.3373 - val_accuracy: 0.9047\n",
      "Epoch 2/50\n",
      "44/44 [==============================] - 8s 177ms/step - loss: 0.3136 - accuracy: 0.9081 - val_loss: 0.2001 - val_accuracy: 0.9421\n",
      "Epoch 3/50\n",
      "44/44 [==============================] - 8s 171ms/step - loss: 0.2392 - accuracy: 0.9283 - val_loss: 0.1593 - val_accuracy: 0.9531\n",
      "Epoch 4/50\n",
      "44/44 [==============================] - 10s 220ms/step - loss: 0.1968 - accuracy: 0.9409 - val_loss: 0.1389 - val_accuracy: 0.9595\n",
      "Epoch 5/50\n",
      "44/44 [==============================] - 7s 153ms/step - loss: 0.1637 - accuracy: 0.9514 - val_loss: 0.1273 - val_accuracy: 0.9624\n",
      "Epoch 6/50\n",
      "44/44 [==============================] - 7s 150ms/step - loss: 0.1397 - accuracy: 0.9579 - val_loss: 0.1209 - val_accuracy: 0.9639\n",
      "Epoch 7/50\n",
      "44/44 [==============================] - 6s 138ms/step - loss: 0.1197 - accuracy: 0.9642 - val_loss: 0.1111 - val_accuracy: 0.9669\n",
      "Epoch 8/50\n",
      "44/44 [==============================] - 5s 112ms/step - loss: 0.1056 - accuracy: 0.9683 - val_loss: 0.1121 - val_accuracy: 0.9677\n",
      "Epoch 9/50\n",
      "44/44 [==============================] - 9s 209ms/step - loss: 0.0946 - accuracy: 0.9705 - val_loss: 0.1016 - val_accuracy: 0.9700\n",
      "Epoch 10/50\n",
      "44/44 [==============================] - 10s 225ms/step - loss: 0.0848 - accuracy: 0.9733 - val_loss: 0.1007 - val_accuracy: 0.9713\n",
      "Epoch 11/50\n",
      "44/44 [==============================] - 9s 208ms/step - loss: 0.0757 - accuracy: 0.9771 - val_loss: 0.0967 - val_accuracy: 0.9733\n",
      "Epoch 12/50\n",
      "44/44 [==============================] - 8s 178ms/step - loss: 0.0662 - accuracy: 0.9798 - val_loss: 0.0957 - val_accuracy: 0.9741\n",
      "Epoch 13/50\n",
      "44/44 [==============================] - 10s 222ms/step - loss: 0.0602 - accuracy: 0.9820 - val_loss: 0.0966 - val_accuracy: 0.9742\n",
      "Epoch 14/50\n",
      "44/44 [==============================] - 9s 204ms/step - loss: 0.0543 - accuracy: 0.9836 - val_loss: 0.0972 - val_accuracy: 0.9738\n",
      "Epoch 00014: early stopping\n"
     ]
    }
   ],
   "source": [
    "history = model.fit(x_train, y_train,\n",
    "                    validation_data=(x_val, y_val),\n",
    "                    batch_size=1024,\n",
    "                    epochs=50,\n",
    "                    callbacks=[stopping]) # а коллбэк у нас уже создан"
   ]
  },
  {
   "cell_type": "code",
   "execution_count": 22,
   "metadata": {},
   "outputs": [
    {
     "data": {
      "text/plain": [
       "<matplotlib.legend.Legend at 0x2c11d20f850>"
      ]
     },
     "execution_count": 22,
     "metadata": {},
     "output_type": "execute_result"
    },
    {
     "data": {
      "image/png": "[encoded data removed]",
      "text/plain": [
       "<Figure size 432x288 with 1 Axes>"
      ]
     },
     "metadata": {
      "needs_background": "light"
     },
     "output_type": "display_data"
    }
   ],
   "source": [
    "plt.plot(history.history['loss'][2:])\n",
    "plt.plot(history.history['val_loss'][2:])\n",
    "plt.legend(['loss', 'val_loss'])"
   ]
  },
  {
   "cell_type": "code",
   "execution_count": 23,
   "metadata": {},
   "outputs": [
    {
     "data": {
      "text/plain": [
       "<matplotlib.legend.Legend at 0x2c11ed33880>"
      ]
     },
     "execution_count": 23,
     "metadata": {},
     "output_type": "execute_result"
    },
    {
     "data": {
      "image/png": "[encoded data removed]",
      "text/plain": [
       "<Figure size 432x288 with 1 Axes>"
      ]
     },
     "metadata": {
      "needs_background": "light"
     },
     "output_type": "display_data"
    }
   ],
   "source": [
    "plt.plot(history.history['accuracy'][2:])\n",
    "plt.plot(history.history['val_accuracy'][2:])\n",
    "plt.legend(['accuracy', 'val_accuracy'])"
   ]
  },
  {
   "cell_type": "markdown",
   "metadata": {},
   "source": [
    "В начале обучения точность на вализации даже лучше, чем на трейне. Это типичная ситуация при использовании дропаута: ведь на трейне у в модели выключаются некоторые нейроны, а на валидации модель работает \"на полную\". \n",
    "\n",
    "Что ж, значение дропаута 0.5 мы поставили \"пальцем в небо\", а это всё-таки гиперпараметр, который может повлиять на работу модели. Давайте попробуем натренировать много разных моделей с разными значениями дропаута и посмотрим, какая из них покажет себя лучше всего."
   ]
  },
  {
   "cell_type": "code",
   "execution_count": 24,
   "metadata": {},
   "outputs": [
    {
     "name": "stdout",
     "output_type": "stream",
     "text": [
      "Epoch 1/50\n",
      "44/44 [==============================] - 6s 145ms/step - loss: 0.4056 - accuracy: 0.8775 - val_loss: 0.2377 - val_accuracy: 0.9303\n",
      "Epoch 2/50\n",
      "44/44 [==============================] - 5s 120ms/step - loss: 0.1321 - accuracy: 0.9633 - val_loss: 0.1795 - val_accuracy: 0.9505\n",
      "Epoch 3/50\n",
      "44/44 [==============================] - 5s 120ms/step - loss: 0.0805 - accuracy: 0.9790 - val_loss: 0.1521 - val_accuracy: 0.9605\n",
      "Epoch 4/50\n",
      "44/44 [==============================] - 5s 119ms/step - loss: 0.0496 - accuracy: 0.9888 - val_loss: 0.1259 - val_accuracy: 0.9689\n",
      "Epoch 5/50\n",
      "44/44 [==============================] - 5s 121ms/step - loss: 0.0302 - accuracy: 0.9943 - val_loss: 0.1222 - val_accuracy: 0.9673\n",
      "Epoch 6/50\n",
      "44/44 [==============================] - 5s 120ms/step - loss: 0.0187 - accuracy: 0.9974 - val_loss: 0.1109 - val_accuracy: 0.9703\n",
      "Epoch 7/50\n",
      "44/44 [==============================] - 5s 118ms/step - loss: 0.0122 - accuracy: 0.9986 - val_loss: 0.1114 - val_accuracy: 0.9715\n",
      "Epoch 8/50\n",
      "44/44 [==============================] - 5s 120ms/step - loss: 0.0101 - accuracy: 0.9989 - val_loss: 0.1144 - val_accuracy: 0.9711\n",
      "Epoch 00008: early stopping\n",
      "Epoch 1/50\n",
      "44/44 [==============================] - 6s 142ms/step - loss: 0.4539 - accuracy: 0.8644 - val_loss: 0.2370 - val_accuracy: 0.9298\n",
      "Epoch 2/50\n",
      "44/44 [==============================] - 5s 122ms/step - loss: 0.1552 - accuracy: 0.9550 - val_loss: 0.1790 - val_accuracy: 0.9497\n",
      "Epoch 3/50\n",
      "44/44 [==============================] - 5s 121ms/step - loss: 0.1030 - accuracy: 0.9717 - val_loss: 0.1400 - val_accuracy: 0.9635\n",
      "Epoch 4/50\n",
      "44/44 [==============================] - 5s 122ms/step - loss: 0.0709 - accuracy: 0.9810 - val_loss: 0.1163 - val_accuracy: 0.9688\n",
      "Epoch 5/50\n",
      "44/44 [==============================] - 5s 122ms/step - loss: 0.0502 - accuracy: 0.9870 - val_loss: 0.1130 - val_accuracy: 0.9695\n",
      "Epoch 6/50\n",
      "44/44 [==============================] - 5s 122ms/step - loss: 0.0372 - accuracy: 0.9904 - val_loss: 0.1090 - val_accuracy: 0.9701\n",
      "Epoch 7/50\n",
      "44/44 [==============================] - 5s 121ms/step - loss: 0.0264 - accuracy: 0.9944 - val_loss: 0.1036 - val_accuracy: 0.9723\n",
      "Epoch 8/50\n",
      "44/44 [==============================] - 5s 121ms/step - loss: 0.0198 - accuracy: 0.9962 - val_loss: 0.1050 - val_accuracy: 0.9727\n",
      "Epoch 9/50\n",
      "44/44 [==============================] - 5s 124ms/step - loss: 0.0149 - accuracy: 0.9973 - val_loss: 0.1017 - val_accuracy: 0.9743\n",
      "Epoch 10/50\n",
      "44/44 [==============================] - 5s 122ms/step - loss: 0.0119 - accuracy: 0.9978 - val_loss: 0.1054 - val_accuracy: 0.9734\n",
      "Epoch 11/50\n",
      "44/44 [==============================] - 5s 120ms/step - loss: 0.0101 - accuracy: 0.9981 - val_loss: 0.1092 - val_accuracy: 0.9733\n",
      "Epoch 00011: early stopping\n",
      "Epoch 1/50\n",
      "44/44 [==============================] - 6s 132ms/step - loss: 0.4696 - accuracy: 0.8588 - val_loss: 0.2665 - val_accuracy: 0.9209\n",
      "Epoch 2/50\n",
      "44/44 [==============================] - 5s 123ms/step - loss: 0.1785 - accuracy: 0.9468 - val_loss: 0.1710 - val_accuracy: 0.9504\n",
      "Epoch 3/50\n",
      "44/44 [==============================] - 5s 121ms/step - loss: 0.1253 - accuracy: 0.9634 - val_loss: 0.1363 - val_accuracy: 0.9618\n",
      "Epoch 4/50\n",
      "44/44 [==============================] - 5s 119ms/step - loss: 0.0922 - accuracy: 0.9725 - val_loss: 0.1193 - val_accuracy: 0.9679\n",
      "Epoch 5/50\n",
      "44/44 [==============================] - 5s 121ms/step - loss: 0.0685 - accuracy: 0.9806 - val_loss: 0.1117 - val_accuracy: 0.9701\n",
      "Epoch 6/50\n",
      "44/44 [==============================] - 5s 121ms/step - loss: 0.0535 - accuracy: 0.9843 - val_loss: 0.1103 - val_accuracy: 0.9706\n",
      "Epoch 7/50\n",
      "44/44 [==============================] - 5s 121ms/step - loss: 0.0430 - accuracy: 0.9872 - val_loss: 0.1084 - val_accuracy: 0.9718\n",
      "Epoch 8/50\n",
      "44/44 [==============================] - 5s 121ms/step - loss: 0.0334 - accuracy: 0.9916 - val_loss: 0.1056 - val_accuracy: 0.9736\n",
      "Epoch 9/50\n",
      "44/44 [==============================] - 5s 123ms/step - loss: 0.0269 - accuracy: 0.9922 - val_loss: 0.1130 - val_accuracy: 0.9739\n",
      "Epoch 10/50\n",
      "44/44 [==============================] - 5s 122ms/step - loss: 0.0214 - accuracy: 0.9949 - val_loss: 0.1224 - val_accuracy: 0.9733\n",
      "Epoch 00010: early stopping\n",
      "Epoch 1/50\n",
      "44/44 [==============================] - 6s 135ms/step - loss: 0.5368 - accuracy: 0.8382 - val_loss: 0.2509 - val_accuracy: 0.9263\n",
      "Epoch 2/50\n",
      "44/44 [==============================] - 5s 124ms/step - loss: 0.2152 - accuracy: 0.9362 - val_loss: 0.1746 - val_accuracy: 0.9503\n",
      "Epoch 3/50\n",
      "44/44 [==============================] - 5s 124ms/step - loss: 0.1559 - accuracy: 0.9539 - val_loss: 0.1408 - val_accuracy: 0.9589\n",
      "Epoch 4/50\n",
      "44/44 [==============================] - 5s 123ms/step - loss: 0.1208 - accuracy: 0.9646 - val_loss: 0.1277 - val_accuracy: 0.9643\n",
      "Epoch 5/50\n",
      "44/44 [==============================] - 5s 123ms/step - loss: 0.0948 - accuracy: 0.9716 - val_loss: 0.1187 - val_accuracy: 0.9677\n",
      "Epoch 6/50\n",
      "44/44 [==============================] - 5s 124ms/step - loss: 0.0759 - accuracy: 0.9777 - val_loss: 0.1147 - val_accuracy: 0.9669\n",
      "Epoch 7/50\n",
      "44/44 [==============================] - 5s 122ms/step - loss: 0.0614 - accuracy: 0.9817 - val_loss: 0.1083 - val_accuracy: 0.9702\n",
      "Epoch 8/50\n",
      "44/44 [==============================] - 5s 124ms/step - loss: 0.0498 - accuracy: 0.9847 - val_loss: 0.1137 - val_accuracy: 0.9697\n",
      "Epoch 9/50\n",
      "44/44 [==============================] - 5s 124ms/step - loss: 0.0425 - accuracy: 0.9873 - val_loss: 0.1086 - val_accuracy: 0.9731\n",
      "Epoch 00009: early stopping\n",
      "Epoch 1/50\n",
      "44/44 [==============================] - 6s 134ms/step - loss: 0.6216 - accuracy: 0.8141 - val_loss: 0.2840 - val_accuracy: 0.9157\n",
      "Epoch 2/50\n",
      "44/44 [==============================] - 5s 121ms/step - loss: 0.2577 - accuracy: 0.9236 - val_loss: 0.1850 - val_accuracy: 0.9455\n",
      "Epoch 3/50\n",
      "44/44 [==============================] - 5s 122ms/step - loss: 0.1921 - accuracy: 0.9415 - val_loss: 0.1499 - val_accuracy: 0.9550\n",
      "Epoch 4/50\n",
      "44/44 [==============================] - 5s 122ms/step - loss: 0.1542 - accuracy: 0.9544 - val_loss: 0.1336 - val_accuracy: 0.9601\n",
      "Epoch 5/50\n",
      "44/44 [==============================] - 5s 123ms/step - loss: 0.1262 - accuracy: 0.9615 - val_loss: 0.1229 - val_accuracy: 0.9633\n",
      "Epoch 6/50\n",
      "44/44 [==============================] - 5s 122ms/step - loss: 0.1037 - accuracy: 0.9687 - val_loss: 0.1169 - val_accuracy: 0.9667\n",
      "Epoch 7/50\n",
      "44/44 [==============================] - 5s 122ms/step - loss: 0.0878 - accuracy: 0.9733 - val_loss: 0.1145 - val_accuracy: 0.9691\n",
      "Epoch 8/50\n",
      "44/44 [==============================] - 5s 122ms/step - loss: 0.0758 - accuracy: 0.9764 - val_loss: 0.1246 - val_accuracy: 0.9695\n",
      "Epoch 9/50\n",
      "44/44 [==============================] - 5s 119ms/step - loss: 0.0644 - accuracy: 0.9798 - val_loss: 0.1167 - val_accuracy: 0.9718\n",
      "Epoch 00009: early stopping\n",
      "Epoch 1/50\n",
      "44/44 [==============================] - 6s 133ms/step - loss: 0.7319 - accuracy: 0.7829 - val_loss: 0.3150 - val_accuracy: 0.9077\n",
      "Epoch 2/50\n",
      "44/44 [==============================] - 5s 124ms/step - loss: 0.3095 - accuracy: 0.9064 - val_loss: 0.1986 - val_accuracy: 0.9408\n",
      "Epoch 3/50\n",
      "44/44 [==============================] - 5s 121ms/step - loss: 0.2425 - accuracy: 0.9268 - val_loss: 0.1595 - val_accuracy: 0.9529\n",
      "Epoch 4/50\n",
      "44/44 [==============================] - 5s 120ms/step - loss: 0.1998 - accuracy: 0.9400 - val_loss: 0.1407 - val_accuracy: 0.9576\n",
      "Epoch 5/50\n",
      "44/44 [==============================] - 5s 122ms/step - loss: 0.1691 - accuracy: 0.9495 - val_loss: 0.1354 - val_accuracy: 0.9599\n",
      "Epoch 6/50\n",
      "44/44 [==============================] - 5s 123ms/step - loss: 0.1450 - accuracy: 0.9568 - val_loss: 0.1213 - val_accuracy: 0.9643\n",
      "Epoch 7/50\n",
      "44/44 [==============================] - 5s 122ms/step - loss: 0.1258 - accuracy: 0.9619 - val_loss: 0.1170 - val_accuracy: 0.9672\n",
      "Epoch 8/50\n",
      "44/44 [==============================] - 5s 123ms/step - loss: 0.1090 - accuracy: 0.9674 - val_loss: 0.1216 - val_accuracy: 0.9683\n",
      "Epoch 9/50\n",
      "44/44 [==============================] - 5s 121ms/step - loss: 0.0965 - accuracy: 0.9706 - val_loss: 0.1202 - val_accuracy: 0.9702\n",
      "Epoch 00009: early stopping\n",
      "Epoch 1/50\n",
      "44/44 [==============================] - 6s 131ms/step - loss: 0.9482 - accuracy: 0.7258 - val_loss: 0.4210 - val_accuracy: 0.8852\n",
      "Epoch 2/50\n",
      "44/44 [==============================] - 5s 120ms/step - loss: 0.4035 - accuracy: 0.8793 - val_loss: 0.2247 - val_accuracy: 0.9325\n",
      "Epoch 3/50\n",
      "44/44 [==============================] - 5s 119ms/step - loss: 0.3165 - accuracy: 0.9060 - val_loss: 0.1804 - val_accuracy: 0.9463\n",
      "Epoch 4/50\n",
      "44/44 [==============================] - 5s 119ms/step - loss: 0.2649 - accuracy: 0.9204 - val_loss: 0.1594 - val_accuracy: 0.9519\n",
      "Epoch 5/50\n",
      "44/44 [==============================] - 5s 121ms/step - loss: 0.2288 - accuracy: 0.9325 - val_loss: 0.1466 - val_accuracy: 0.9552\n",
      "Epoch 6/50\n",
      "44/44 [==============================] - 5s 122ms/step - loss: 0.1984 - accuracy: 0.9416 - val_loss: 0.1335 - val_accuracy: 0.9585\n",
      "Epoch 7/50\n",
      "44/44 [==============================] - 5s 119ms/step - loss: 0.1735 - accuracy: 0.9479 - val_loss: 0.1265 - val_accuracy: 0.9613\n",
      "Epoch 8/50\n",
      "44/44 [==============================] - 6s 125ms/step - loss: 0.1553 - accuracy: 0.9537 - val_loss: 0.1218 - val_accuracy: 0.9639\n",
      "Epoch 9/50\n",
      "44/44 [==============================] - 5s 122ms/step - loss: 0.1398 - accuracy: 0.9571 - val_loss: 0.1138 - val_accuracy: 0.9661\n",
      "Epoch 10/50\n",
      "44/44 [==============================] - 5s 121ms/step - loss: 0.1288 - accuracy: 0.9624 - val_loss: 0.1117 - val_accuracy: 0.9666\n",
      "Epoch 11/50\n",
      "44/44 [==============================] - 5s 120ms/step - loss: 0.1183 - accuracy: 0.9654 - val_loss: 0.1079 - val_accuracy: 0.9689\n",
      "Epoch 12/50\n",
      "44/44 [==============================] - 5s 120ms/step - loss: 0.1055 - accuracy: 0.9688 - val_loss: 0.1095 - val_accuracy: 0.9689\n",
      "Epoch 13/50\n",
      "44/44 [==============================] - 5s 119ms/step - loss: 0.0981 - accuracy: 0.9703 - val_loss: 0.1080 - val_accuracy: 0.9712\n",
      "Epoch 00013: early stopping\n",
      "Epoch 1/50\n",
      "44/44 [==============================] - 6s 133ms/step - loss: 1.2320 - accuracy: 0.6511 - val_loss: 0.4774 - val_accuracy: 0.8746\n",
      "Epoch 2/50\n",
      "44/44 [==============================] - 5s 120ms/step - loss: 0.5555 - accuracy: 0.8342 - val_loss: 0.2869 - val_accuracy: 0.9161\n",
      "Epoch 3/50\n",
      "44/44 [==============================] - 5s 120ms/step - loss: 0.4369 - accuracy: 0.8703 - val_loss: 0.2264 - val_accuracy: 0.9335\n",
      "Epoch 4/50\n",
      "44/44 [==============================] - 5s 122ms/step - loss: 0.3757 - accuracy: 0.8903 - val_loss: 0.1983 - val_accuracy: 0.9403\n",
      "Epoch 5/50\n",
      "44/44 [==============================] - 5s 121ms/step - loss: 0.3238 - accuracy: 0.9055 - val_loss: 0.1801 - val_accuracy: 0.9461\n",
      "Epoch 6/50\n",
      "44/44 [==============================] - 5s 121ms/step - loss: 0.2881 - accuracy: 0.9174 - val_loss: 0.1663 - val_accuracy: 0.9504\n",
      "Epoch 7/50\n",
      "44/44 [==============================] - 5s 120ms/step - loss: 0.2556 - accuracy: 0.9262 - val_loss: 0.1543 - val_accuracy: 0.9551\n",
      "Epoch 8/50\n",
      "44/44 [==============================] - 5s 121ms/step - loss: 0.2363 - accuracy: 0.9324 - val_loss: 0.1455 - val_accuracy: 0.9565\n",
      "Epoch 9/50\n",
      "44/44 [==============================] - 5s 121ms/step - loss: 0.2105 - accuracy: 0.9391 - val_loss: 0.1397 - val_accuracy: 0.9599\n",
      "Epoch 10/50\n",
      "44/44 [==============================] - 5s 121ms/step - loss: 0.1977 - accuracy: 0.9430 - val_loss: 0.1346 - val_accuracy: 0.9627\n",
      "Epoch 11/50\n",
      "44/44 [==============================] - 5s 122ms/step - loss: 0.1829 - accuracy: 0.9468 - val_loss: 0.1327 - val_accuracy: 0.9636\n",
      "Epoch 12/50\n",
      "44/44 [==============================] - 5s 119ms/step - loss: 0.1685 - accuracy: 0.9524 - val_loss: 0.1343 - val_accuracy: 0.9651\n",
      "Epoch 13/50\n",
      "44/44 [==============================] - 5s 120ms/step - loss: 0.1630 - accuracy: 0.9529 - val_loss: 0.1415 - val_accuracy: 0.9672\n",
      "Epoch 00013: early stopping\n",
      "Epoch 1/50\n",
      "44/44 [==============================] - 6s 136ms/step - loss: 1.9984 - accuracy: 0.4823 - val_loss: 0.6600 - val_accuracy: 0.8257\n",
      "Epoch 2/50\n",
      "44/44 [==============================] - 5s 117ms/step - loss: 0.9041 - accuracy: 0.7227 - val_loss: 0.3647 - val_accuracy: 0.8917\n",
      "Epoch 3/50\n",
      "44/44 [==============================] - 6s 132ms/step - loss: 0.6890 - accuracy: 0.7918 - val_loss: 0.2894 - val_accuracy: 0.9148\n",
      "Epoch 4/50\n",
      "44/44 [==============================] - 6s 140ms/step - loss: 0.5872 - accuracy: 0.8262 - val_loss: 0.2562 - val_accuracy: 0.9227\n",
      "Epoch 5/50\n",
      "44/44 [==============================] - 6s 140ms/step - loss: 0.5210 - accuracy: 0.8486 - val_loss: 0.2346 - val_accuracy: 0.9301\n",
      "Epoch 6/50\n",
      "44/44 [==============================] - 6s 132ms/step - loss: 0.4704 - accuracy: 0.8652 - val_loss: 0.2185 - val_accuracy: 0.9352\n",
      "Epoch 7/50\n",
      "44/44 [==============================] - 6s 138ms/step - loss: 0.4274 - accuracy: 0.8794 - val_loss: 0.2065 - val_accuracy: 0.9386\n",
      "Epoch 8/50\n",
      "44/44 [==============================] - 6s 127ms/step - loss: 0.3952 - accuracy: 0.8902 - val_loss: 0.1960 - val_accuracy: 0.9423\n",
      "Epoch 9/50\n",
      "44/44 [==============================] - 5s 121ms/step - loss: 0.3688 - accuracy: 0.8976 - val_loss: 0.1853 - val_accuracy: 0.9458\n",
      "Epoch 10/50\n",
      "44/44 [==============================] - 5s 125ms/step - loss: 0.3430 - accuracy: 0.9054 - val_loss: 0.1787 - val_accuracy: 0.9482\n",
      "Epoch 11/50\n",
      "44/44 [==============================] - 6s 128ms/step - loss: 0.3254 - accuracy: 0.9089 - val_loss: 0.1707 - val_accuracy: 0.9513\n",
      "Epoch 12/50\n",
      "44/44 [==============================] - 6s 128ms/step - loss: 0.3051 - accuracy: 0.9153 - val_loss: 0.1656 - val_accuracy: 0.9530\n",
      "Epoch 13/50\n",
      "44/44 [==============================] - 6s 126ms/step - loss: 0.2907 - accuracy: 0.9192 - val_loss: 0.1586 - val_accuracy: 0.9559\n",
      "Epoch 14/50\n",
      "44/44 [==============================] - 5s 120ms/step - loss: 0.2764 - accuracy: 0.9245 - val_loss: 0.1567 - val_accuracy: 0.9573\n",
      "Epoch 15/50\n",
      "44/44 [==============================] - 5s 120ms/step - loss: 0.2576 - accuracy: 0.9300 - val_loss: 0.1571 - val_accuracy: 0.9578\n",
      "Epoch 16/50\n",
      "44/44 [==============================] - 5s 120ms/step - loss: 0.2511 - accuracy: 0.9326 - val_loss: 0.1512 - val_accuracy: 0.9598\n",
      "Epoch 17/50\n",
      "44/44 [==============================] - 5s 120ms/step - loss: 0.2388 - accuracy: 0.9353 - val_loss: 0.1498 - val_accuracy: 0.9615\n",
      "Epoch 18/50\n",
      "44/44 [==============================] - 5s 118ms/step - loss: 0.2284 - accuracy: 0.9366 - val_loss: 0.1447 - val_accuracy: 0.9635\n",
      "Epoch 19/50\n",
      "44/44 [==============================] - 5s 121ms/step - loss: 0.2223 - accuracy: 0.9392 - val_loss: 0.1432 - val_accuracy: 0.9645\n",
      "Epoch 20/50\n",
      "44/44 [==============================] - 5s 119ms/step - loss: 0.2131 - accuracy: 0.9429 - val_loss: 0.1408 - val_accuracy: 0.9647\n",
      "Epoch 21/50\n",
      "44/44 [==============================] - 5s 121ms/step - loss: 0.2047 - accuracy: 0.9433 - val_loss: 0.1409 - val_accuracy: 0.9666\n",
      "Epoch 22/50\n",
      "44/44 [==============================] - 5s 121ms/step - loss: 0.2019 - accuracy: 0.9457 - val_loss: 0.1384 - val_accuracy: 0.9666\n",
      "Epoch 23/50\n",
      "44/44 [==============================] - 5s 120ms/step - loss: 0.1956 - accuracy: 0.9467 - val_loss: 0.1362 - val_accuracy: 0.9659\n",
      "Epoch 24/50\n",
      "44/44 [==============================] - 5s 120ms/step - loss: 0.1884 - accuracy: 0.9491 - val_loss: 0.1360 - val_accuracy: 0.9671\n",
      "Epoch 25/50\n",
      "44/44 [==============================] - 5s 122ms/step - loss: 0.1835 - accuracy: 0.9500 - val_loss: 0.1330 - val_accuracy: 0.9677\n",
      "Epoch 26/50\n",
      "44/44 [==============================] - 5s 124ms/step - loss: 0.1793 - accuracy: 0.9519 - val_loss: 0.1332 - val_accuracy: 0.9683\n",
      "Epoch 27/50\n",
      "44/44 [==============================] - 5s 123ms/step - loss: 0.1742 - accuracy: 0.9520 - val_loss: 0.1321 - val_accuracy: 0.9687\n",
      "Epoch 28/50\n",
      "44/44 [==============================] - 5s 120ms/step - loss: 0.1689 - accuracy: 0.9541 - val_loss: 0.1283 - val_accuracy: 0.9692\n",
      "Epoch 29/50\n",
      "44/44 [==============================] - 5s 117ms/step - loss: 0.1640 - accuracy: 0.9546 - val_loss: 0.1285 - val_accuracy: 0.9691\n",
      "Epoch 30/50\n",
      "44/44 [==============================] - 5s 121ms/step - loss: 0.1604 - accuracy: 0.9560 - val_loss: 0.1274 - val_accuracy: 0.9689\n",
      "Epoch 31/50\n",
      "44/44 [==============================] - 5s 119ms/step - loss: 0.1567 - accuracy: 0.9578 - val_loss: 0.1281 - val_accuracy: 0.9693\n",
      "Epoch 32/50\n",
      "44/44 [==============================] - 5s 120ms/step - loss: 0.1483 - accuracy: 0.9591 - val_loss: 0.1284 - val_accuracy: 0.9701\n",
      "Epoch 00032: early stopping\n"
     ]
    },
    {
     "data": {
      "image/png": "[encoded data removed]",
      "text/plain": [
       "<Figure size 432x288 with 1 Axes>"
      ]
     },
     "metadata": {
      "needs_background": "light"
     },
     "output_type": "display_data"
    }
   ],
   "source": [
    "# зададим значения дропаута, которые будем испытывать\n",
    "dropout_range = [0, 0.1, 0.2, 0.3, 0.4, 0.5, 0.6, 0.7, 0.8]\n",
    "\n",
    "# для каждого значения натренируем свою модель\n",
    "for drp in dropout_range:\n",
    "    model = tf.keras.models.Sequential([\n",
    "        tf.keras.layers.Flatten(input_shape=(28, 28)),\n",
    "        tf.keras.layers.BatchNormalization(),\n",
    "        tf.keras.layers.Dense(28 * 28, activation='relu'),\n",
    "        tf.keras.layers.BatchNormalization(),\n",
    "        tf.keras.layers.Dropout(drp),\n",
    "        tf.keras.layers.Dense(100, activation='relu'),\n",
    "        tf.keras.layers.BatchNormalization(),\n",
    "        tf.keras.layers.Dropout(drp),\n",
    "        tf.keras.layers.Dense(10, activation='softmax')\n",
    "    ])\n",
    "\n",
    "    model.compile(optimizer=tf.keras.optimizers.Adam(),\n",
    "                  loss=tf.keras.losses.SparseCategoricalCrossentropy(),\n",
    "                  metrics=['accuracy'])\n",
    "\n",
    "    history = model.fit(x_train, y_train,\n",
    "                        validation_data=(x_val, y_val),\n",
    "                        batch_size=1024,\n",
    "                        epochs=50,\n",
    "                        callbacks=[stopping]) # коллбэк не позволит переобучиться, не нужно заморачиваться над лоссом\n",
    "    \n",
    "    # после завершения обучения построим графики\n",
    "    # значений нашей метрики на валидации\n",
    "    plt.plot(history.history['val_accuracy'][2:])\n",
    "\n",
    "plt.legend(dropout_range)\n",
    "plt.show()\n"
   ]
  },
  {
   "cell_type": "markdown",
   "metadata": {},
   "source": [
    "Модели с большим дропаутом закономерно учатся дольше. Тем не менее, и качество у них похуже: лучше всего показывает себя модель с дропаутом ~0.1-0.2. Его и будем использовать.\n",
    "\n",
    "Итак, мы выбрали лучшее значение дропаута.\n",
    "\n",
    "Давайте теперь построим с ним финальную модель, обучим её чуть подольше, а потом сами выберем эпоху, на которой модель показала себя лучше всего. Для этого воспользуемся коллбэком ModelCheckpoint, который позволит сохранить веса модели, а затем просто загрузим веса из нужной эпохи."
   ]
  },
  {
   "cell_type": "code",
   "execution_count": 25,
   "metadata": {
    "scrolled": true
   },
   "outputs": [
    {
     "name": "stdout",
     "output_type": "stream",
     "text": [
      "Epoch 1/30\n",
      "44/44 [==============================] - 7s 148ms/step - loss: 0.4262 - accuracy: 0.8711 - val_loss: 0.2660 - val_accuracy: 0.9187\n",
      "Epoch 2/30\n",
      "44/44 [==============================] - 7s 154ms/step - loss: 0.1522 - accuracy: 0.9562 - val_loss: 0.1718 - val_accuracy: 0.9533\n",
      "Epoch 3/30\n",
      "44/44 [==============================] - 8s 173ms/step - loss: 0.0985 - accuracy: 0.9726 - val_loss: 0.1415 - val_accuracy: 0.9627\n",
      "Epoch 4/30\n",
      "44/44 [==============================] - 6s 143ms/step - loss: 0.0686 - accuracy: 0.9816 - val_loss: 0.1219 - val_accuracy: 0.9684\n",
      "Epoch 5/30\n",
      "44/44 [==============================] - 6s 143ms/step - loss: 0.0480 - accuracy: 0.9879 - val_loss: 0.1171 - val_accuracy: 0.9695\n",
      "Epoch 6/30\n",
      "44/44 [==============================] - 6s 143ms/step - loss: 0.0340 - accuracy: 0.9919 - val_loss: 0.1194 - val_accuracy: 0.9701\n",
      "Epoch 7/30\n",
      "44/44 [==============================] - 7s 153ms/step - loss: 0.0252 - accuracy: 0.9943 - val_loss: 0.1130 - val_accuracy: 0.9721\n",
      "Epoch 8/30\n",
      "44/44 [==============================] - 7s 159ms/step - loss: 0.0189 - accuracy: 0.9958 - val_loss: 0.1159 - val_accuracy: 0.9728\n",
      "Epoch 9/30\n",
      "44/44 [==============================] - 6s 147ms/step - loss: 0.0158 - accuracy: 0.9971 - val_loss: 0.1419 - val_accuracy: 0.9729\n",
      "Epoch 10/30\n",
      "44/44 [==============================] - 6s 146ms/step - loss: 0.0128 - accuracy: 0.9975 - val_loss: 0.1520 - val_accuracy: 0.9721\n",
      "Epoch 11/30\n",
      "44/44 [==============================] - 7s 151ms/step - loss: 0.0106 - accuracy: 0.9982 - val_loss: 0.1545 - val_accuracy: 0.9735\n",
      "Epoch 12/30\n",
      "44/44 [==============================] - 7s 148ms/step - loss: 0.0084 - accuracy: 0.9988 - val_loss: 0.1754 - val_accuracy: 0.9737\n",
      "Epoch 13/30\n",
      "44/44 [==============================] - 7s 148ms/step - loss: 0.0076 - accuracy: 0.9987 - val_loss: 0.1910 - val_accuracy: 0.9733\n",
      "Epoch 14/30\n",
      "44/44 [==============================] - 6s 147ms/step - loss: 0.0078 - accuracy: 0.9986 - val_loss: 0.2291 - val_accuracy: 0.9743\n",
      "Epoch 15/30\n",
      "44/44 [==============================] - 6s 146ms/step - loss: 0.0064 - accuracy: 0.9990 - val_loss: 0.2844 - val_accuracy: 0.9731\n",
      "Epoch 16/30\n",
      "44/44 [==============================] - 7s 148ms/step - loss: 0.0055 - accuracy: 0.9992 - val_loss: 0.3270 - val_accuracy: 0.9747\n",
      "Epoch 17/30\n",
      "44/44 [==============================] - 6s 147ms/step - loss: 0.0037 - accuracy: 0.9997 - val_loss: 0.3580 - val_accuracy: 0.9748\n",
      "Epoch 18/30\n",
      "44/44 [==============================] - 6s 147ms/step - loss: 0.0032 - accuracy: 0.9997 - val_loss: 0.3432 - val_accuracy: 0.9761\n",
      "Epoch 19/30\n",
      "44/44 [==============================] - 7s 151ms/step - loss: 0.0030 - accuracy: 0.9996 - val_loss: 0.3656 - val_accuracy: 0.9774\n",
      "Epoch 20/30\n",
      "44/44 [==============================] - 7s 151ms/step - loss: 0.0028 - accuracy: 0.9996 - val_loss: 0.4315 - val_accuracy: 0.9767\n",
      "Epoch 21/30\n",
      "44/44 [==============================] - 7s 151ms/step - loss: 0.0039 - accuracy: 0.9994 - val_loss: 0.4013 - val_accuracy: 0.9757\n",
      "Epoch 22/30\n",
      "44/44 [==============================] - 7s 150ms/step - loss: 0.0031 - accuracy: 0.9996 - val_loss: 0.3698 - val_accuracy: 0.9763\n",
      "Epoch 23/30\n",
      "44/44 [==============================] - 7s 153ms/step - loss: 0.0036 - accuracy: 0.9992 - val_loss: 0.4708 - val_accuracy: 0.9742\n",
      "Epoch 24/30\n",
      "44/44 [==============================] - 7s 153ms/step - loss: 0.0049 - accuracy: 0.9990 - val_loss: 0.4133 - val_accuracy: 0.9747\n",
      "Epoch 25/30\n",
      "44/44 [==============================] - 7s 149ms/step - loss: 0.0059 - accuracy: 0.9987 - val_loss: 0.3203 - val_accuracy: 0.9746\n",
      "Epoch 26/30\n",
      "44/44 [==============================] - 7s 152ms/step - loss: 0.0066 - accuracy: 0.9985 - val_loss: 0.3465 - val_accuracy: 0.9751\n",
      "Epoch 27/30\n",
      "44/44 [==============================] - 7s 155ms/step - loss: 0.0040 - accuracy: 0.9992 - val_loss: 0.3633 - val_accuracy: 0.9758\n",
      "Epoch 28/30\n",
      "44/44 [==============================] - 7s 159ms/step - loss: 0.0039 - accuracy: 0.9991 - val_loss: 0.2224 - val_accuracy: 0.9752\n",
      "Epoch 29/30\n",
      "44/44 [==============================] - 7s 161ms/step - loss: 0.0039 - accuracy: 0.9991 - val_loss: 0.2475 - val_accuracy: 0.9751\n",
      "Epoch 30/30\n",
      "44/44 [==============================] - 7s 167ms/step - loss: 0.0047 - accuracy: 0.9989 - val_loss: 0.2156 - val_accuracy: 0.9735\n"
     ]
    }
   ],
   "source": [
    "# финальная модель\n",
    "\n",
    "model = tf.keras.models.Sequential([\n",
    "    tf.keras.layers.Flatten(input_shape=(28, 28)),\n",
    "    tf.keras.layers.BatchNormalization(),\n",
    "    tf.keras.layers.Dense(28*28, activation='relu'),\n",
    "    tf.keras.layers.BatchNormalization(),\n",
    "    tf.keras.layers.Dropout(0.1),\n",
    "    tf.keras.layers.Dense(100, activation='relu'),\n",
    "    tf.keras.layers.BatchNormalization(),\n",
    "    tf.keras.layers.Dropout(0.1),\n",
    "    tf.keras.layers.Dense(10, activation='softmax')\n",
    "])\n",
    "\n",
    "model.compile(optimizer=tf.keras.optimizers.Adam(),\n",
    "              loss=tf.keras.losses.SparseCategoricalCrossentropy(),\n",
    "              metrics=['accuracy'])\n",
    "\n",
    "# в коллбэке укажем шаблон для названия файлов с весами\n",
    "# в нашем случае там будет указываться номер эпохи и значение функции потерь\n",
    "check = tf.keras.callbacks.ModelCheckpoint(filepath='{epoch:02d}-{val_loss:.2f}.h5',\n",
    "                                           save_weights_only=True)\n",
    "\n",
    "history = model.fit(x_train, y_train,\n",
    "                    validation_data=(x_val, y_val),\n",
    "                    batch_size=1024,\n",
    "                    epochs=30, # 30 эпох уж точно будет достаточно\n",
    "                    callbacks=[check])"
   ]
  },
  {
   "cell_type": "code",
   "execution_count": 26,
   "metadata": {},
   "outputs": [
    {
     "data": {
      "text/plain": [
       "<matplotlib.legend.Legend at 0x2c1203d4f70>"
      ]
     },
     "execution_count": 26,
     "metadata": {},
     "output_type": "execute_result"
    },
    {
     "data": {
      "image/png": "[encoded data removed]",
      "text/plain": [
       "<Figure size 432x288 with 1 Axes>"
      ]
     },
     "metadata": {
      "needs_background": "light"
     },
     "output_type": "display_data"
    }
   ],
   "source": [
    "plt.plot(history.history['loss'][2:])\n",
    "plt.plot(history.history['val_loss'][2:])\n",
    "plt.legend(['loss', 'val_loss'])"
   ]
  },
  {
   "cell_type": "code",
   "execution_count": 27,
   "metadata": {},
   "outputs": [
    {
     "data": {
      "text/plain": [
       "<matplotlib.legend.Legend at 0x2c1209df640>"
      ]
     },
     "execution_count": 27,
     "metadata": {},
     "output_type": "execute_result"
    },
    {
     "data": {
      "image/png": "[encoded data removed]",
      "text/plain": [
       "<Figure size 432x288 with 1 Axes>"
      ]
     },
     "metadata": {
      "needs_background": "light"
     },
     "output_type": "display_data"
    }
   ],
   "source": [
    "plt.plot(history.history['accuracy'][2:])\n",
    "plt.plot(history.history['val_accuracy'][2:])\n",
    "plt.legend(['accuracy', 'val_accuracy'])"
   ]
  },
  {
   "cell_type": "markdown",
   "metadata": {},
   "source": [
    "Лучшее значение получилось в 5-й точке на графике. Это 7-я эпоха (мы ведь отрезали первые 2). \n",
    "\n",
    "Давайте считать модель с этими весами наилучшей, загрузим их:"
   ]
  },
  {
   "cell_type": "code",
   "execution_count": 28,
   "metadata": {},
   "outputs": [],
   "source": [
    "model.load_weights('07-0.11.h5')"
   ]
  },
  {
   "cell_type": "markdown",
   "metadata": {},
   "source": [
    "Наконец мы можем проверить нашу модель и на тестовых данных, которые мы держали в стороне весь процесс обучения. Т.к. мы конструировали модель, ориентируясь на валидацию, может случиться и так, что на тесте модель будет вести себя хуже. Что ж, давайте проверим."
   ]
  },
  {
   "cell_type": "code",
   "execution_count": 29,
   "metadata": {},
   "outputs": [
    {
     "name": "stdout",
     "output_type": "stream",
     "text": [
      "Проверяем на тестовых данных:\n",
      "313/313 [==============================] - 5s 15ms/step - loss: 0.1059 - accuracy: 0.9732\n",
      "А на валидации было:\n",
      "469/469 [==============================] - 6s 13ms/step - loss: 0.1130 - accuracy: 0.9721\n"
     ]
    },
    {
     "data": {
      "text/plain": [
       "[0.11299723386764526, 0.9721333384513855]"
      ]
     },
     "execution_count": 29,
     "metadata": {},
     "output_type": "execute_result"
    }
   ],
   "source": [
    "print('Проверяем на тестовых данных:')\n",
    "model.evaluate(x_test, y_test)\n",
    "\n",
    "print('А на валидации было:')\n",
    "model.evaluate(x_val, y_val)"
   ]
  },
  {
   "cell_type": "markdown",
   "metadata": {},
   "source": [
    "Ура! На тесте показатели оказались даже чуть лучше, чем на валидации. Это однозначно говорит нам о том, что модель будет верным образом вести себя и на новых данных.\n",
    "\n",
    "Точность в 97,4% - достаточно хороший показатель для такой простой модели как полносвязная нейросеть (с некоторыми плюшками). На данном датасете можно и немного увеличить точность работы, но для этого уже обычно применяются более сложные архитектуры, с которыми мы познакомимся позже."
   ]
  }
 ],
 "metadata": {
  "kernelspec": {
   "display_name": "Python 3 (ipykernel)",
   "language": "python",
   "name": "python3"
  },
  "language_info": {
   "codemirror_mode": {
    "name": "ipython",
    "version": 3
   },
   "file_extension": ".py",
   "mimetype": "text/x-python",
   "name": "python",
   "nbconvert_exporter": "python",
   "pygments_lexer": "ipython3",
   "version": "3.10.10"
  }
 },
 "nbformat": 4,
 "nbformat_minor": 4
}
