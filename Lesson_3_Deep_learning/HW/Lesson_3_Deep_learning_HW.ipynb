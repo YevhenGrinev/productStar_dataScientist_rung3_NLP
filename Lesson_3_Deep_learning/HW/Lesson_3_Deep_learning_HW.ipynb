{
 "cells": [
  {
   "cell_type": "code",
   "execution_count": 1,
   "id": "fc6968ff-5021-41d8-9bf6-9735362e5a59",
   "metadata": {
    "tags": []
   },
   "outputs": [],
   "source": [
    "import tensorflow as tf\n",
    "import numpy as np\n",
    "import matplotlib.pyplot as plt"
   ]
  },
  {
   "cell_type": "code",
   "execution_count": 2,
   "id": "b5395fe5-0d0e-436c-aa5c-090c4e8d703b",
   "metadata": {
    "tags": []
   },
   "outputs": [],
   "source": [
    "np.random.seed(17)\n",
    "tf.random.set_seed(17)"
   ]
  },
  {
   "cell_type": "code",
   "execution_count": 28,
   "id": "09584b1b-8c2d-40d3-9781-794cec4d6603",
   "metadata": {
    "tags": []
   },
   "outputs": [],
   "source": [
    "(x_train, y_train), (x_test, y_test) = tf.keras.datasets.fashion_mnist.load_data()"
   ]
  },
  {
   "cell_type": "code",
   "execution_count": 22,
   "id": "4f0bf855-ad83-4555-acfb-0315c0006d53",
   "metadata": {
    "tags": []
   },
   "outputs": [
    {
     "data": {
      "text/plain": [
       "((10000, 28, 28), (10000,), (60000, 28, 28), (60000,))"
      ]
     },
     "execution_count": 22,
     "metadata": {},
     "output_type": "execute_result"
    }
   ],
   "source": [
    "x_test.shape, y_test.shape, x_train.shape, y_train.shape"
   ]
  },
  {
   "cell_type": "code",
   "execution_count": 29,
   "id": "157a4a71-fff0-4f60-9ed5-a87d2caec39d",
   "metadata": {
    "tags": []
   },
   "outputs": [
    {
     "data": {
      "text/plain": [
       "((15000, 28, 28), (15000,), (45000, 28, 28), (45000,))"
      ]
     },
     "execution_count": 29,
     "metadata": {},
     "output_type": "execute_result"
    }
   ],
   "source": [
    "val_frac = .25\n",
    "\n",
    "x_val = x_train[round((1-val_frac)*len(x_train)):]\n",
    "y_val = y_train[round((1-val_frac)*len(y_train)):]\n",
    "\n",
    "x_train = x_train[:round((1-val_frac)*len(x_train))]\n",
    "y_train = y_train[:round((1-val_frac)*len(y_train))]\n",
    "\n",
    "x_val.shape, y_val.shape, x_train.shape, y_train.shape"
   ]
  },
  {
   "cell_type": "code",
   "execution_count": 6,
   "id": "e976e6fd-1718-4ccb-9b92-8c4b6c268c0a",
   "metadata": {
    "tags": []
   },
   "outputs": [
    {
     "data": {
      "text/plain": [
       "<matplotlib.image.AxesImage at 0x1458c3520>"
      ]
     },
     "execution_count": 6,
     "metadata": {},
     "output_type": "execute_result"
    },
    {
     "data": {
      "image/png": "[encoded data removed]",
      "text/plain": [
       "<Figure size 640x480 with 1 Axes>"
      ]
     },
     "metadata": {},
     "output_type": "display_data"
    }
   ],
   "source": [
    "plt.imshow(x_train[1])"
   ]
  },
  {
   "cell_type": "code",
   "execution_count": 7,
   "id": "be18ee74-a5f0-4f45-998a-e7071d4ebc56",
   "metadata": {
    "tags": []
   },
   "outputs": [
    {
     "data": {
      "text/plain": [
       "2"
      ]
     },
     "execution_count": 7,
     "metadata": {},
     "output_type": "execute_result"
    }
   ],
   "source": [
    "y_test[1]"
   ]
  },
  {
   "cell_type": "code",
   "execution_count": 8,
   "id": "99ebe6c7-8225-4870-9d9b-0e5725aa0cf1",
   "metadata": {
    "tags": []
   },
   "outputs": [
    {
     "data": {
      "text/plain": [
       "{0, 1, 2, 3, 4, 5, 6, 7, 8, 9}"
      ]
     },
     "execution_count": 8,
     "metadata": {},
     "output_type": "execute_result"
    }
   ],
   "source": [
    "a = set(y_test)\n",
    "a"
   ]
  },
  {
   "cell_type": "code",
   "execution_count": 30,
   "id": "45c1a457-cf9a-4e3e-aa78-803707473038",
   "metadata": {
    "tags": []
   },
   "outputs": [
    {
     "name": "stdout",
     "output_type": "stream",
     "text": [
      "Epoch 1/30\n"
     ]
    },
    {
     "name": "stderr",
     "output_type": "stream",
     "text": [
      "2023-04-01 23:00:51.587642: I tensorflow/core/grappler/optimizers/custom_graph_optimizer_registry.cc:113] Plugin optimizer for device_type GPU is enabled.\n"
     ]
    },
    {
     "name": "stdout",
     "output_type": "stream",
     "text": [
      "44/44 [==============================] - ETA: 0s - loss: 0.6328 - accuracy: 0.7838"
     ]
    },
    {
     "name": "stderr",
     "output_type": "stream",
     "text": [
      "2023-04-01 23:00:57.047327: I tensorflow/core/grappler/optimizers/custom_graph_optimizer_registry.cc:113] Plugin optimizer for device_type GPU is enabled.\n"
     ]
    },
    {
     "name": "stdout",
     "output_type": "stream",
     "text": [
      "44/44 [==============================] - 6s 41ms/step - loss: 0.6328 - accuracy: 0.7838 - val_loss: 0.6625 - val_accuracy: 0.7774\n",
      "Epoch 2/30\n",
      "44/44 [==============================] - 1s 20ms/step - loss: 0.3864 - accuracy: 0.8614 - val_loss: 0.4364 - val_accuracy: 0.8436\n",
      "Epoch 3/30\n",
      "44/44 [==============================] - 1s 20ms/step - loss: 0.3378 - accuracy: 0.8779 - val_loss: 0.3736 - val_accuracy: 0.8637\n",
      "Epoch 4/30\n",
      "44/44 [==============================] - 1s 20ms/step - loss: 0.3042 - accuracy: 0.8875 - val_loss: 0.3418 - val_accuracy: 0.8787\n",
      "Epoch 5/30\n",
      "44/44 [==============================] - 1s 20ms/step - loss: 0.2813 - accuracy: 0.8951 - val_loss: 0.3307 - val_accuracy: 0.8801\n",
      "Epoch 6/30\n",
      "44/44 [==============================] - 1s 20ms/step - loss: 0.2605 - accuracy: 0.9046 - val_loss: 0.3205 - val_accuracy: 0.8822\n",
      "Epoch 7/30\n",
      "44/44 [==============================] - 1s 20ms/step - loss: 0.2413 - accuracy: 0.9101 - val_loss: 0.3126 - val_accuracy: 0.8867\n",
      "Epoch 8/30\n",
      "44/44 [==============================] - 1s 21ms/step - loss: 0.2265 - accuracy: 0.9176 - val_loss: 0.3102 - val_accuracy: 0.8879\n",
      "Epoch 9/30\n",
      "44/44 [==============================] - 1s 21ms/step - loss: 0.2086 - accuracy: 0.9224 - val_loss: 0.3089 - val_accuracy: 0.8872\n",
      "Epoch 10/30\n",
      "44/44 [==============================] - 1s 21ms/step - loss: 0.1971 - accuracy: 0.9277 - val_loss: 0.3142 - val_accuracy: 0.8875\n",
      "Epoch 11/30\n",
      "44/44 [==============================] - 1s 21ms/step - loss: 0.1839 - accuracy: 0.9326 - val_loss: 0.2999 - val_accuracy: 0.8927\n",
      "Epoch 12/30\n",
      "44/44 [==============================] - 1s 20ms/step - loss: 0.1726 - accuracy: 0.9373 - val_loss: 0.3091 - val_accuracy: 0.8906\n",
      "Epoch 13/30\n",
      "44/44 [==============================] - 1s 20ms/step - loss: 0.1603 - accuracy: 0.9406 - val_loss: 0.3206 - val_accuracy: 0.8897\n",
      "Epoch 14/30\n",
      "44/44 [==============================] - 1s 20ms/step - loss: 0.1599 - accuracy: 0.9407 - val_loss: 0.3249 - val_accuracy: 0.8907\n",
      "Epoch 15/30\n",
      "44/44 [==============================] - 1s 20ms/step - loss: 0.1475 - accuracy: 0.9464 - val_loss: 0.3098 - val_accuracy: 0.8932\n",
      "Epoch 16/30\n",
      "44/44 [==============================] - 1s 20ms/step - loss: 0.1381 - accuracy: 0.9496 - val_loss: 0.3236 - val_accuracy: 0.8927\n",
      "Epoch 17/30\n",
      "44/44 [==============================] - 1s 21ms/step - loss: 0.1263 - accuracy: 0.9546 - val_loss: 0.3265 - val_accuracy: 0.8938\n",
      "Epoch 18/30\n",
      "44/44 [==============================] - 1s 20ms/step - loss: 0.1222 - accuracy: 0.9559 - val_loss: 0.3218 - val_accuracy: 0.8947\n",
      "Epoch 19/30\n",
      "44/44 [==============================] - 1s 20ms/step - loss: 0.1127 - accuracy: 0.9592 - val_loss: 0.3394 - val_accuracy: 0.8913\n",
      "Epoch 20/30\n",
      "44/44 [==============================] - 1s 20ms/step - loss: 0.1067 - accuracy: 0.9607 - val_loss: 0.3340 - val_accuracy: 0.8949\n",
      "Epoch 21/30\n",
      "44/44 [==============================] - 1s 21ms/step - loss: 0.1030 - accuracy: 0.9626 - val_loss: 0.3467 - val_accuracy: 0.8911\n",
      "Epoch 22/30\n",
      "44/44 [==============================] - 1s 21ms/step - loss: 0.0945 - accuracy: 0.9664 - val_loss: 0.3404 - val_accuracy: 0.8934\n",
      "Epoch 23/30\n",
      "44/44 [==============================] - 1s 20ms/step - loss: 0.0886 - accuracy: 0.9675 - val_loss: 0.3463 - val_accuracy: 0.8939\n",
      "Epoch 24/30\n",
      "44/44 [==============================] - 1s 20ms/step - loss: 0.0831 - accuracy: 0.9698 - val_loss: 0.3537 - val_accuracy: 0.8953\n",
      "Epoch 25/30\n",
      "44/44 [==============================] - 1s 20ms/step - loss: 0.0798 - accuracy: 0.9706 - val_loss: 0.3647 - val_accuracy: 0.8923\n",
      "Epoch 26/30\n",
      "44/44 [==============================] - 1s 20ms/step - loss: 0.0751 - accuracy: 0.9728 - val_loss: 0.3688 - val_accuracy: 0.8942\n",
      "Epoch 27/30\n",
      "44/44 [==============================] - 1s 20ms/step - loss: 0.0716 - accuracy: 0.9740 - val_loss: 0.3755 - val_accuracy: 0.8931\n",
      "Epoch 28/30\n",
      "44/44 [==============================] - 1s 20ms/step - loss: 0.0703 - accuracy: 0.9748 - val_loss: 0.3698 - val_accuracy: 0.8949\n",
      "Epoch 29/30\n",
      "44/44 [==============================] - 1s 20ms/step - loss: 0.0668 - accuracy: 0.9757 - val_loss: 0.3942 - val_accuracy: 0.8935\n",
      "Epoch 30/30\n",
      "44/44 [==============================] - 1s 20ms/step - loss: 0.0620 - accuracy: 0.9776 - val_loss: 0.3829 - val_accuracy: 0.8963\n",
      "Epoch 1/30\n"
     ]
    },
    {
     "name": "stderr",
     "output_type": "stream",
     "text": [
      "2023-04-01 23:01:23.927572: I tensorflow/core/grappler/optimizers/custom_graph_optimizer_registry.cc:113] Plugin optimizer for device_type GPU is enabled.\n"
     ]
    },
    {
     "name": "stdout",
     "output_type": "stream",
     "text": [
      "44/44 [==============================] - ETA: 0s - loss: 0.6731 - accuracy: 0.7700"
     ]
    },
    {
     "name": "stderr",
     "output_type": "stream",
     "text": [
      "2023-04-01 23:01:25.221617: I tensorflow/core/grappler/optimizers/custom_graph_optimizer_registry.cc:113] Plugin optimizer for device_type GPU is enabled.\n"
     ]
    },
    {
     "name": "stdout",
     "output_type": "stream",
     "text": [
      "44/44 [==============================] - 2s 28ms/step - loss: 0.6731 - accuracy: 0.7700 - val_loss: 0.7879 - val_accuracy: 0.7539\n",
      "Epoch 2/30\n",
      "44/44 [==============================] - 1s 21ms/step - loss: 0.4164 - accuracy: 0.8512 - val_loss: 0.4395 - val_accuracy: 0.8480\n",
      "Epoch 3/30\n",
      "44/44 [==============================] - 1s 23ms/step - loss: 0.3654 - accuracy: 0.8672 - val_loss: 0.3679 - val_accuracy: 0.8667\n",
      "Epoch 4/30\n",
      "44/44 [==============================] - 1s 21ms/step - loss: 0.3329 - accuracy: 0.8784 - val_loss: 0.3578 - val_accuracy: 0.8709\n",
      "Epoch 5/30\n",
      "44/44 [==============================] - 1s 21ms/step - loss: 0.3122 - accuracy: 0.8852 - val_loss: 0.3218 - val_accuracy: 0.8821\n",
      "Epoch 6/30\n",
      "44/44 [==============================] - 1s 20ms/step - loss: 0.2963 - accuracy: 0.8914 - val_loss: 0.3220 - val_accuracy: 0.8819\n",
      "Epoch 7/30\n",
      "44/44 [==============================] - 1s 22ms/step - loss: 0.2769 - accuracy: 0.8979 - val_loss: 0.3103 - val_accuracy: 0.8859\n",
      "Epoch 8/30\n",
      "44/44 [==============================] - 1s 25ms/step - loss: 0.2579 - accuracy: 0.9042 - val_loss: 0.3190 - val_accuracy: 0.8854\n",
      "Epoch 9/30\n",
      "44/44 [==============================] - 1s 21ms/step - loss: 0.2488 - accuracy: 0.9086 - val_loss: 0.3099 - val_accuracy: 0.8855\n",
      "Epoch 10/30\n",
      "44/44 [==============================] - 1s 20ms/step - loss: 0.2361 - accuracy: 0.9117 - val_loss: 0.3060 - val_accuracy: 0.8898\n",
      "Epoch 11/30\n",
      "44/44 [==============================] - 1s 20ms/step - loss: 0.2268 - accuracy: 0.9158 - val_loss: 0.3148 - val_accuracy: 0.8843\n",
      "Epoch 12/30\n",
      "44/44 [==============================] - 1s 21ms/step - loss: 0.2162 - accuracy: 0.9188 - val_loss: 0.3016 - val_accuracy: 0.8927\n",
      "Epoch 13/30\n",
      "44/44 [==============================] - 1s 20ms/step - loss: 0.2029 - accuracy: 0.9253 - val_loss: 0.3018 - val_accuracy: 0.8936\n",
      "Epoch 14/30\n",
      "44/44 [==============================] - 1s 20ms/step - loss: 0.1954 - accuracy: 0.9276 - val_loss: 0.3067 - val_accuracy: 0.8919\n",
      "Epoch 15/30\n",
      "44/44 [==============================] - 1s 21ms/step - loss: 0.1882 - accuracy: 0.9296 - val_loss: 0.3034 - val_accuracy: 0.8913\n",
      "Epoch 16/30\n",
      "44/44 [==============================] - 1s 20ms/step - loss: 0.1807 - accuracy: 0.9325 - val_loss: 0.3056 - val_accuracy: 0.8959\n",
      "Epoch 17/30\n",
      "44/44 [==============================] - 1s 20ms/step - loss: 0.1714 - accuracy: 0.9372 - val_loss: 0.3192 - val_accuracy: 0.8915\n",
      "Epoch 18/30\n",
      "44/44 [==============================] - 1s 21ms/step - loss: 0.1649 - accuracy: 0.9393 - val_loss: 0.3106 - val_accuracy: 0.8951\n",
      "Epoch 19/30\n",
      "44/44 [==============================] - 1s 20ms/step - loss: 0.1564 - accuracy: 0.9416 - val_loss: 0.3216 - val_accuracy: 0.8935\n",
      "Epoch 20/30\n",
      "44/44 [==============================] - 1s 20ms/step - loss: 0.1555 - accuracy: 0.9411 - val_loss: 0.3204 - val_accuracy: 0.8945\n",
      "Epoch 21/30\n",
      "44/44 [==============================] - 1s 20ms/step - loss: 0.1479 - accuracy: 0.9450 - val_loss: 0.3198 - val_accuracy: 0.8949\n",
      "Epoch 22/30\n",
      "44/44 [==============================] - 1s 20ms/step - loss: 0.1412 - accuracy: 0.9477 - val_loss: 0.3222 - val_accuracy: 0.8967\n",
      "Epoch 23/30\n",
      "44/44 [==============================] - 1s 20ms/step - loss: 0.1382 - accuracy: 0.9479 - val_loss: 0.3244 - val_accuracy: 0.8959\n",
      "Epoch 24/30\n",
      "44/44 [==============================] - 1s 20ms/step - loss: 0.1301 - accuracy: 0.9507 - val_loss: 0.3275 - val_accuracy: 0.8975\n",
      "Epoch 25/30\n",
      "44/44 [==============================] - 1s 20ms/step - loss: 0.1244 - accuracy: 0.9531 - val_loss: 0.3292 - val_accuracy: 0.8973\n",
      "Epoch 26/30\n",
      "44/44 [==============================] - 1s 20ms/step - loss: 0.1224 - accuracy: 0.9545 - val_loss: 0.3299 - val_accuracy: 0.8980\n",
      "Epoch 27/30\n",
      "44/44 [==============================] - 1s 20ms/step - loss: 0.1175 - accuracy: 0.9572 - val_loss: 0.3404 - val_accuracy: 0.8935\n",
      "Epoch 28/30\n",
      "44/44 [==============================] - 1s 21ms/step - loss: 0.1130 - accuracy: 0.9580 - val_loss: 0.3443 - val_accuracy: 0.8987\n",
      "Epoch 29/30\n",
      "44/44 [==============================] - 1s 21ms/step - loss: 0.1133 - accuracy: 0.9578 - val_loss: 0.3535 - val_accuracy: 0.8953\n",
      "Epoch 30/30\n",
      "44/44 [==============================] - 1s 20ms/step - loss: 0.1068 - accuracy: 0.9605 - val_loss: 0.3604 - val_accuracy: 0.8959\n",
      "Epoch 1/30\n"
     ]
    },
    {
     "name": "stderr",
     "output_type": "stream",
     "text": [
      "2023-04-01 23:01:52.471787: I tensorflow/core/grappler/optimizers/custom_graph_optimizer_registry.cc:113] Plugin optimizer for device_type GPU is enabled.\n"
     ]
    },
    {
     "name": "stdout",
     "output_type": "stream",
     "text": [
      "44/44 [==============================] - ETA: 0s - loss: 0.7617 - accuracy: 0.7438"
     ]
    },
    {
     "name": "stderr",
     "output_type": "stream",
     "text": [
      "2023-04-01 23:01:53.836589: I tensorflow/core/grappler/optimizers/custom_graph_optimizer_registry.cc:113] Plugin optimizer for device_type GPU is enabled.\n"
     ]
    },
    {
     "name": "stdout",
     "output_type": "stream",
     "text": [
      "44/44 [==============================] - 2s 29ms/step - loss: 0.7617 - accuracy: 0.7438 - val_loss: 0.7633 - val_accuracy: 0.7708\n",
      "Epoch 2/30\n",
      "44/44 [==============================] - 1s 20ms/step - loss: 0.4574 - accuracy: 0.8372 - val_loss: 0.4619 - val_accuracy: 0.8347\n",
      "Epoch 3/30\n",
      "44/44 [==============================] - 1s 20ms/step - loss: 0.4007 - accuracy: 0.8548 - val_loss: 0.3960 - val_accuracy: 0.8590\n",
      "Epoch 4/30\n",
      "44/44 [==============================] - 1s 20ms/step - loss: 0.3651 - accuracy: 0.8673 - val_loss: 0.3614 - val_accuracy: 0.8691\n",
      "Epoch 5/30\n",
      "44/44 [==============================] - 1s 20ms/step - loss: 0.3470 - accuracy: 0.8735 - val_loss: 0.3293 - val_accuracy: 0.8810\n",
      "Epoch 6/30\n",
      "44/44 [==============================] - 1s 20ms/step - loss: 0.3254 - accuracy: 0.8803 - val_loss: 0.3328 - val_accuracy: 0.8805\n",
      "Epoch 7/30\n",
      "44/44 [==============================] - 1s 20ms/step - loss: 0.3068 - accuracy: 0.8876 - val_loss: 0.3196 - val_accuracy: 0.8853\n",
      "Epoch 8/30\n",
      "44/44 [==============================] - 1s 20ms/step - loss: 0.2941 - accuracy: 0.8913 - val_loss: 0.3186 - val_accuracy: 0.8841\n",
      "Epoch 9/30\n",
      "44/44 [==============================] - 1s 20ms/step - loss: 0.2852 - accuracy: 0.8949 - val_loss: 0.3176 - val_accuracy: 0.8835\n",
      "Epoch 10/30\n",
      "44/44 [==============================] - 1s 20ms/step - loss: 0.2772 - accuracy: 0.8965 - val_loss: 0.3217 - val_accuracy: 0.8834\n",
      "Epoch 11/30\n",
      "44/44 [==============================] - 1s 21ms/step - loss: 0.2627 - accuracy: 0.9012 - val_loss: 0.3110 - val_accuracy: 0.8849\n",
      "Epoch 12/30\n",
      "44/44 [==============================] - 1s 20ms/step - loss: 0.2546 - accuracy: 0.9052 - val_loss: 0.3075 - val_accuracy: 0.8893\n",
      "Epoch 13/30\n",
      "44/44 [==============================] - 1s 20ms/step - loss: 0.2439 - accuracy: 0.9094 - val_loss: 0.3110 - val_accuracy: 0.8849\n",
      "Epoch 14/30\n",
      "44/44 [==============================] - 1s 20ms/step - loss: 0.2397 - accuracy: 0.9118 - val_loss: 0.3039 - val_accuracy: 0.8895\n",
      "Epoch 15/30\n",
      "44/44 [==============================] - 1s 20ms/step - loss: 0.2302 - accuracy: 0.9142 - val_loss: 0.3010 - val_accuracy: 0.8899\n",
      "Epoch 16/30\n",
      "44/44 [==============================] - 1s 21ms/step - loss: 0.2235 - accuracy: 0.9164 - val_loss: 0.2993 - val_accuracy: 0.8897\n",
      "Epoch 17/30\n",
      "44/44 [==============================] - 1s 21ms/step - loss: 0.2196 - accuracy: 0.9175 - val_loss: 0.3022 - val_accuracy: 0.8927\n",
      "Epoch 18/30\n",
      "44/44 [==============================] - 1s 20ms/step - loss: 0.2112 - accuracy: 0.9203 - val_loss: 0.2981 - val_accuracy: 0.8929\n",
      "Epoch 19/30\n",
      "44/44 [==============================] - 1s 20ms/step - loss: 0.2051 - accuracy: 0.9226 - val_loss: 0.2988 - val_accuracy: 0.8946\n",
      "Epoch 20/30\n",
      "44/44 [==============================] - 1s 21ms/step - loss: 0.1982 - accuracy: 0.9260 - val_loss: 0.2997 - val_accuracy: 0.8946\n",
      "Epoch 21/30\n",
      "44/44 [==============================] - 1s 20ms/step - loss: 0.1933 - accuracy: 0.9279 - val_loss: 0.2998 - val_accuracy: 0.8946\n",
      "Epoch 22/30\n",
      "44/44 [==============================] - 1s 20ms/step - loss: 0.1864 - accuracy: 0.9304 - val_loss: 0.3084 - val_accuracy: 0.8936\n",
      "Epoch 23/30\n",
      "44/44 [==============================] - 1s 20ms/step - loss: 0.1815 - accuracy: 0.9324 - val_loss: 0.3082 - val_accuracy: 0.8937\n",
      "Epoch 24/30\n",
      "44/44 [==============================] - 1s 20ms/step - loss: 0.1757 - accuracy: 0.9333 - val_loss: 0.3043 - val_accuracy: 0.8972\n",
      "Epoch 25/30\n",
      "44/44 [==============================] - 1s 21ms/step - loss: 0.1730 - accuracy: 0.9348 - val_loss: 0.3058 - val_accuracy: 0.8975\n",
      "Epoch 26/30\n",
      "44/44 [==============================] - 1s 19ms/step - loss: 0.1663 - accuracy: 0.9357 - val_loss: 0.3128 - val_accuracy: 0.8963\n",
      "Epoch 27/30\n",
      "44/44 [==============================] - 1s 21ms/step - loss: 0.1607 - accuracy: 0.9404 - val_loss: 0.3180 - val_accuracy: 0.8952\n",
      "Epoch 28/30\n",
      "44/44 [==============================] - 1s 21ms/step - loss: 0.1575 - accuracy: 0.9418 - val_loss: 0.3195 - val_accuracy: 0.8950\n",
      "Epoch 29/30\n",
      "44/44 [==============================] - 1s 20ms/step - loss: 0.1575 - accuracy: 0.9410 - val_loss: 0.3417 - val_accuracy: 0.8892\n",
      "Epoch 30/30\n",
      "44/44 [==============================] - 1s 20ms/step - loss: 0.1508 - accuracy: 0.9436 - val_loss: 0.3253 - val_accuracy: 0.8931\n",
      "Epoch 1/30\n"
     ]
    },
    {
     "name": "stderr",
     "output_type": "stream",
     "text": [
      "2023-04-01 23:02:20.857837: I tensorflow/core/grappler/optimizers/custom_graph_optimizer_registry.cc:113] Plugin optimizer for device_type GPU is enabled.\n"
     ]
    },
    {
     "name": "stdout",
     "output_type": "stream",
     "text": [
      "44/44 [==============================] - ETA: 0s - loss: 0.8197 - accuracy: 0.7284"
     ]
    },
    {
     "name": "stderr",
     "output_type": "stream",
     "text": [
      "2023-04-01 23:02:22.241698: I tensorflow/core/grappler/optimizers/custom_graph_optimizer_registry.cc:113] Plugin optimizer for device_type GPU is enabled.\n"
     ]
    },
    {
     "name": "stdout",
     "output_type": "stream",
     "text": [
      "44/44 [==============================] - 2s 30ms/step - loss: 0.8197 - accuracy: 0.7284 - val_loss: 0.8442 - val_accuracy: 0.7627\n",
      "Epoch 2/30\n",
      "44/44 [==============================] - 1s 20ms/step - loss: 0.4958 - accuracy: 0.8229 - val_loss: 0.4838 - val_accuracy: 0.8335\n",
      "Epoch 3/30\n",
      "44/44 [==============================] - 1s 20ms/step - loss: 0.4334 - accuracy: 0.8450 - val_loss: 0.4100 - val_accuracy: 0.8533\n",
      "Epoch 4/30\n",
      "44/44 [==============================] - 1s 21ms/step - loss: 0.4023 - accuracy: 0.8556 - val_loss: 0.3710 - val_accuracy: 0.8665\n",
      "Epoch 5/30\n",
      "44/44 [==============================] - 1s 21ms/step - loss: 0.3719 - accuracy: 0.8665 - val_loss: 0.3511 - val_accuracy: 0.8705\n",
      "Epoch 6/30\n",
      "44/44 [==============================] - 1s 21ms/step - loss: 0.3599 - accuracy: 0.8691 - val_loss: 0.3437 - val_accuracy: 0.8754\n",
      "Epoch 7/30\n",
      "44/44 [==============================] - 1s 20ms/step - loss: 0.3392 - accuracy: 0.8768 - val_loss: 0.3292 - val_accuracy: 0.8803\n",
      "Epoch 8/30\n",
      "44/44 [==============================] - 1s 20ms/step - loss: 0.3264 - accuracy: 0.8810 - val_loss: 0.3289 - val_accuracy: 0.8801\n",
      "Epoch 9/30\n",
      "44/44 [==============================] - 1s 20ms/step - loss: 0.3137 - accuracy: 0.8845 - val_loss: 0.3285 - val_accuracy: 0.8803\n",
      "Epoch 10/30\n",
      "44/44 [==============================] - 1s 22ms/step - loss: 0.3084 - accuracy: 0.8868 - val_loss: 0.3176 - val_accuracy: 0.8816\n",
      "Epoch 11/30\n",
      "44/44 [==============================] - 1s 20ms/step - loss: 0.2964 - accuracy: 0.8894 - val_loss: 0.3259 - val_accuracy: 0.8807\n",
      "Epoch 12/30\n",
      "44/44 [==============================] - 1s 21ms/step - loss: 0.2896 - accuracy: 0.8921 - val_loss: 0.3112 - val_accuracy: 0.8845\n",
      "Epoch 13/30\n",
      "44/44 [==============================] - 1s 22ms/step - loss: 0.2778 - accuracy: 0.8971 - val_loss: 0.3119 - val_accuracy: 0.8861\n",
      "Epoch 14/30\n",
      "44/44 [==============================] - 1s 22ms/step - loss: 0.2709 - accuracy: 0.9009 - val_loss: 0.3039 - val_accuracy: 0.8887\n",
      "Epoch 15/30\n",
      "44/44 [==============================] - 1s 23ms/step - loss: 0.2657 - accuracy: 0.9012 - val_loss: 0.3029 - val_accuracy: 0.8890\n",
      "Epoch 16/30\n",
      "44/44 [==============================] - 1s 22ms/step - loss: 0.2555 - accuracy: 0.9046 - val_loss: 0.3018 - val_accuracy: 0.8901\n",
      "Epoch 17/30\n",
      "44/44 [==============================] - 1s 21ms/step - loss: 0.2498 - accuracy: 0.9064 - val_loss: 0.3102 - val_accuracy: 0.8877\n",
      "Epoch 18/30\n",
      "44/44 [==============================] - 1s 22ms/step - loss: 0.2430 - accuracy: 0.9103 - val_loss: 0.2956 - val_accuracy: 0.8926\n",
      "Epoch 19/30\n",
      "44/44 [==============================] - 1s 21ms/step - loss: 0.2394 - accuracy: 0.9112 - val_loss: 0.2972 - val_accuracy: 0.8919\n",
      "Epoch 20/30\n",
      "44/44 [==============================] - 1s 25ms/step - loss: 0.2368 - accuracy: 0.9126 - val_loss: 0.2918 - val_accuracy: 0.8949\n",
      "Epoch 21/30\n",
      "44/44 [==============================] - 1s 29ms/step - loss: 0.2250 - accuracy: 0.9163 - val_loss: 0.2935 - val_accuracy: 0.8958\n",
      "Epoch 22/30\n",
      "44/44 [==============================] - 1s 22ms/step - loss: 0.2214 - accuracy: 0.9179 - val_loss: 0.2957 - val_accuracy: 0.8954\n",
      "Epoch 23/30\n",
      "44/44 [==============================] - 1s 24ms/step - loss: 0.2167 - accuracy: 0.9192 - val_loss: 0.2952 - val_accuracy: 0.8951\n",
      "Epoch 24/30\n",
      "44/44 [==============================] - 1s 21ms/step - loss: 0.2117 - accuracy: 0.9197 - val_loss: 0.2971 - val_accuracy: 0.8956\n",
      "Epoch 25/30\n",
      "44/44 [==============================] - 1s 22ms/step - loss: 0.2092 - accuracy: 0.9222 - val_loss: 0.2867 - val_accuracy: 0.9012\n",
      "Epoch 26/30\n",
      "44/44 [==============================] - 1s 22ms/step - loss: 0.2025 - accuracy: 0.9237 - val_loss: 0.2946 - val_accuracy: 0.8959\n",
      "Epoch 27/30\n",
      "44/44 [==============================] - 1s 25ms/step - loss: 0.1963 - accuracy: 0.9270 - val_loss: 0.2995 - val_accuracy: 0.8961\n",
      "Epoch 28/30\n",
      "44/44 [==============================] - 1s 22ms/step - loss: 0.1976 - accuracy: 0.9262 - val_loss: 0.3047 - val_accuracy: 0.8918\n",
      "Epoch 29/30\n",
      "44/44 [==============================] - 1s 22ms/step - loss: 0.1932 - accuracy: 0.9274 - val_loss: 0.3101 - val_accuracy: 0.8941\n",
      "Epoch 30/30\n",
      "44/44 [==============================] - 1s 27ms/step - loss: 0.1851 - accuracy: 0.9310 - val_loss: 0.3096 - val_accuracy: 0.8949\n",
      "Epoch 1/30\n"
     ]
    },
    {
     "name": "stderr",
     "output_type": "stream",
     "text": [
      "2023-04-01 23:02:51.246029: I tensorflow/core/grappler/optimizers/custom_graph_optimizer_registry.cc:113] Plugin optimizer for device_type GPU is enabled.\n"
     ]
    },
    {
     "name": "stdout",
     "output_type": "stream",
     "text": [
      "44/44 [==============================] - ETA: 0s - loss: 0.9463 - accuracy: 0.6967"
     ]
    },
    {
     "name": "stderr",
     "output_type": "stream",
     "text": [
      "2023-04-01 23:02:52.781676: I tensorflow/core/grappler/optimizers/custom_graph_optimizer_registry.cc:113] Plugin optimizer for device_type GPU is enabled.\n"
     ]
    },
    {
     "name": "stdout",
     "output_type": "stream",
     "text": [
      "44/44 [==============================] - 2s 33ms/step - loss: 0.9463 - accuracy: 0.6967 - val_loss: 0.9181 - val_accuracy: 0.7503\n",
      "Epoch 2/30\n",
      "44/44 [==============================] - 1s 24ms/step - loss: 0.5558 - accuracy: 0.8066 - val_loss: 0.5473 - val_accuracy: 0.8191\n",
      "Epoch 3/30\n",
      "44/44 [==============================] - 1s 29ms/step - loss: 0.4823 - accuracy: 0.8304 - val_loss: 0.4256 - val_accuracy: 0.8494\n",
      "Epoch 4/30\n",
      "44/44 [==============================] - 1s 21ms/step - loss: 0.4424 - accuracy: 0.8423 - val_loss: 0.3936 - val_accuracy: 0.8601\n",
      "Epoch 5/30\n",
      "44/44 [==============================] - 1s 22ms/step - loss: 0.4172 - accuracy: 0.8516 - val_loss: 0.3692 - val_accuracy: 0.8666\n",
      "Epoch 6/30\n",
      "44/44 [==============================] - 1s 22ms/step - loss: 0.3946 - accuracy: 0.8582 - val_loss: 0.3631 - val_accuracy: 0.8693\n",
      "Epoch 7/30\n",
      "44/44 [==============================] - 1s 21ms/step - loss: 0.3784 - accuracy: 0.8637 - val_loss: 0.3452 - val_accuracy: 0.8762\n",
      "Epoch 8/30\n",
      "44/44 [==============================] - 1s 24ms/step - loss: 0.3638 - accuracy: 0.8680 - val_loss: 0.3422 - val_accuracy: 0.8747\n",
      "Epoch 9/30\n",
      "44/44 [==============================] - 1s 22ms/step - loss: 0.3529 - accuracy: 0.8718 - val_loss: 0.3352 - val_accuracy: 0.8791\n",
      "Epoch 10/30\n",
      "44/44 [==============================] - 1s 33ms/step - loss: 0.3437 - accuracy: 0.8751 - val_loss: 0.3258 - val_accuracy: 0.8796\n",
      "Epoch 11/30\n",
      "44/44 [==============================] - 1s 30ms/step - loss: 0.3308 - accuracy: 0.8798 - val_loss: 0.3226 - val_accuracy: 0.8813\n",
      "Epoch 12/30\n",
      "44/44 [==============================] - 1s 25ms/step - loss: 0.3227 - accuracy: 0.8835 - val_loss: 0.3175 - val_accuracy: 0.8868\n",
      "Epoch 13/30\n",
      "44/44 [==============================] - 1s 25ms/step - loss: 0.3157 - accuracy: 0.8836 - val_loss: 0.3148 - val_accuracy: 0.8845\n",
      "Epoch 14/30\n",
      "44/44 [==============================] - 1s 25ms/step - loss: 0.3079 - accuracy: 0.8871 - val_loss: 0.3150 - val_accuracy: 0.8849\n",
      "Epoch 15/30\n",
      "44/44 [==============================] - 1s 23ms/step - loss: 0.2973 - accuracy: 0.8908 - val_loss: 0.3100 - val_accuracy: 0.8855\n",
      "Epoch 16/30\n",
      "44/44 [==============================] - 1s 25ms/step - loss: 0.2920 - accuracy: 0.8928 - val_loss: 0.3086 - val_accuracy: 0.8871\n",
      "Epoch 17/30\n",
      "44/44 [==============================] - 1s 24ms/step - loss: 0.2885 - accuracy: 0.8936 - val_loss: 0.3053 - val_accuracy: 0.8879\n",
      "Epoch 18/30\n",
      "44/44 [==============================] - 1s 23ms/step - loss: 0.2800 - accuracy: 0.8956 - val_loss: 0.3041 - val_accuracy: 0.8888\n",
      "Epoch 19/30\n",
      "44/44 [==============================] - 1s 25ms/step - loss: 0.2809 - accuracy: 0.8968 - val_loss: 0.3026 - val_accuracy: 0.8888\n",
      "Epoch 20/30\n",
      "44/44 [==============================] - 1s 24ms/step - loss: 0.2714 - accuracy: 0.9000 - val_loss: 0.3020 - val_accuracy: 0.8889\n",
      "Epoch 21/30\n",
      "44/44 [==============================] - 1s 25ms/step - loss: 0.2636 - accuracy: 0.9035 - val_loss: 0.2966 - val_accuracy: 0.8923\n",
      "Epoch 22/30\n",
      "44/44 [==============================] - 1s 26ms/step - loss: 0.2568 - accuracy: 0.9056 - val_loss: 0.3015 - val_accuracy: 0.8917\n",
      "Epoch 23/30\n",
      "44/44 [==============================] - 1s 26ms/step - loss: 0.2541 - accuracy: 0.9060 - val_loss: 0.2982 - val_accuracy: 0.8925\n",
      "Epoch 24/30\n",
      "44/44 [==============================] - 1s 24ms/step - loss: 0.2513 - accuracy: 0.9076 - val_loss: 0.2973 - val_accuracy: 0.8936\n",
      "Epoch 25/30\n",
      "44/44 [==============================] - 1s 26ms/step - loss: 0.2487 - accuracy: 0.9072 - val_loss: 0.2913 - val_accuracy: 0.8953\n",
      "Epoch 26/30\n",
      "44/44 [==============================] - 1s 24ms/step - loss: 0.2411 - accuracy: 0.9107 - val_loss: 0.2914 - val_accuracy: 0.8947\n",
      "Epoch 27/30\n",
      "44/44 [==============================] - 1s 21ms/step - loss: 0.2400 - accuracy: 0.9100 - val_loss: 0.2965 - val_accuracy: 0.8943\n",
      "Epoch 28/30\n",
      "44/44 [==============================] - 1s 21ms/step - loss: 0.2344 - accuracy: 0.9131 - val_loss: 0.2925 - val_accuracy: 0.8967\n",
      "Epoch 29/30\n",
      "44/44 [==============================] - 1s 27ms/step - loss: 0.2290 - accuracy: 0.9158 - val_loss: 0.2987 - val_accuracy: 0.8951\n",
      "Epoch 30/30\n",
      "44/44 [==============================] - 1s 20ms/step - loss: 0.2271 - accuracy: 0.9165 - val_loss: 0.2945 - val_accuracy: 0.8964\n",
      "Epoch 1/30\n"
     ]
    },
    {
     "name": "stderr",
     "output_type": "stream",
     "text": [
      "2023-04-01 23:03:24.841739: I tensorflow/core/grappler/optimizers/custom_graph_optimizer_registry.cc:113] Plugin optimizer for device_type GPU is enabled.\n"
     ]
    },
    {
     "name": "stdout",
     "output_type": "stream",
     "text": [
      "44/44 [==============================] - ETA: 0s - loss: 1.0712 - accuracy: 0.6658"
     ]
    },
    {
     "name": "stderr",
     "output_type": "stream",
     "text": [
      "2023-04-01 23:03:26.267009: I tensorflow/core/grappler/optimizers/custom_graph_optimizer_registry.cc:113] Plugin optimizer for device_type GPU is enabled.\n"
     ]
    },
    {
     "name": "stdout",
     "output_type": "stream",
     "text": [
      "44/44 [==============================] - 2s 30ms/step - loss: 1.0712 - accuracy: 0.6658 - val_loss: 1.0655 - val_accuracy: 0.7431\n",
      "Epoch 2/30\n",
      "44/44 [==============================] - 1s 20ms/step - loss: 0.6171 - accuracy: 0.7875 - val_loss: 0.5918 - val_accuracy: 0.8083\n",
      "Epoch 3/30\n",
      "44/44 [==============================] - 1s 21ms/step - loss: 0.5378 - accuracy: 0.8119 - val_loss: 0.4577 - val_accuracy: 0.8397\n",
      "Epoch 4/30\n",
      "44/44 [==============================] - 1s 22ms/step - loss: 0.4915 - accuracy: 0.8274 - val_loss: 0.4123 - val_accuracy: 0.8541\n",
      "Epoch 5/30\n",
      "44/44 [==============================] - 1s 22ms/step - loss: 0.4575 - accuracy: 0.8388 - val_loss: 0.3874 - val_accuracy: 0.8613\n",
      "Epoch 6/30\n",
      "44/44 [==============================] - 1s 26ms/step - loss: 0.4333 - accuracy: 0.8463 - val_loss: 0.3750 - val_accuracy: 0.8637\n",
      "Epoch 7/30\n",
      "44/44 [==============================] - 1s 23ms/step - loss: 0.4144 - accuracy: 0.8512 - val_loss: 0.3573 - val_accuracy: 0.8715\n",
      "Epoch 8/30\n",
      "44/44 [==============================] - 1s 22ms/step - loss: 0.4024 - accuracy: 0.8579 - val_loss: 0.3533 - val_accuracy: 0.8715\n",
      "Epoch 9/30\n",
      "44/44 [==============================] - 1s 22ms/step - loss: 0.3899 - accuracy: 0.8601 - val_loss: 0.3496 - val_accuracy: 0.8731\n",
      "Epoch 10/30\n",
      "44/44 [==============================] - 1s 24ms/step - loss: 0.3802 - accuracy: 0.8644 - val_loss: 0.3434 - val_accuracy: 0.8751\n",
      "Epoch 11/30\n",
      "44/44 [==============================] - 1s 23ms/step - loss: 0.3666 - accuracy: 0.8685 - val_loss: 0.3348 - val_accuracy: 0.8798\n",
      "Epoch 12/30\n",
      "44/44 [==============================] - 1s 23ms/step - loss: 0.3638 - accuracy: 0.8697 - val_loss: 0.3357 - val_accuracy: 0.8768\n",
      "Epoch 13/30\n",
      "44/44 [==============================] - 1s 22ms/step - loss: 0.3530 - accuracy: 0.8728 - val_loss: 0.3358 - val_accuracy: 0.8766\n",
      "Epoch 14/30\n",
      "44/44 [==============================] - 1s 22ms/step - loss: 0.3473 - accuracy: 0.8755 - val_loss: 0.3261 - val_accuracy: 0.8828\n",
      "Epoch 15/30\n",
      "44/44 [==============================] - 1s 23ms/step - loss: 0.3366 - accuracy: 0.8782 - val_loss: 0.3230 - val_accuracy: 0.8798\n",
      "Epoch 16/30\n",
      "44/44 [==============================] - 1s 23ms/step - loss: 0.3329 - accuracy: 0.8788 - val_loss: 0.3244 - val_accuracy: 0.8812\n",
      "Epoch 17/30\n",
      "44/44 [==============================] - 1s 24ms/step - loss: 0.3299 - accuracy: 0.8804 - val_loss: 0.3198 - val_accuracy: 0.8830\n",
      "Epoch 18/30\n",
      "44/44 [==============================] - 1s 22ms/step - loss: 0.3203 - accuracy: 0.8845 - val_loss: 0.3168 - val_accuracy: 0.8838\n",
      "Epoch 19/30\n",
      "44/44 [==============================] - 1s 22ms/step - loss: 0.3184 - accuracy: 0.8843 - val_loss: 0.3164 - val_accuracy: 0.8849\n",
      "Epoch 20/30\n",
      "44/44 [==============================] - 1s 22ms/step - loss: 0.3112 - accuracy: 0.8861 - val_loss: 0.3134 - val_accuracy: 0.8859\n",
      "Epoch 21/30\n",
      "44/44 [==============================] - 1s 22ms/step - loss: 0.3095 - accuracy: 0.8876 - val_loss: 0.3106 - val_accuracy: 0.8865\n",
      "Epoch 22/30\n",
      "44/44 [==============================] - 1s 25ms/step - loss: 0.2987 - accuracy: 0.8898 - val_loss: 0.3134 - val_accuracy: 0.8878\n",
      "Epoch 23/30\n",
      "44/44 [==============================] - 1s 25ms/step - loss: 0.2970 - accuracy: 0.8896 - val_loss: 0.3068 - val_accuracy: 0.8899\n",
      "Epoch 24/30\n",
      "44/44 [==============================] - 1s 24ms/step - loss: 0.2928 - accuracy: 0.8931 - val_loss: 0.3098 - val_accuracy: 0.8874\n",
      "Epoch 25/30\n",
      "44/44 [==============================] - 1s 26ms/step - loss: 0.2891 - accuracy: 0.8940 - val_loss: 0.3092 - val_accuracy: 0.8877\n",
      "Epoch 26/30\n",
      "44/44 [==============================] - 1s 26ms/step - loss: 0.2842 - accuracy: 0.8966 - val_loss: 0.3040 - val_accuracy: 0.8894\n",
      "Epoch 27/30\n",
      "44/44 [==============================] - 1s 23ms/step - loss: 0.2836 - accuracy: 0.8964 - val_loss: 0.3036 - val_accuracy: 0.8899\n",
      "Epoch 28/30\n",
      "44/44 [==============================] - 1s 22ms/step - loss: 0.2799 - accuracy: 0.8976 - val_loss: 0.3013 - val_accuracy: 0.8911\n",
      "Epoch 29/30\n",
      "44/44 [==============================] - 1s 24ms/step - loss: 0.2748 - accuracy: 0.8990 - val_loss: 0.3073 - val_accuracy: 0.8895\n",
      "Epoch 30/30\n",
      "44/44 [==============================] - 1s 23ms/step - loss: 0.2707 - accuracy: 0.9008 - val_loss: 0.3021 - val_accuracy: 0.8915\n",
      "Epoch 1/30\n"
     ]
    },
    {
     "name": "stderr",
     "output_type": "stream",
     "text": [
      "2023-04-01 23:03:57.219594: I tensorflow/core/grappler/optimizers/custom_graph_optimizer_registry.cc:113] Plugin optimizer for device_type GPU is enabled.\n"
     ]
    },
    {
     "name": "stdout",
     "output_type": "stream",
     "text": [
      "44/44 [==============================] - ETA: 0s - loss: 1.3609 - accuracy: 0.5982"
     ]
    },
    {
     "name": "stderr",
     "output_type": "stream",
     "text": [
      "2023-04-01 23:03:58.809541: I tensorflow/core/grappler/optimizers/custom_graph_optimizer_registry.cc:113] Plugin optimizer for device_type GPU is enabled.\n"
     ]
    },
    {
     "name": "stdout",
     "output_type": "stream",
     "text": [
      "44/44 [==============================] - 3s 34ms/step - loss: 1.3609 - accuracy: 0.5982 - val_loss: 1.4248 - val_accuracy: 0.7170\n",
      "Epoch 2/30\n",
      "44/44 [==============================] - 1s 22ms/step - loss: 0.7416 - accuracy: 0.7495 - val_loss: 0.6926 - val_accuracy: 0.7968\n",
      "Epoch 3/30\n",
      "44/44 [==============================] - 1s 23ms/step - loss: 0.6236 - accuracy: 0.7839 - val_loss: 0.5101 - val_accuracy: 0.8284\n",
      "Epoch 4/30\n",
      "44/44 [==============================] - 1s 22ms/step - loss: 0.5592 - accuracy: 0.8062 - val_loss: 0.4446 - val_accuracy: 0.8445\n",
      "Epoch 5/30\n",
      "44/44 [==============================] - 1s 21ms/step - loss: 0.5214 - accuracy: 0.8200 - val_loss: 0.4138 - val_accuracy: 0.8511\n",
      "Epoch 6/30\n",
      "44/44 [==============================] - 1s 21ms/step - loss: 0.4951 - accuracy: 0.8260 - val_loss: 0.4064 - val_accuracy: 0.8536\n",
      "Epoch 7/30\n",
      "44/44 [==============================] - 1s 23ms/step - loss: 0.4734 - accuracy: 0.8347 - val_loss: 0.3857 - val_accuracy: 0.8611\n",
      "Epoch 8/30\n",
      "44/44 [==============================] - 1s 24ms/step - loss: 0.4567 - accuracy: 0.8395 - val_loss: 0.3764 - val_accuracy: 0.8635\n",
      "Epoch 9/30\n",
      "44/44 [==============================] - 1s 21ms/step - loss: 0.4433 - accuracy: 0.8440 - val_loss: 0.3747 - val_accuracy: 0.8638\n",
      "Epoch 10/30\n",
      "44/44 [==============================] - 1s 20ms/step - loss: 0.4340 - accuracy: 0.8461 - val_loss: 0.3689 - val_accuracy: 0.8677\n",
      "Epoch 11/30\n",
      "44/44 [==============================] - 1s 21ms/step - loss: 0.4193 - accuracy: 0.8516 - val_loss: 0.3617 - val_accuracy: 0.8691\n",
      "Epoch 12/30\n",
      "44/44 [==============================] - 1s 21ms/step - loss: 0.4116 - accuracy: 0.8543 - val_loss: 0.3590 - val_accuracy: 0.8680\n",
      "Epoch 13/30\n",
      "44/44 [==============================] - 1s 21ms/step - loss: 0.4034 - accuracy: 0.8583 - val_loss: 0.3566 - val_accuracy: 0.8695\n",
      "Epoch 14/30\n",
      "44/44 [==============================] - 1s 21ms/step - loss: 0.3972 - accuracy: 0.8589 - val_loss: 0.3502 - val_accuracy: 0.8721\n",
      "Epoch 15/30\n",
      "44/44 [==============================] - 1s 21ms/step - loss: 0.3904 - accuracy: 0.8618 - val_loss: 0.3464 - val_accuracy: 0.8730\n",
      "Epoch 16/30\n",
      "44/44 [==============================] - 1s 20ms/step - loss: 0.3831 - accuracy: 0.8640 - val_loss: 0.3434 - val_accuracy: 0.8735\n",
      "Epoch 17/30\n",
      "44/44 [==============================] - 1s 21ms/step - loss: 0.3794 - accuracy: 0.8647 - val_loss: 0.3431 - val_accuracy: 0.8735\n",
      "Epoch 18/30\n",
      "44/44 [==============================] - 1s 21ms/step - loss: 0.3716 - accuracy: 0.8688 - val_loss: 0.3408 - val_accuracy: 0.8757\n",
      "Epoch 19/30\n",
      "44/44 [==============================] - 1s 21ms/step - loss: 0.3672 - accuracy: 0.8685 - val_loss: 0.3368 - val_accuracy: 0.8755\n",
      "Epoch 20/30\n",
      "44/44 [==============================] - 1s 21ms/step - loss: 0.3617 - accuracy: 0.8699 - val_loss: 0.3334 - val_accuracy: 0.8787\n",
      "Epoch 21/30\n",
      "44/44 [==============================] - 1s 21ms/step - loss: 0.3610 - accuracy: 0.8717 - val_loss: 0.3361 - val_accuracy: 0.8777\n",
      "Epoch 22/30\n",
      "44/44 [==============================] - 1s 21ms/step - loss: 0.3541 - accuracy: 0.8740 - val_loss: 0.3296 - val_accuracy: 0.8805\n",
      "Epoch 23/30\n",
      "44/44 [==============================] - 1s 21ms/step - loss: 0.3488 - accuracy: 0.8758 - val_loss: 0.3249 - val_accuracy: 0.8819\n",
      "Epoch 24/30\n",
      "44/44 [==============================] - 1s 20ms/step - loss: 0.3414 - accuracy: 0.8754 - val_loss: 0.3255 - val_accuracy: 0.8824\n",
      "Epoch 25/30\n",
      "44/44 [==============================] - 1s 21ms/step - loss: 0.3414 - accuracy: 0.8769 - val_loss: 0.3266 - val_accuracy: 0.8823\n",
      "Epoch 26/30\n",
      "44/44 [==============================] - 1s 21ms/step - loss: 0.3344 - accuracy: 0.8802 - val_loss: 0.3214 - val_accuracy: 0.8826\n",
      "Epoch 27/30\n",
      "44/44 [==============================] - 1s 21ms/step - loss: 0.3307 - accuracy: 0.8818 - val_loss: 0.3232 - val_accuracy: 0.8835\n",
      "Epoch 28/30\n",
      "44/44 [==============================] - 1s 21ms/step - loss: 0.3314 - accuracy: 0.8793 - val_loss: 0.3186 - val_accuracy: 0.8847\n",
      "Epoch 29/30\n",
      "44/44 [==============================] - 1s 21ms/step - loss: 0.3258 - accuracy: 0.8822 - val_loss: 0.3201 - val_accuracy: 0.8824\n",
      "Epoch 30/30\n",
      "44/44 [==============================] - 1s 22ms/step - loss: 0.3233 - accuracy: 0.8811 - val_loss: 0.3164 - val_accuracy: 0.8832\n",
      "Epoch 1/30\n"
     ]
    },
    {
     "name": "stderr",
     "output_type": "stream",
     "text": [
      "2023-04-01 23:04:26.740168: I tensorflow/core/grappler/optimizers/custom_graph_optimizer_registry.cc:113] Plugin optimizer for device_type GPU is enabled.\n"
     ]
    },
    {
     "name": "stdout",
     "output_type": "stream",
     "text": [
      "44/44 [==============================] - ETA: 0s - loss: 1.9730 - accuracy: 0.4876"
     ]
    },
    {
     "name": "stderr",
     "output_type": "stream",
     "text": [
      "2023-04-01 23:04:28.330270: I tensorflow/core/grappler/optimizers/custom_graph_optimizer_registry.cc:113] Plugin optimizer for device_type GPU is enabled.\n"
     ]
    },
    {
     "name": "stdout",
     "output_type": "stream",
     "text": [
      "44/44 [==============================] - 2s 32ms/step - loss: 1.9730 - accuracy: 0.4876 - val_loss: 1.8091 - val_accuracy: 0.6718\n",
      "Epoch 2/30\n",
      "44/44 [==============================] - 1s 21ms/step - loss: 0.9763 - accuracy: 0.6861 - val_loss: 0.8088 - val_accuracy: 0.7661\n",
      "Epoch 3/30\n",
      "44/44 [==============================] - 1s 21ms/step - loss: 0.7811 - accuracy: 0.7340 - val_loss: 0.5811 - val_accuracy: 0.8006\n",
      "Epoch 4/30\n",
      "44/44 [==============================] - 1s 21ms/step - loss: 0.6758 - accuracy: 0.7664 - val_loss: 0.4963 - val_accuracy: 0.8231\n",
      "Epoch 5/30\n",
      "44/44 [==============================] - 1s 20ms/step - loss: 0.6267 - accuracy: 0.7818 - val_loss: 0.4554 - val_accuracy: 0.8349\n",
      "Epoch 6/30\n",
      "44/44 [==============================] - 1s 22ms/step - loss: 0.5944 - accuracy: 0.7941 - val_loss: 0.4452 - val_accuracy: 0.8355\n",
      "Epoch 7/30\n",
      "44/44 [==============================] - 1s 23ms/step - loss: 0.5619 - accuracy: 0.8043 - val_loss: 0.4265 - val_accuracy: 0.8425\n",
      "Epoch 8/30\n",
      "44/44 [==============================] - 1s 22ms/step - loss: 0.5403 - accuracy: 0.8130 - val_loss: 0.4213 - val_accuracy: 0.8467\n",
      "Epoch 9/30\n",
      "44/44 [==============================] - 1s 21ms/step - loss: 0.5219 - accuracy: 0.8206 - val_loss: 0.4117 - val_accuracy: 0.8507\n",
      "Epoch 10/30\n",
      "44/44 [==============================] - 1s 24ms/step - loss: 0.5074 - accuracy: 0.8243 - val_loss: 0.4052 - val_accuracy: 0.8531\n",
      "Epoch 11/30\n",
      "44/44 [==============================] - 1s 21ms/step - loss: 0.4948 - accuracy: 0.8274 - val_loss: 0.4019 - val_accuracy: 0.8525\n",
      "Epoch 12/30\n",
      "44/44 [==============================] - 1s 21ms/step - loss: 0.4859 - accuracy: 0.8315 - val_loss: 0.3964 - val_accuracy: 0.8557\n",
      "Epoch 13/30\n",
      "44/44 [==============================] - 1s 22ms/step - loss: 0.4751 - accuracy: 0.8347 - val_loss: 0.3894 - val_accuracy: 0.8571\n",
      "Epoch 14/30\n",
      "44/44 [==============================] - 1s 21ms/step - loss: 0.4717 - accuracy: 0.8361 - val_loss: 0.3860 - val_accuracy: 0.8607\n",
      "Epoch 15/30\n",
      "44/44 [==============================] - 1s 22ms/step - loss: 0.4625 - accuracy: 0.8396 - val_loss: 0.3868 - val_accuracy: 0.8601\n",
      "Epoch 16/30\n",
      "44/44 [==============================] - 1s 21ms/step - loss: 0.4546 - accuracy: 0.8415 - val_loss: 0.3774 - val_accuracy: 0.8648\n",
      "Epoch 17/30\n",
      "44/44 [==============================] - 1s 22ms/step - loss: 0.4482 - accuracy: 0.8424 - val_loss: 0.3783 - val_accuracy: 0.8633\n",
      "Epoch 18/30\n",
      "44/44 [==============================] - 1s 21ms/step - loss: 0.4412 - accuracy: 0.8445 - val_loss: 0.3717 - val_accuracy: 0.8657\n",
      "Epoch 19/30\n",
      "44/44 [==============================] - 1s 21ms/step - loss: 0.4386 - accuracy: 0.8472 - val_loss: 0.3711 - val_accuracy: 0.8659\n",
      "Epoch 20/30\n",
      "44/44 [==============================] - 1s 21ms/step - loss: 0.4297 - accuracy: 0.8487 - val_loss: 0.3687 - val_accuracy: 0.8658\n",
      "Epoch 21/30\n",
      "44/44 [==============================] - 1s 21ms/step - loss: 0.4246 - accuracy: 0.8512 - val_loss: 0.3697 - val_accuracy: 0.8652\n",
      "Epoch 22/30\n",
      "44/44 [==============================] - 1s 21ms/step - loss: 0.4203 - accuracy: 0.8527 - val_loss: 0.3654 - val_accuracy: 0.8668\n",
      "Epoch 23/30\n",
      "44/44 [==============================] - 1s 21ms/step - loss: 0.4152 - accuracy: 0.8553 - val_loss: 0.3611 - val_accuracy: 0.8691\n",
      "Epoch 24/30\n",
      "44/44 [==============================] - 1s 26ms/step - loss: 0.4157 - accuracy: 0.8522 - val_loss: 0.3588 - val_accuracy: 0.8680\n",
      "Epoch 25/30\n",
      "44/44 [==============================] - 1s 26ms/step - loss: 0.4102 - accuracy: 0.8544 - val_loss: 0.3584 - val_accuracy: 0.8693\n",
      "Epoch 26/30\n",
      "44/44 [==============================] - 1s 22ms/step - loss: 0.4069 - accuracy: 0.8565 - val_loss: 0.3570 - val_accuracy: 0.8680\n",
      "Epoch 27/30\n",
      "44/44 [==============================] - 1s 23ms/step - loss: 0.4002 - accuracy: 0.8579 - val_loss: 0.3550 - val_accuracy: 0.8703\n",
      "Epoch 28/30\n",
      "44/44 [==============================] - 1s 21ms/step - loss: 0.4002 - accuracy: 0.8594 - val_loss: 0.3502 - val_accuracy: 0.8719\n",
      "Epoch 29/30\n",
      "44/44 [==============================] - 1s 24ms/step - loss: 0.3977 - accuracy: 0.8587 - val_loss: 0.3516 - val_accuracy: 0.8705\n",
      "Epoch 30/30\n",
      "44/44 [==============================] - 1s 21ms/step - loss: 0.3887 - accuracy: 0.8618 - val_loss: 0.3480 - val_accuracy: 0.8724\n"
     ]
    },
    {
     "data": {
      "text/plain": [
       "<matplotlib.legend.Legend at 0x15021e860>"
      ]
     },
     "execution_count": 30,
     "metadata": {},
     "output_type": "execute_result"
    },
    {
     "data": {
      "image/png": "[encoded data removed]",
      "text/plain": [
       "<Figure size 640x480 with 1 Axes>"
      ]
     },
     "metadata": {},
     "output_type": "display_data"
    }
   ],
   "source": [
    "dropout_list = [0.1,0.2,0.3,0.4,0.5,0.6,0.7,0.8]\n",
    "\n",
    "for drp in dropout_list:\n",
    "    model = tf.keras.models.Sequential([\n",
    "        tf.keras.layers.Flatten(input_shape=(28,28)),\n",
    "        tf.keras.layers.BatchNormalization(),\n",
    "        tf.keras.layers.Dense(300, activation='relu'),\n",
    "        tf.keras.layers.BatchNormalization(),\n",
    "        tf.keras.layers.Dropout(drp),\n",
    "        tf.keras.layers.Dense(300, activation='relu'),\n",
    "        tf.keras.layers.BatchNormalization(),\n",
    "        tf.keras.layers.Dropout(drp),\n",
    "        tf.keras.layers.Dense(10, activation='softmax'), \n",
    "    ])\n",
    "\n",
    "    model.compile(\n",
    "        optimizer=tf.keras.optimizers.Adam(),\n",
    "        loss=tf.keras.losses.SparseCategoricalCrossentropy(),\n",
    "        metrics=['accuracy'],\n",
    "    )\n",
    "\n",
    "    history = model.fit(\n",
    "        x_train, y_train,\n",
    "        validation_data=(x_val, y_val),\n",
    "        batch_size=1024,\n",
    "        epochs=30\n",
    "    )\n",
    "\n",
    "    plt.plot(history.history['val_accuracy'])\n",
    "\n",
    "plt.legend(dropout_list)"
   ]
  },
  {
   "cell_type": "raw",
   "id": "cb5102dc-539b-4759-a049-58535b9e0eb9",
   "metadata": {},
   "source": [
    "taks 1, answer = 0.4"
   ]
  },
  {
   "cell_type": "raw",
   "id": "bbab608d-dc6a-41e7-8a47-c8b01baebf86",
   "metadata": {},
   "source": [
    "task 2"
   ]
  },
  {
   "cell_type": "code",
   "execution_count": 31,
   "id": "70c7829d-cfd5-4bc5-9316-6c64375f3160",
   "metadata": {
    "tags": []
   },
   "outputs": [
    {
     "name": "stdout",
     "output_type": "stream",
     "text": [
      "Epoch 1/30\n"
     ]
    },
    {
     "name": "stderr",
     "output_type": "stream",
     "text": [
      "2023-04-01 23:10:46.809878: I tensorflow/core/grappler/optimizers/custom_graph_optimizer_registry.cc:113] Plugin optimizer for device_type GPU is enabled.\n"
     ]
    },
    {
     "name": "stdout",
     "output_type": "stream",
     "text": [
      "44/44 [==============================] - ETA: 0s - loss: 0.8355 - accuracy: 0.7260"
     ]
    },
    {
     "name": "stderr",
     "output_type": "stream",
     "text": [
      "2023-04-01 23:10:48.330155: I tensorflow/core/grappler/optimizers/custom_graph_optimizer_registry.cc:113] Plugin optimizer for device_type GPU is enabled.\n"
     ]
    },
    {
     "name": "stdout",
     "output_type": "stream",
     "text": [
      "44/44 [==============================] - 2s 33ms/step - loss: 0.8355 - accuracy: 0.7260 - val_loss: 0.8001 - val_accuracy: 0.7693\n",
      "Epoch 2/30\n",
      "44/44 [==============================] - 1s 20ms/step - loss: 0.5000 - accuracy: 0.8225 - val_loss: 0.4724 - val_accuracy: 0.8369\n",
      "Epoch 3/30\n",
      "44/44 [==============================] - 1s 21ms/step - loss: 0.4359 - accuracy: 0.8444 - val_loss: 0.4085 - val_accuracy: 0.8546\n",
      "Epoch 4/30\n",
      "44/44 [==============================] - 1s 20ms/step - loss: 0.4036 - accuracy: 0.8554 - val_loss: 0.3766 - val_accuracy: 0.8647\n",
      "Epoch 5/30\n",
      "44/44 [==============================] - 1s 20ms/step - loss: 0.3760 - accuracy: 0.8638 - val_loss: 0.3485 - val_accuracy: 0.8735\n",
      "Epoch 6/30\n",
      "44/44 [==============================] - 1s 20ms/step - loss: 0.3631 - accuracy: 0.8677 - val_loss: 0.3431 - val_accuracy: 0.8761\n",
      "Epoch 7/30\n",
      "44/44 [==============================] - 1s 21ms/step - loss: 0.3388 - accuracy: 0.8762 - val_loss: 0.3316 - val_accuracy: 0.8814\n",
      "Epoch 8/30\n",
      "44/44 [==============================] - 1s 21ms/step - loss: 0.3263 - accuracy: 0.8802 - val_loss: 0.3243 - val_accuracy: 0.8837\n",
      "Epoch 9/30\n",
      "44/44 [==============================] - 1s 21ms/step - loss: 0.3156 - accuracy: 0.8838 - val_loss: 0.3239 - val_accuracy: 0.8816\n",
      "Epoch 10/30\n",
      "44/44 [==============================] - 1s 21ms/step - loss: 0.3073 - accuracy: 0.8859 - val_loss: 0.3233 - val_accuracy: 0.8818\n",
      "Epoch 11/30\n",
      "44/44 [==============================] - 1s 21ms/step - loss: 0.2958 - accuracy: 0.8906 - val_loss: 0.3176 - val_accuracy: 0.8826\n",
      "Epoch 12/30\n",
      "44/44 [==============================] - 1s 20ms/step - loss: 0.2877 - accuracy: 0.8927 - val_loss: 0.3129 - val_accuracy: 0.8850\n",
      "Epoch 13/30\n",
      "44/44 [==============================] - 1s 20ms/step - loss: 0.2779 - accuracy: 0.8969 - val_loss: 0.3090 - val_accuracy: 0.8887\n",
      "Epoch 14/30\n",
      "44/44 [==============================] - 1s 20ms/step - loss: 0.2744 - accuracy: 0.8986 - val_loss: 0.3003 - val_accuracy: 0.8907\n",
      "Epoch 15/30\n",
      "44/44 [==============================] - 1s 21ms/step - loss: 0.2675 - accuracy: 0.9010 - val_loss: 0.3066 - val_accuracy: 0.8878\n",
      "Epoch 16/30\n",
      "44/44 [==============================] - 1s 21ms/step - loss: 0.2573 - accuracy: 0.9042 - val_loss: 0.3065 - val_accuracy: 0.8885\n",
      "Epoch 17/30\n",
      "44/44 [==============================] - 1s 21ms/step - loss: 0.2513 - accuracy: 0.9071 - val_loss: 0.3061 - val_accuracy: 0.8896\n",
      "Epoch 18/30\n",
      "44/44 [==============================] - 1s 22ms/step - loss: 0.2445 - accuracy: 0.9083 - val_loss: 0.2972 - val_accuracy: 0.8914\n",
      "Epoch 19/30\n",
      "44/44 [==============================] - 1s 21ms/step - loss: 0.2401 - accuracy: 0.9111 - val_loss: 0.2968 - val_accuracy: 0.8927\n",
      "Epoch 20/30\n",
      "44/44 [==============================] - 1s 21ms/step - loss: 0.2351 - accuracy: 0.9116 - val_loss: 0.2993 - val_accuracy: 0.8923\n",
      "Epoch 21/30\n",
      "44/44 [==============================] - 1s 20ms/step - loss: 0.2266 - accuracy: 0.9155 - val_loss: 0.2961 - val_accuracy: 0.8952\n",
      "Epoch 22/30\n",
      "44/44 [==============================] - 1s 21ms/step - loss: 0.2227 - accuracy: 0.9168 - val_loss: 0.3022 - val_accuracy: 0.8924\n",
      "Epoch 23/30\n",
      "44/44 [==============================] - 1s 20ms/step - loss: 0.2168 - accuracy: 0.9183 - val_loss: 0.2985 - val_accuracy: 0.8941\n",
      "Epoch 24/30\n",
      "44/44 [==============================] - 1s 21ms/step - loss: 0.2139 - accuracy: 0.9210 - val_loss: 0.3010 - val_accuracy: 0.8943\n",
      "Epoch 25/30\n",
      "44/44 [==============================] - 1s 20ms/step - loss: 0.2076 - accuracy: 0.9224 - val_loss: 0.2994 - val_accuracy: 0.8955\n",
      "Epoch 25: early stopping\n"
     ]
    },
    {
     "data": {
      "text/plain": [
       "<matplotlib.legend.Legend at 0x1502ccb50>"
      ]
     },
     "execution_count": 31,
     "metadata": {},
     "output_type": "execute_result"
    },
    {
     "data": {
      "image/png": "[encoded data removed]",
      "text/plain": [
       "<Figure size 640x480 with 1 Axes>"
      ]
     },
     "metadata": {},
     "output_type": "display_data"
    }
   ],
   "source": [
    "\n",
    "model = tf.keras.models.Sequential([\n",
    "    tf.keras.layers.Flatten(input_shape=(28,28)),\n",
    "    tf.keras.layers.BatchNormalization(),\n",
    "    tf.keras.layers.Dense(300, activation='relu'),\n",
    "    tf.keras.layers.BatchNormalization(),\n",
    "    tf.keras.layers.Dropout(.4),\n",
    "    tf.keras.layers.Dense(300, activation='relu'),\n",
    "    tf.keras.layers.BatchNormalization(),\n",
    "    tf.keras.layers.Dropout(.4),\n",
    "    tf.keras.layers.Dense(10, activation='softmax'), \n",
    "])\n",
    "\n",
    "model.compile(\n",
    "    optimizer=tf.keras.optimizers.Adam(),\n",
    "    loss=tf.keras.losses.SparseCategoricalCrossentropy(),\n",
    "    metrics=['accuracy'],\n",
    ")\n",
    "\n",
    "stopping = tf.keras.callbacks.EarlyStopping(\n",
    "    monitor='val_loss', \n",
    "    patience=4,\n",
    "    verbose=1,\n",
    ")\n",
    "\n",
    "history = model.fit(\n",
    "    x_train, y_train,\n",
    "    validation_data=(x_val, y_val),\n",
    "    batch_size=1024,\n",
    "    epochs=30,\n",
    "    callbacks=[stopping]\n",
    ")\n",
    "\n",
    "plt.plot(history.history['val_accuracy'])\n",
    "\n",
    "plt.legend(dropout_list)"
   ]
  },
  {
   "cell_type": "code",
   "execution_count": 32,
   "id": "3413a37e-34b8-4ea3-b7f0-ed81d081f07e",
   "metadata": {
    "tags": []
   },
   "outputs": [
    {
     "name": "stdout",
     "output_type": "stream",
     "text": [
      "313/313 [==============================] - 2s 6ms/step - loss: 0.3262 - accuracy: 0.8895\n"
     ]
    },
    {
     "data": {
      "text/plain": [
       "[0.3261595666408539, 0.8895000219345093]"
      ]
     },
     "execution_count": 32,
     "metadata": {},
     "output_type": "execute_result"
    }
   ],
   "source": [
    "model.evaluate(x_test,y_test)"
   ]
  },
  {
   "cell_type": "raw",
   "id": "059170e3-ff6c-4dd3-89c3-2442c0d20dbf",
   "metadata": {},
   "source": [
    "task 2, answer = 0.89"
   ]
  }
 ],
 "metadata": {
  "kernelspec": {
   "display_name": "Python 3 (ipykernel)",
   "language": "python",
   "name": "python3"
  },
  "language_info": {
   "codemirror_mode": {
    "name": "ipython",
    "version": 3
   },
   "file_extension": ".py",
   "mimetype": "text/x-python",
   "name": "python",
   "nbconvert_exporter": "python",
   "pygments_lexer": "ipython3",
   "version": "3.10.10"
  }
 },
 "nbformat": 4,
 "nbformat_minor": 5
}
