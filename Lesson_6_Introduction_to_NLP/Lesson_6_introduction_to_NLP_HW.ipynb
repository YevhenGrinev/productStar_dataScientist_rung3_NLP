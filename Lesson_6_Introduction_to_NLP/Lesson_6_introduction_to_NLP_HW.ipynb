{
 "cells": [
  {
   "cell_type": "code",
   "execution_count": 19,
   "id": "790ee619-a551-4f17-9cde-114f7369ffbc",
   "metadata": {
    "tags": []
   },
   "outputs": [],
   "source": [
    "import pickle\n",
    "from nltk.corpus import stopwords\n",
    "from nltk.tokenize import word_tokenize\n",
    "from nltk.stem.snowball import RussianStemmer\n",
    "import gensim"
   ]
  },
  {
   "cell_type": "code",
   "execution_count": 2,
   "id": "9118182f-1ccc-4f78-a536-98892910a586",
   "metadata": {
    "tags": []
   },
   "outputs": [],
   "source": [
    "with open('./comments.list', 'rb') as file:\n",
    "    comments = pickle.load(file)"
   ]
  },
  {
   "cell_type": "code",
   "execution_count": 6,
   "id": "7a08968f-1e7c-40c3-b44e-1ac0f772d80b",
   "metadata": {
    "tags": []
   },
   "outputs": [],
   "source": [
    "stop_words = set(stopwords.words('russian'))"
   ]
  },
  {
   "cell_type": "code",
   "execution_count": 16,
   "id": "1d460719-a53a-4a97-b551-6b2a677df093",
   "metadata": {
    "tags": []
   },
   "outputs": [],
   "source": [
    "stemmer = RussianStemmer()"
   ]
  },
  {
   "cell_type": "code",
   "execution_count": 13,
   "id": "d016d93f-5e97-4578-a892-7948d38d5f51",
   "metadata": {
    "tags": []
   },
   "outputs": [],
   "source": [
    "def preprocess(comment):\n",
    "    comment = comment.lower()\n",
    "    \n",
    "    tokens = word_tokenize(comment)\n",
    "    \n",
    "    tokens = [stemmer.stem(t) for t in tokens if t.isalpha() and t not in stop_words]\n",
    "    \n",
    "    return tokens"
   ]
  },
  {
   "cell_type": "code",
   "execution_count": 17,
   "id": "aaf7fc72-b3ff-415b-b7f0-3edfe8f7e7af",
   "metadata": {
    "tags": []
   },
   "outputs": [
    {
     "name": "stdout",
     "output_type": "stream",
     "text": [
      "CPU times: user 3min 31s, sys: 788 ms, total: 3min 32s\n",
      "Wall time: 3min 32s\n"
     ]
    }
   ],
   "source": [
    "%%time\n",
    "comments = [preprocess(comm) for comm in comments]"
   ]
  },
  {
   "cell_type": "code",
   "execution_count": 20,
   "id": "0f757707-8de4-4f27-aae0-52c5140b066f",
   "metadata": {
    "tags": []
   },
   "outputs": [],
   "source": [
    "model = gensim.models.Word2Vec(\n",
    "    comments,\n",
    "    vector_size=50,\n",
    "    window=5,\n",
    "    min_count=5,\n",
    "    sg=1,\n",
    "    epochs=50,\n",
    "    workers=8\n",
    ")"
   ]
  },
  {
   "cell_type": "code",
   "execution_count": 22,
   "id": "22cade3c-67b7-44eb-8e7b-23ced0217a08",
   "metadata": {
    "tags": []
   },
   "outputs": [
    {
     "data": {
      "text/plain": [
       "[('политолог', 0.754867672920227),\n",
       " ('программист', 0.6833125352859497),\n",
       " ('долгосрок', 0.6591665148735046),\n",
       " ('варлам', 0.6538331508636475),\n",
       " ('методолог', 0.6514065861701965)]"
      ]
     },
     "execution_count": 22,
     "metadata": {},
     "output_type": "execute_result"
    }
   ],
   "source": [
    "model.wv.most_similar(positive=stemmer.stem('аналитик'), topn=5)"
   ]
  },
  {
   "cell_type": "raw",
   "id": "dbbb1ad5-5ae0-496d-a9d9-985c886de608",
   "metadata": {},
   "source": [
    "task 1, answer = политолог"
   ]
  },
  {
   "cell_type": "code",
   "execution_count": 24,
   "id": "d2f42ad5-891a-4891-8870-7d0f3affe292",
   "metadata": {
    "tags": []
   },
   "outputs": [
    {
     "data": {
      "text/plain": [
       "[('мультиаккаунт', 0.718116044998169),\n",
       " ('supportcommunity', 0.7058072090148926),\n",
       " ('маякн', 0.6690250635147095),\n",
       " ('сообществ', 0.6639944911003113),\n",
       " ('moderator', 0.6562292575836182)]"
      ]
     },
     "execution_count": 24,
     "metadata": {},
     "output_type": "execute_result"
    }
   ],
   "source": [
    "model.wv.most_similar(positive=[stemmer.stem('модератор'), stemmer.stem('добро')], negative=[stemmer.stem('зло')], topn=5)"
   ]
  },
  {
   "cell_type": "raw",
   "id": "5c0cd902-dbc2-4b5d-9aa8-e9c7be509363",
   "metadata": {},
   "source": [
    "task 2, answer = supportcommunity"
   ]
  },
  {
   "cell_type": "code",
   "execution_count": 25,
   "id": "bd6a79b6-e338-4add-a7d0-489441a59afd",
   "metadata": {
    "tags": []
   },
   "outputs": [
    {
     "data": {
      "text/plain": [
       "'человек'"
      ]
     },
     "execution_count": 25,
     "metadata": {},
     "output_type": "execute_result"
    }
   ],
   "source": [
    "model.wv.doesnt_match(\n",
    "    [\n",
    "    stemmer.stem('пользователь'),\n",
    "    stemmer.stem('модератор'),\n",
    "    stemmer.stem('админ'),\n",
    "    stemmer.stem('человек'),\n",
    "    stemmer.stem('пикабушник'),\n",
    "    ]\n",
    ")"
   ]
  },
  {
   "cell_type": "raw",
   "id": "0957bd41-6733-4fbd-a4fa-d32587831471",
   "metadata": {},
   "source": [
    "task 3, answer = человек"
   ]
  },
  {
   "cell_type": "code",
   "execution_count": 41,
   "id": "66541a75-f328-450f-8f58-b914812894b6",
   "metadata": {
    "tags": []
   },
   "outputs": [
    {
     "data": {
      "text/plain": [
       "'добр'"
      ]
     },
     "execution_count": 41,
     "metadata": {},
     "output_type": "execute_result"
    }
   ],
   "source": [
    "model.wv.most_similar_to_given(\n",
    "    stemmer.stem('пикабушник'),\n",
    "    [\n",
    "    stemmer.stem('добрый'),\n",
    "    stemmer.stem('злой'),\n",
    "    stemmer.stem('грустный'),\n",
    "    stemmer.stem('скандальный'),\n",
    "    stemmer.stem('весёлый'),\n",
    "    ]\n",
    ")"
   ]
  },
  {
   "cell_type": "code",
   "execution_count": 33,
   "id": "ef5e146e-6408-4dc4-8722-608e54d084ad",
   "metadata": {
    "tags": []
   },
   "outputs": [
    {
     "name": "stdout",
     "output_type": "stream",
     "text": [
      "добр зло грустн скандальн весел\n"
     ]
    }
   ],
   "source": [
    "print(stemmer.stem('добрый'),\n",
    "    stemmer.stem('злой'),\n",
    "    stemmer.stem('грустный'),\n",
    "    stemmer.stem('скандальный'),\n",
    "    stemmer.stem('весёлый'),)"
   ]
  }
 ],
 "metadata": {
  "kernelspec": {
   "display_name": "Python 3 (ipykernel)",
   "language": "python",
   "name": "python3"
  },
  "language_info": {
   "codemirror_mode": {
    "name": "ipython",
    "version": 3
   },
   "file_extension": ".py",
   "mimetype": "text/x-python",
   "name": "python",
   "nbconvert_exporter": "python",
   "pygments_lexer": "ipython3",
   "version": "3.10.10"
  }
 },
 "nbformat": 4,
 "nbformat_minor": 5
}
