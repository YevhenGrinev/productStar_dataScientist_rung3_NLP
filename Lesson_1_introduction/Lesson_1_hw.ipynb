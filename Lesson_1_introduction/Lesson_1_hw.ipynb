{
 "cells": [
  {
   "cell_type": "code",
   "execution_count": 34,
   "id": "b27b601c-fe4d-45c1-be04-1150857c845c",
   "metadata": {
    "tags": []
   },
   "outputs": [],
   "source": [
    "import pandas as pd \n",
    "import numpy as np \n",
    "import math\n",
    "from datetime import datetime as dt"
   ]
  },
  {
   "cell_type": "code",
   "execution_count": 26,
   "id": "2e17b799-bea1-4e0b-bc4f-bb99e670a702",
   "metadata": {
    "tags": []
   },
   "outputs": [
    {
     "data": {
      "text/html": [
       "<div>\n",
       "<style scoped>\n",
       "    .dataframe tbody tr th:only-of-type {\n",
       "        vertical-align: middle;\n",
       "    }\n",
       "\n",
       "    .dataframe tbody tr th {\n",
       "        vertical-align: top;\n",
       "    }\n",
       "\n",
       "    .dataframe thead th {\n",
       "        text-align: right;\n",
       "    }\n",
       "</style>\n",
       "<table border=\"1\" class=\"dataframe\">\n",
       "  <thead>\n",
       "    <tr style=\"text-align: right;\">\n",
       "      <th></th>\n",
       "      <th>time</th>\n",
       "      <th>tags</th>\n",
       "      <th>nsfw</th>\n",
       "      <th>my</th>\n",
       "      <th>images</th>\n",
       "      <th>videos</th>\n",
       "      <th>text_len</th>\n",
       "      <th>rating</th>\n",
       "    </tr>\n",
       "  </thead>\n",
       "  <tbody>\n",
       "    <tr>\n",
       "      <th>0</th>\n",
       "      <td>1569877228</td>\n",
       "      <td>Творчество детское, Рисунок, Детский сад, Детс...</td>\n",
       "      <td>0</td>\n",
       "      <td>1</td>\n",
       "      <td>2</td>\n",
       "      <td>0</td>\n",
       "      <td>135</td>\n",
       "      <td>683</td>\n",
       "    </tr>\n",
       "    <tr>\n",
       "      <th>1</th>\n",
       "      <td>1569877232</td>\n",
       "      <td>Собака, Было-Стало, {#73#}</td>\n",
       "      <td>0</td>\n",
       "      <td>1</td>\n",
       "      <td>1</td>\n",
       "      <td>0</td>\n",
       "      <td>113</td>\n",
       "      <td>480</td>\n",
       "    </tr>\n",
       "    <tr>\n",
       "      <th>2</th>\n",
       "      <td>1569877241</td>\n",
       "      <td>Дерево, Поле, Фотография</td>\n",
       "      <td>0</td>\n",
       "      <td>0</td>\n",
       "      <td>1</td>\n",
       "      <td>0</td>\n",
       "      <td>0</td>\n",
       "      <td>301</td>\n",
       "    </tr>\n",
       "    <tr>\n",
       "      <th>3</th>\n",
       "      <td>1569877249</td>\n",
       "      <td>Военторг, Из сети, Продукты, Длиннопост</td>\n",
       "      <td>0</td>\n",
       "      <td>0</td>\n",
       "      <td>4</td>\n",
       "      <td>0</td>\n",
       "      <td>0</td>\n",
       "      <td>425</td>\n",
       "    </tr>\n",
       "    <tr>\n",
       "      <th>4</th>\n",
       "      <td>1569877259</td>\n",
       "      <td>Mortal Kombat 11, Тизер, Текст, Геймеры, Новос...</td>\n",
       "      <td>0</td>\n",
       "      <td>0</td>\n",
       "      <td>1</td>\n",
       "      <td>0</td>\n",
       "      <td>726</td>\n",
       "      <td>617</td>\n",
       "    </tr>\n",
       "  </tbody>\n",
       "</table>\n",
       "</div>"
      ],
      "text/plain": [
       "         time                                               tags  nsfw  my  \\\n",
       "0  1569877228  Творчество детское, Рисунок, Детский сад, Детс...     0   1   \n",
       "1  1569877232                         Собака, Было-Стало, {#73#}     0   1   \n",
       "2  1569877241                           Дерево, Поле, Фотография     0   0   \n",
       "3  1569877249            Военторг, Из сети, Продукты, Длиннопост     0   0   \n",
       "4  1569877259  Mortal Kombat 11, Тизер, Текст, Геймеры, Новос...     0   0   \n",
       "\n",
       "   images  videos  text_len  rating  \n",
       "0       2       0       135     683  \n",
       "1       1       0       113     480  \n",
       "2       1       0         0     301  \n",
       "3       4       0         0     425  \n",
       "4       1       0       726     617  "
      ]
     },
     "execution_count": 26,
     "metadata": {},
     "output_type": "execute_result"
    }
   ],
   "source": [
    "data = pd.read_csv('./posts_df.csv')\n",
    "data.head(5)"
   ]
  },
  {
   "cell_type": "code",
   "execution_count": 27,
   "id": "eac1db3b-6cc2-403e-ac4d-b741b4ea3611",
   "metadata": {
    "tags": []
   },
   "outputs": [],
   "source": [
    "# time = 1569877228"
   ]
  },
  {
   "cell_type": "code",
   "execution_count": 28,
   "id": "3d5c151b-807f-47fd-9a35-fb99d4c0d2d9",
   "metadata": {
    "tags": []
   },
   "outputs": [],
   "source": [
    "# dt.utcfromtimestamp(1569877228).strftime('%Y-%m-%d %H:%M:%S')"
   ]
  },
  {
   "cell_type": "code",
   "execution_count": 29,
   "id": "8aa4d6a8-4deb-4b77-bbca-6c806d6de832",
   "metadata": {
    "tags": []
   },
   "outputs": [],
   "source": [
    "# data.time = data.time.apply(lambda x: dt.utcfromtimestamp(x).strftime('%Y-%m-%d %H:%M:%S'))"
   ]
  },
  {
   "cell_type": "code",
   "execution_count": 30,
   "id": "213394a0-cc85-4f10-8d78-5888fb142ccf",
   "metadata": {
    "tags": []
   },
   "outputs": [],
   "source": [
    "# data.head"
   ]
  },
  {
   "cell_type": "code",
   "execution_count": 35,
   "id": "50897e8d-37d9-45ca-8c9b-28f3e76ac634",
   "metadata": {
    "tags": []
   },
   "outputs": [
    {
     "data": {
      "text/html": [
       "<div>\n",
       "<style scoped>\n",
       "    .dataframe tbody tr th:only-of-type {\n",
       "        vertical-align: middle;\n",
       "    }\n",
       "\n",
       "    .dataframe tbody tr th {\n",
       "        vertical-align: top;\n",
       "    }\n",
       "\n",
       "    .dataframe thead th {\n",
       "        text-align: right;\n",
       "    }\n",
       "</style>\n",
       "<table border=\"1\" class=\"dataframe\">\n",
       "  <thead>\n",
       "    <tr style=\"text-align: right;\">\n",
       "      <th></th>\n",
       "      <th>time</th>\n",
       "      <th>tags</th>\n",
       "      <th>nsfw</th>\n",
       "      <th>my</th>\n",
       "      <th>images</th>\n",
       "      <th>videos</th>\n",
       "      <th>text_len</th>\n",
       "      <th>rating</th>\n",
       "    </tr>\n",
       "  </thead>\n",
       "  <tbody>\n",
       "    <tr>\n",
       "      <th>0</th>\n",
       "      <td>5.499887</td>\n",
       "      <td>Творчество детское, Рисунок, Детский сад, Детс...</td>\n",
       "      <td>0</td>\n",
       "      <td>1</td>\n",
       "      <td>2</td>\n",
       "      <td>0</td>\n",
       "      <td>135</td>\n",
       "      <td>683</td>\n",
       "    </tr>\n",
       "    <tr>\n",
       "      <th>1</th>\n",
       "      <td>5.500178</td>\n",
       "      <td>Собака, Было-Стало, {#73#}</td>\n",
       "      <td>0</td>\n",
       "      <td>1</td>\n",
       "      <td>1</td>\n",
       "      <td>0</td>\n",
       "      <td>113</td>\n",
       "      <td>480</td>\n",
       "    </tr>\n",
       "    <tr>\n",
       "      <th>2</th>\n",
       "      <td>5.500832</td>\n",
       "      <td>Дерево, Поле, Фотография</td>\n",
       "      <td>0</td>\n",
       "      <td>0</td>\n",
       "      <td>1</td>\n",
       "      <td>0</td>\n",
       "      <td>0</td>\n",
       "      <td>301</td>\n",
       "    </tr>\n",
       "    <tr>\n",
       "      <th>3</th>\n",
       "      <td>5.501414</td>\n",
       "      <td>Военторг, Из сети, Продукты, Длиннопост</td>\n",
       "      <td>0</td>\n",
       "      <td>0</td>\n",
       "      <td>4</td>\n",
       "      <td>0</td>\n",
       "      <td>0</td>\n",
       "      <td>425</td>\n",
       "    </tr>\n",
       "    <tr>\n",
       "      <th>4</th>\n",
       "      <td>5.502141</td>\n",
       "      <td>Mortal Kombat 11, Тизер, Текст, Геймеры, Новос...</td>\n",
       "      <td>0</td>\n",
       "      <td>0</td>\n",
       "      <td>1</td>\n",
       "      <td>0</td>\n",
       "      <td>726</td>\n",
       "      <td>617</td>\n",
       "    </tr>\n",
       "  </tbody>\n",
       "</table>\n",
       "</div>"
      ],
      "text/plain": [
       "       time                                               tags  nsfw  my  \\\n",
       "0  5.499887  Творчество детское, Рисунок, Детский сад, Детс...     0   1   \n",
       "1  5.500178                         Собака, Было-Стало, {#73#}     0   1   \n",
       "2  5.500832                           Дерево, Поле, Фотография     0   0   \n",
       "3  5.501414            Военторг, Из сети, Продукты, Длиннопост     0   0   \n",
       "4  5.502141  Mortal Kombat 11, Тизер, Текст, Геймеры, Новос...     0   0   \n",
       "\n",
       "   images  videos  text_len  rating  \n",
       "0       2       0       135     683  \n",
       "1       1       0       113     480  \n",
       "2       1       0         0     301  \n",
       "3       4       0         0     425  \n",
       "4       1       0       726     617  "
      ]
     },
     "execution_count": 35,
     "metadata": {},
     "output_type": "execute_result"
    }
   ],
   "source": [
    "data['time'] = data['time'] % (60*60*24)\n",
    "data.time = (data.time / data.time.max()) * 2*math.pi\n",
    "data.head(5)"
   ]
  },
  {
   "cell_type": "code",
   "execution_count": 36,
   "id": "e150d40e-67c7-4b52-ae88-b789b2fcd765",
   "metadata": {
    "tags": []
   },
   "outputs": [
    {
     "data": {
      "text/html": [
       "<div>\n",
       "<style scoped>\n",
       "    .dataframe tbody tr th:only-of-type {\n",
       "        vertical-align: middle;\n",
       "    }\n",
       "\n",
       "    .dataframe tbody tr th {\n",
       "        vertical-align: top;\n",
       "    }\n",
       "\n",
       "    .dataframe thead th {\n",
       "        text-align: right;\n",
       "    }\n",
       "</style>\n",
       "<table border=\"1\" class=\"dataframe\">\n",
       "  <thead>\n",
       "    <tr style=\"text-align: right;\">\n",
       "      <th></th>\n",
       "      <th>time</th>\n",
       "      <th>tags</th>\n",
       "      <th>nsfw</th>\n",
       "      <th>my</th>\n",
       "      <th>images</th>\n",
       "      <th>videos</th>\n",
       "      <th>text_len</th>\n",
       "      <th>rating</th>\n",
       "      <th>tsin</th>\n",
       "      <th>tcos</th>\n",
       "    </tr>\n",
       "  </thead>\n",
       "  <tbody>\n",
       "    <tr>\n",
       "      <th>0</th>\n",
       "      <td>5.499887</td>\n",
       "      <td>Творчество детское, Рисунок, Детский сад, Детс...</td>\n",
       "      <td>0</td>\n",
       "      <td>1</td>\n",
       "      <td>2</td>\n",
       "      <td>0</td>\n",
       "      <td>135</td>\n",
       "      <td>683</td>\n",
       "      <td>-0.705620</td>\n",
       "      <td>0.708590</td>\n",
       "    </tr>\n",
       "    <tr>\n",
       "      <th>1</th>\n",
       "      <td>5.500178</td>\n",
       "      <td>Собака, Было-Стало, {#73#}</td>\n",
       "      <td>0</td>\n",
       "      <td>1</td>\n",
       "      <td>1</td>\n",
       "      <td>0</td>\n",
       "      <td>113</td>\n",
       "      <td>480</td>\n",
       "      <td>-0.705414</td>\n",
       "      <td>0.708795</td>\n",
       "    </tr>\n",
       "    <tr>\n",
       "      <th>2</th>\n",
       "      <td>5.500832</td>\n",
       "      <td>Дерево, Поле, Фотография</td>\n",
       "      <td>0</td>\n",
       "      <td>0</td>\n",
       "      <td>1</td>\n",
       "      <td>0</td>\n",
       "      <td>0</td>\n",
       "      <td>301</td>\n",
       "      <td>-0.704950</td>\n",
       "      <td>0.709257</td>\n",
       "    </tr>\n",
       "    <tr>\n",
       "      <th>3</th>\n",
       "      <td>5.501414</td>\n",
       "      <td>Военторг, Из сети, Продукты, Длиннопост</td>\n",
       "      <td>0</td>\n",
       "      <td>0</td>\n",
       "      <td>4</td>\n",
       "      <td>0</td>\n",
       "      <td>0</td>\n",
       "      <td>425</td>\n",
       "      <td>-0.704537</td>\n",
       "      <td>0.709667</td>\n",
       "    </tr>\n",
       "    <tr>\n",
       "      <th>4</th>\n",
       "      <td>5.502141</td>\n",
       "      <td>Mortal Kombat 11, Тизер, Текст, Геймеры, Новос...</td>\n",
       "      <td>0</td>\n",
       "      <td>0</td>\n",
       "      <td>1</td>\n",
       "      <td>0</td>\n",
       "      <td>726</td>\n",
       "      <td>617</td>\n",
       "      <td>-0.704021</td>\n",
       "      <td>0.710179</td>\n",
       "    </tr>\n",
       "  </tbody>\n",
       "</table>\n",
       "</div>"
      ],
      "text/plain": [
       "       time                                               tags  nsfw  my  \\\n",
       "0  5.499887  Творчество детское, Рисунок, Детский сад, Детс...     0   1   \n",
       "1  5.500178                         Собака, Было-Стало, {#73#}     0   1   \n",
       "2  5.500832                           Дерево, Поле, Фотография     0   0   \n",
       "3  5.501414            Военторг, Из сети, Продукты, Длиннопост     0   0   \n",
       "4  5.502141  Mortal Kombat 11, Тизер, Текст, Геймеры, Новос...     0   0   \n",
       "\n",
       "   images  videos  text_len  rating      tsin      tcos  \n",
       "0       2       0       135     683 -0.705620  0.708590  \n",
       "1       1       0       113     480 -0.705414  0.708795  \n",
       "2       1       0         0     301 -0.704950  0.709257  \n",
       "3       4       0         0     425 -0.704537  0.709667  \n",
       "4       1       0       726     617 -0.704021  0.710179  "
      ]
     },
     "execution_count": 36,
     "metadata": {},
     "output_type": "execute_result"
    }
   ],
   "source": [
    "tsin_list = []\n",
    "tcos_list = []\n",
    "for row in data.time: \n",
    "    tsin_list.append(math.sin(row))\n",
    "    tcos_list.append(math.cos(row))\n",
    "    \n",
    "data['tsin'] = tsin_list\n",
    "data['tcos'] = tcos_list\n",
    "\n",
    "data.head(5)"
   ]
  },
  {
   "cell_type": "code",
   "execution_count": 37,
   "id": "ce2c397a-5c8b-4735-8ec5-0e5f50d85de7",
   "metadata": {
    "tags": []
   },
   "outputs": [
    {
     "data": {
      "text/html": [
       "<div>\n",
       "<style scoped>\n",
       "    .dataframe tbody tr th:only-of-type {\n",
       "        vertical-align: middle;\n",
       "    }\n",
       "\n",
       "    .dataframe tbody tr th {\n",
       "        vertical-align: top;\n",
       "    }\n",
       "\n",
       "    .dataframe thead th {\n",
       "        text-align: right;\n",
       "    }\n",
       "</style>\n",
       "<table border=\"1\" class=\"dataframe\">\n",
       "  <thead>\n",
       "    <tr style=\"text-align: right;\">\n",
       "      <th></th>\n",
       "      <th>tags</th>\n",
       "      <th>nsfw</th>\n",
       "      <th>my</th>\n",
       "      <th>images</th>\n",
       "      <th>videos</th>\n",
       "      <th>text_len</th>\n",
       "      <th>rating</th>\n",
       "      <th>tsin</th>\n",
       "      <th>tcos</th>\n",
       "    </tr>\n",
       "  </thead>\n",
       "  <tbody>\n",
       "    <tr>\n",
       "      <th>0</th>\n",
       "      <td>Творчество детское, Рисунок, Детский сад, Детс...</td>\n",
       "      <td>0</td>\n",
       "      <td>1</td>\n",
       "      <td>2</td>\n",
       "      <td>0</td>\n",
       "      <td>135</td>\n",
       "      <td>683</td>\n",
       "      <td>-0.705620</td>\n",
       "      <td>0.708590</td>\n",
       "    </tr>\n",
       "    <tr>\n",
       "      <th>1</th>\n",
       "      <td>Собака, Было-Стало, {#73#}</td>\n",
       "      <td>0</td>\n",
       "      <td>1</td>\n",
       "      <td>1</td>\n",
       "      <td>0</td>\n",
       "      <td>113</td>\n",
       "      <td>480</td>\n",
       "      <td>-0.705414</td>\n",
       "      <td>0.708795</td>\n",
       "    </tr>\n",
       "    <tr>\n",
       "      <th>2</th>\n",
       "      <td>Дерево, Поле, Фотография</td>\n",
       "      <td>0</td>\n",
       "      <td>0</td>\n",
       "      <td>1</td>\n",
       "      <td>0</td>\n",
       "      <td>0</td>\n",
       "      <td>301</td>\n",
       "      <td>-0.704950</td>\n",
       "      <td>0.709257</td>\n",
       "    </tr>\n",
       "    <tr>\n",
       "      <th>3</th>\n",
       "      <td>Военторг, Из сети, Продукты, Длиннопост</td>\n",
       "      <td>0</td>\n",
       "      <td>0</td>\n",
       "      <td>4</td>\n",
       "      <td>0</td>\n",
       "      <td>0</td>\n",
       "      <td>425</td>\n",
       "      <td>-0.704537</td>\n",
       "      <td>0.709667</td>\n",
       "    </tr>\n",
       "    <tr>\n",
       "      <th>4</th>\n",
       "      <td>Mortal Kombat 11, Тизер, Текст, Геймеры, Новос...</td>\n",
       "      <td>0</td>\n",
       "      <td>0</td>\n",
       "      <td>1</td>\n",
       "      <td>0</td>\n",
       "      <td>726</td>\n",
       "      <td>617</td>\n",
       "      <td>-0.704021</td>\n",
       "      <td>0.710179</td>\n",
       "    </tr>\n",
       "  </tbody>\n",
       "</table>\n",
       "</div>"
      ],
      "text/plain": [
       "                                                tags  nsfw  my  images  \\\n",
       "0  Творчество детское, Рисунок, Детский сад, Детс...     0   1       2   \n",
       "1                         Собака, Было-Стало, {#73#}     0   1       1   \n",
       "2                           Дерево, Поле, Фотография     0   0       1   \n",
       "3            Военторг, Из сети, Продукты, Длиннопост     0   0       4   \n",
       "4  Mortal Kombat 11, Тизер, Текст, Геймеры, Новос...     0   0       1   \n",
       "\n",
       "   videos  text_len  rating      tsin      tcos  \n",
       "0       0       135     683 -0.705620  0.708590  \n",
       "1       0       113     480 -0.705414  0.708795  \n",
       "2       0         0     301 -0.704950  0.709257  \n",
       "3       0         0     425 -0.704537  0.709667  \n",
       "4       0       726     617 -0.704021  0.710179  "
      ]
     },
     "execution_count": 37,
     "metadata": {},
     "output_type": "execute_result"
    }
   ],
   "source": [
    "data = data.drop(columns=['time'], axis=1)\n",
    "data.head(5)"
   ]
  },
  {
   "cell_type": "code",
   "execution_count": 40,
   "id": "f940db0b-2fa6-4513-904f-21c06b3d8269",
   "metadata": {
    "tags": []
   },
   "outputs": [
    {
     "ename": "AttributeError",
     "evalue": "'list' object has no attribute 'split'",
     "output_type": "error",
     "traceback": [
      "\u001b[0;31m---------------------------------------------------------------------------\u001b[0m",
      "\u001b[0;31mAttributeError\u001b[0m                            Traceback (most recent call last)",
      "Cell \u001b[0;32mIn[40], line 1\u001b[0m\n\u001b[0;32m----> 1\u001b[0m data\u001b[38;5;241m.\u001b[39mtags \u001b[38;5;241m=\u001b[39m \u001b[43mdata\u001b[49m\u001b[38;5;241;43m.\u001b[39;49m\u001b[43mtags\u001b[49m\u001b[38;5;241;43m.\u001b[39;49m\u001b[43mapply\u001b[49m\u001b[43m(\u001b[49m\u001b[38;5;28;43;01mlambda\u001b[39;49;00m\u001b[43m \u001b[49m\u001b[43mx\u001b[49m\u001b[43m:\u001b[49m\u001b[43m \u001b[49m\u001b[43mx\u001b[49m\u001b[38;5;241;43m.\u001b[39;49m\u001b[43msplit\u001b[49m\u001b[43m(\u001b[49m\u001b[38;5;124;43m'\u001b[39;49m\u001b[38;5;124;43m, \u001b[39;49m\u001b[38;5;124;43m'\u001b[39;49m\u001b[43m)\u001b[49m\u001b[43m)\u001b[49m\n",
      "File \u001b[0;32m~/mambaforge/lib/python3.10/site-packages/pandas/core/series.py:4771\u001b[0m, in \u001b[0;36mSeries.apply\u001b[0;34m(self, func, convert_dtype, args, **kwargs)\u001b[0m\n\u001b[1;32m   4661\u001b[0m \u001b[38;5;28;01mdef\u001b[39;00m \u001b[38;5;21mapply\u001b[39m(\n\u001b[1;32m   4662\u001b[0m     \u001b[38;5;28mself\u001b[39m,\n\u001b[1;32m   4663\u001b[0m     func: AggFuncType,\n\u001b[0;32m   (...)\u001b[0m\n\u001b[1;32m   4666\u001b[0m     \u001b[38;5;241m*\u001b[39m\u001b[38;5;241m*\u001b[39mkwargs,\n\u001b[1;32m   4667\u001b[0m ) \u001b[38;5;241m-\u001b[39m\u001b[38;5;241m>\u001b[39m DataFrame \u001b[38;5;241m|\u001b[39m Series:\n\u001b[1;32m   4668\u001b[0m \u001b[38;5;250m    \u001b[39m\u001b[38;5;124;03m\"\"\"\u001b[39;00m\n\u001b[1;32m   4669\u001b[0m \u001b[38;5;124;03m    Invoke function on values of Series.\u001b[39;00m\n\u001b[1;32m   4670\u001b[0m \n\u001b[0;32m   (...)\u001b[0m\n\u001b[1;32m   4769\u001b[0m \u001b[38;5;124;03m    dtype: float64\u001b[39;00m\n\u001b[1;32m   4770\u001b[0m \u001b[38;5;124;03m    \"\"\"\u001b[39;00m\n\u001b[0;32m-> 4771\u001b[0m     \u001b[38;5;28;01mreturn\u001b[39;00m \u001b[43mSeriesApply\u001b[49m\u001b[43m(\u001b[49m\u001b[38;5;28;43mself\u001b[39;49m\u001b[43m,\u001b[49m\u001b[43m \u001b[49m\u001b[43mfunc\u001b[49m\u001b[43m,\u001b[49m\u001b[43m \u001b[49m\u001b[43mconvert_dtype\u001b[49m\u001b[43m,\u001b[49m\u001b[43m \u001b[49m\u001b[43margs\u001b[49m\u001b[43m,\u001b[49m\u001b[43m \u001b[49m\u001b[43mkwargs\u001b[49m\u001b[43m)\u001b[49m\u001b[38;5;241;43m.\u001b[39;49m\u001b[43mapply\u001b[49m\u001b[43m(\u001b[49m\u001b[43m)\u001b[49m\n",
      "File \u001b[0;32m~/mambaforge/lib/python3.10/site-packages/pandas/core/apply.py:1123\u001b[0m, in \u001b[0;36mSeriesApply.apply\u001b[0;34m(self)\u001b[0m\n\u001b[1;32m   1120\u001b[0m     \u001b[38;5;28;01mreturn\u001b[39;00m \u001b[38;5;28mself\u001b[39m\u001b[38;5;241m.\u001b[39mapply_str()\n\u001b[1;32m   1122\u001b[0m \u001b[38;5;66;03m# self.f is Callable\u001b[39;00m\n\u001b[0;32m-> 1123\u001b[0m \u001b[38;5;28;01mreturn\u001b[39;00m \u001b[38;5;28;43mself\u001b[39;49m\u001b[38;5;241;43m.\u001b[39;49m\u001b[43mapply_standard\u001b[49m\u001b[43m(\u001b[49m\u001b[43m)\u001b[49m\n",
      "File \u001b[0;32m~/mambaforge/lib/python3.10/site-packages/pandas/core/apply.py:1174\u001b[0m, in \u001b[0;36mSeriesApply.apply_standard\u001b[0;34m(self)\u001b[0m\n\u001b[1;32m   1172\u001b[0m     \u001b[38;5;28;01melse\u001b[39;00m:\n\u001b[1;32m   1173\u001b[0m         values \u001b[38;5;241m=\u001b[39m obj\u001b[38;5;241m.\u001b[39mastype(\u001b[38;5;28mobject\u001b[39m)\u001b[38;5;241m.\u001b[39m_values\n\u001b[0;32m-> 1174\u001b[0m         mapped \u001b[38;5;241m=\u001b[39m \u001b[43mlib\u001b[49m\u001b[38;5;241;43m.\u001b[39;49m\u001b[43mmap_infer\u001b[49m\u001b[43m(\u001b[49m\n\u001b[1;32m   1175\u001b[0m \u001b[43m            \u001b[49m\u001b[43mvalues\u001b[49m\u001b[43m,\u001b[49m\n\u001b[1;32m   1176\u001b[0m \u001b[43m            \u001b[49m\u001b[43mf\u001b[49m\u001b[43m,\u001b[49m\n\u001b[1;32m   1177\u001b[0m \u001b[43m            \u001b[49m\u001b[43mconvert\u001b[49m\u001b[38;5;241;43m=\u001b[39;49m\u001b[38;5;28;43mself\u001b[39;49m\u001b[38;5;241;43m.\u001b[39;49m\u001b[43mconvert_dtype\u001b[49m\u001b[43m,\u001b[49m\n\u001b[1;32m   1178\u001b[0m \u001b[43m        \u001b[49m\u001b[43m)\u001b[49m\n\u001b[1;32m   1180\u001b[0m \u001b[38;5;28;01mif\u001b[39;00m \u001b[38;5;28mlen\u001b[39m(mapped) \u001b[38;5;129;01mand\u001b[39;00m \u001b[38;5;28misinstance\u001b[39m(mapped[\u001b[38;5;241m0\u001b[39m], ABCSeries):\n\u001b[1;32m   1181\u001b[0m     \u001b[38;5;66;03m# GH#43986 Need to do list(mapped) in order to get treated as nested\u001b[39;00m\n\u001b[1;32m   1182\u001b[0m     \u001b[38;5;66;03m#  See also GH#25959 regarding EA support\u001b[39;00m\n\u001b[1;32m   1183\u001b[0m     \u001b[38;5;28;01mreturn\u001b[39;00m obj\u001b[38;5;241m.\u001b[39m_constructor_expanddim(\u001b[38;5;28mlist\u001b[39m(mapped), index\u001b[38;5;241m=\u001b[39mobj\u001b[38;5;241m.\u001b[39mindex)\n",
      "File \u001b[0;32m~/mambaforge/lib/python3.10/site-packages/pandas/_libs/lib.pyx:2924\u001b[0m, in \u001b[0;36mpandas._libs.lib.map_infer\u001b[0;34m()\u001b[0m\n",
      "Cell \u001b[0;32mIn[40], line 1\u001b[0m, in \u001b[0;36m<lambda>\u001b[0;34m(x)\u001b[0m\n\u001b[0;32m----> 1\u001b[0m data\u001b[38;5;241m.\u001b[39mtags \u001b[38;5;241m=\u001b[39m data\u001b[38;5;241m.\u001b[39mtags\u001b[38;5;241m.\u001b[39mapply(\u001b[38;5;28;01mlambda\u001b[39;00m x: \u001b[43mx\u001b[49m\u001b[38;5;241;43m.\u001b[39;49m\u001b[43msplit\u001b[49m(\u001b[38;5;124m'\u001b[39m\u001b[38;5;124m, \u001b[39m\u001b[38;5;124m'\u001b[39m))\n",
      "\u001b[0;31mAttributeError\u001b[0m: 'list' object has no attribute 'split'"
     ]
    }
   ],
   "source": [
    "data.tags = data.tags.apply(lambda x: x.split(', '))"
   ]
  },
  {
   "cell_type": "code",
   "execution_count": 41,
   "id": "f39e7c6f-4d51-49ab-901c-4160f33db88b",
   "metadata": {
    "tags": []
   },
   "outputs": [
    {
     "data": {
      "text/html": [
       "<div>\n",
       "<style scoped>\n",
       "    .dataframe tbody tr th:only-of-type {\n",
       "        vertical-align: middle;\n",
       "    }\n",
       "\n",
       "    .dataframe tbody tr th {\n",
       "        vertical-align: top;\n",
       "    }\n",
       "\n",
       "    .dataframe thead th {\n",
       "        text-align: right;\n",
       "    }\n",
       "</style>\n",
       "<table border=\"1\" class=\"dataframe\">\n",
       "  <thead>\n",
       "    <tr style=\"text-align: right;\">\n",
       "      <th></th>\n",
       "      <th>tags</th>\n",
       "      <th>nsfw</th>\n",
       "      <th>my</th>\n",
       "      <th>images</th>\n",
       "      <th>videos</th>\n",
       "      <th>text_len</th>\n",
       "      <th>rating</th>\n",
       "      <th>tsin</th>\n",
       "      <th>tcos</th>\n",
       "    </tr>\n",
       "  </thead>\n",
       "  <tbody>\n",
       "    <tr>\n",
       "      <th>0</th>\n",
       "      <td>[Творчество детское, Рисунок, Детский сад, Дет...</td>\n",
       "      <td>0</td>\n",
       "      <td>1</td>\n",
       "      <td>2</td>\n",
       "      <td>0</td>\n",
       "      <td>135</td>\n",
       "      <td>683</td>\n",
       "      <td>-0.705620</td>\n",
       "      <td>0.708590</td>\n",
       "    </tr>\n",
       "    <tr>\n",
       "      <th>1</th>\n",
       "      <td>[Собака, Было-Стало, {#73#}]</td>\n",
       "      <td>0</td>\n",
       "      <td>1</td>\n",
       "      <td>1</td>\n",
       "      <td>0</td>\n",
       "      <td>113</td>\n",
       "      <td>480</td>\n",
       "      <td>-0.705414</td>\n",
       "      <td>0.708795</td>\n",
       "    </tr>\n",
       "    <tr>\n",
       "      <th>2</th>\n",
       "      <td>[Дерево, Поле, Фотография]</td>\n",
       "      <td>0</td>\n",
       "      <td>0</td>\n",
       "      <td>1</td>\n",
       "      <td>0</td>\n",
       "      <td>0</td>\n",
       "      <td>301</td>\n",
       "      <td>-0.704950</td>\n",
       "      <td>0.709257</td>\n",
       "    </tr>\n",
       "    <tr>\n",
       "      <th>3</th>\n",
       "      <td>[Военторг, Из сети, Продукты, Длиннопост]</td>\n",
       "      <td>0</td>\n",
       "      <td>0</td>\n",
       "      <td>4</td>\n",
       "      <td>0</td>\n",
       "      <td>0</td>\n",
       "      <td>425</td>\n",
       "      <td>-0.704537</td>\n",
       "      <td>0.709667</td>\n",
       "    </tr>\n",
       "    <tr>\n",
       "      <th>4</th>\n",
       "      <td>[Mortal Kombat 11, Тизер, Текст, Геймеры, Ново...</td>\n",
       "      <td>0</td>\n",
       "      <td>0</td>\n",
       "      <td>1</td>\n",
       "      <td>0</td>\n",
       "      <td>726</td>\n",
       "      <td>617</td>\n",
       "      <td>-0.704021</td>\n",
       "      <td>0.710179</td>\n",
       "    </tr>\n",
       "  </tbody>\n",
       "</table>\n",
       "</div>"
      ],
      "text/plain": [
       "                                                tags  nsfw  my  images  \\\n",
       "0  [Творчество детское, Рисунок, Детский сад, Дет...     0   1       2   \n",
       "1                       [Собака, Было-Стало, {#73#}]     0   1       1   \n",
       "2                         [Дерево, Поле, Фотография]     0   0       1   \n",
       "3          [Военторг, Из сети, Продукты, Длиннопост]     0   0       4   \n",
       "4  [Mortal Kombat 11, Тизер, Текст, Геймеры, Ново...     0   0       1   \n",
       "\n",
       "   videos  text_len  rating      tsin      tcos  \n",
       "0       0       135     683 -0.705620  0.708590  \n",
       "1       0       113     480 -0.705414  0.708795  \n",
       "2       0         0     301 -0.704950  0.709257  \n",
       "3       0         0     425 -0.704537  0.709667  \n",
       "4       0       726     617 -0.704021  0.710179  "
      ]
     },
     "execution_count": 41,
     "metadata": {},
     "output_type": "execute_result"
    }
   ],
   "source": [
    "data.head()"
   ]
  },
  {
   "cell_type": "code",
   "execution_count": 43,
   "id": "468dc365-7089-4957-b82f-98a378a36fcd",
   "metadata": {
    "tags": []
   },
   "outputs": [],
   "source": [
    "in_comm_list = []\n",
    "\n",
    "for row in data.tags:\n",
    "    is_in_comm = 0\n",
    "    for tag in row:\n",
    "        if tag[0] == '{' and tag[-1] == '}':\n",
    "            row.remove(tag)\n",
    "            is_in_comm = 1\n",
    "    in_comm_list.append(is_in_comm)\n",
    "    \n",
    "data['in_comm'] = in_comm_list"
   ]
  },
  {
   "cell_type": "code",
   "execution_count": 44,
   "id": "4745bffb-a53d-4169-a789-b84091c0942f",
   "metadata": {
    "tags": []
   },
   "outputs": [
    {
     "data": {
      "text/html": [
       "<div>\n",
       "<style scoped>\n",
       "    .dataframe tbody tr th:only-of-type {\n",
       "        vertical-align: middle;\n",
       "    }\n",
       "\n",
       "    .dataframe tbody tr th {\n",
       "        vertical-align: top;\n",
       "    }\n",
       "\n",
       "    .dataframe thead th {\n",
       "        text-align: right;\n",
       "    }\n",
       "</style>\n",
       "<table border=\"1\" class=\"dataframe\">\n",
       "  <thead>\n",
       "    <tr style=\"text-align: right;\">\n",
       "      <th></th>\n",
       "      <th>tags</th>\n",
       "      <th>nsfw</th>\n",
       "      <th>my</th>\n",
       "      <th>images</th>\n",
       "      <th>videos</th>\n",
       "      <th>text_len</th>\n",
       "      <th>rating</th>\n",
       "      <th>tsin</th>\n",
       "      <th>tcos</th>\n",
       "      <th>in_comm</th>\n",
       "    </tr>\n",
       "  </thead>\n",
       "  <tbody>\n",
       "    <tr>\n",
       "      <th>0</th>\n",
       "      <td>[Творчество детское, Рисунок, Детский сад, Дет...</td>\n",
       "      <td>0</td>\n",
       "      <td>1</td>\n",
       "      <td>2</td>\n",
       "      <td>0</td>\n",
       "      <td>135</td>\n",
       "      <td>683</td>\n",
       "      <td>-0.705620</td>\n",
       "      <td>0.708590</td>\n",
       "      <td>0</td>\n",
       "    </tr>\n",
       "    <tr>\n",
       "      <th>1</th>\n",
       "      <td>[Собака, Было-Стало]</td>\n",
       "      <td>0</td>\n",
       "      <td>1</td>\n",
       "      <td>1</td>\n",
       "      <td>0</td>\n",
       "      <td>113</td>\n",
       "      <td>480</td>\n",
       "      <td>-0.705414</td>\n",
       "      <td>0.708795</td>\n",
       "      <td>1</td>\n",
       "    </tr>\n",
       "    <tr>\n",
       "      <th>2</th>\n",
       "      <td>[Дерево, Поле, Фотография]</td>\n",
       "      <td>0</td>\n",
       "      <td>0</td>\n",
       "      <td>1</td>\n",
       "      <td>0</td>\n",
       "      <td>0</td>\n",
       "      <td>301</td>\n",
       "      <td>-0.704950</td>\n",
       "      <td>0.709257</td>\n",
       "      <td>0</td>\n",
       "    </tr>\n",
       "    <tr>\n",
       "      <th>3</th>\n",
       "      <td>[Военторг, Из сети, Продукты, Длиннопост]</td>\n",
       "      <td>0</td>\n",
       "      <td>0</td>\n",
       "      <td>4</td>\n",
       "      <td>0</td>\n",
       "      <td>0</td>\n",
       "      <td>425</td>\n",
       "      <td>-0.704537</td>\n",
       "      <td>0.709667</td>\n",
       "      <td>0</td>\n",
       "    </tr>\n",
       "    <tr>\n",
       "      <th>4</th>\n",
       "      <td>[Mortal Kombat 11, Тизер, Текст, Геймеры, Ново...</td>\n",
       "      <td>0</td>\n",
       "      <td>0</td>\n",
       "      <td>1</td>\n",
       "      <td>0</td>\n",
       "      <td>726</td>\n",
       "      <td>617</td>\n",
       "      <td>-0.704021</td>\n",
       "      <td>0.710179</td>\n",
       "      <td>0</td>\n",
       "    </tr>\n",
       "  </tbody>\n",
       "</table>\n",
       "</div>"
      ],
      "text/plain": [
       "                                                tags  nsfw  my  images  \\\n",
       "0  [Творчество детское, Рисунок, Детский сад, Дет...     0   1       2   \n",
       "1                               [Собака, Было-Стало]     0   1       1   \n",
       "2                         [Дерево, Поле, Фотография]     0   0       1   \n",
       "3          [Военторг, Из сети, Продукты, Длиннопост]     0   0       4   \n",
       "4  [Mortal Kombat 11, Тизер, Текст, Геймеры, Ново...     0   0       1   \n",
       "\n",
       "   videos  text_len  rating      tsin      tcos  in_comm  \n",
       "0       0       135     683 -0.705620  0.708590        0  \n",
       "1       0       113     480 -0.705414  0.708795        1  \n",
       "2       0         0     301 -0.704950  0.709257        0  \n",
       "3       0         0     425 -0.704537  0.709667        0  \n",
       "4       0       726     617 -0.704021  0.710179        0  "
      ]
     },
     "execution_count": 44,
     "metadata": {},
     "output_type": "execute_result"
    }
   ],
   "source": [
    "data.head()"
   ]
  },
  {
   "cell_type": "code",
   "execution_count": 45,
   "id": "7e8a1ee9-9b76-41b2-95e9-b1ddc6721c9b",
   "metadata": {
    "tags": []
   },
   "outputs": [
    {
     "name": "stdout",
     "output_type": "stream",
     "text": [
      "63385\n"
     ]
    }
   ],
   "source": [
    "tags_set = set()\n",
    "\n",
    "for row in data['tags']:\n",
    "    for tag in row:\n",
    "        tags_set.add(tag)\n",
    "\n",
    "print(len(tags_set))"
   ]
  },
  {
   "cell_type": "code",
   "execution_count": 47,
   "id": "4a8f3303-6d27-4320-912a-17258e7fb611",
   "metadata": {
    "tags": []
   },
   "outputs": [],
   "source": [
    "# tags_set"
   ]
  },
  {
   "cell_type": "code",
   "execution_count": 52,
   "id": "38ce5099-0f84-4f5f-89e5-cc0053f0c77f",
   "metadata": {
    "tags": []
   },
   "outputs": [],
   "source": [
    "tags_dict = {tag: 0 for tag in tags_set}\n",
    "# tags_dict\n",
    "\n",
    "for row in data.tags:\n",
    "    for tag in row:\n",
    "        tags_dict[tag] += 1\n",
    "\n",
    "# print(tags_dict)"
   ]
  },
  {
   "cell_type": "code",
   "execution_count": 54,
   "id": "f065e1b4-a29e-4910-b87a-79f225e6e406",
   "metadata": {
    "tags": []
   },
   "outputs": [],
   "source": [
    "tags_list = list(tags_dict.items())\n",
    "# tags_list\n",
    "tags_list.sort(key=lambda x: x[1], reverse=True)"
   ]
  },
  {
   "cell_type": "code",
   "execution_count": 55,
   "id": "93754878-8d18-4504-b29b-59b999403bf9",
   "metadata": {
    "tags": []
   },
   "outputs": [
    {
     "data": {
      "text/plain": [
       "[('Длиннопост', 75128),\n",
       " ('Текст', 59256),\n",
       " ('Видео', 34107),\n",
       " ('Юмор', 14957),\n",
       " ('Кот', 13512),\n",
       " ('Фотография', 10869),\n",
       " ('Мат', 8662),\n",
       " ('Скриншот', 8251),\n",
       " ('Арт', 7585),\n",
       " ('Комиксы', 6446)]"
      ]
     },
     "execution_count": 55,
     "metadata": {},
     "output_type": "execute_result"
    }
   ],
   "source": [
    "tags_list[:10]"
   ]
  },
  {
   "cell_type": "code",
   "execution_count": 56,
   "id": "22bd1630-f2f2-4a9b-b9d4-1227fa8d5a1d",
   "metadata": {
    "tags": []
   },
   "outputs": [
    {
     "data": {
      "text/plain": [
       "[('Нарядное платье', 1),\n",
       " ('Серая', 1),\n",
       " ('Котлас', 1),\n",
       " ('Summoners War', 1),\n",
       " ('Пилим бюджет весело', 1),\n",
       " ('Инвестиционный портфель', 1),\n",
       " ('Помни предков своих', 1),\n",
       " ('Gooze Art', 1),\n",
       " ('День Конституции', 1),\n",
       " ('Снимок телефона', 1)]"
      ]
     },
     "execution_count": 56,
     "metadata": {},
     "output_type": "execute_result"
    }
   ],
   "source": [
    "tags_list[-10:]"
   ]
  },
  {
   "cell_type": "code",
   "execution_count": 59,
   "id": "5b13780f-2d6a-4ddd-9334-1795a8416598",
   "metadata": {
    "tags": []
   },
   "outputs": [
    {
     "name": "stdout",
     "output_type": "stream",
     "text": [
      "50\n"
     ]
    }
   ],
   "source": [
    "tags2use = 50\n",
    "popular_tags = [t[0] for t in tags_list[:tags2use]]\n",
    "print(len(popular_tags))"
   ]
  },
  {
   "cell_type": "code",
   "execution_count": 60,
   "id": "05ea9348-03e8-4f12-91ad-6b4a145d528c",
   "metadata": {
    "tags": []
   },
   "outputs": [
    {
     "data": {
      "text/html": [
       "<div>\n",
       "<style scoped>\n",
       "    .dataframe tbody tr th:only-of-type {\n",
       "        vertical-align: middle;\n",
       "    }\n",
       "\n",
       "    .dataframe tbody tr th {\n",
       "        vertical-align: top;\n",
       "    }\n",
       "\n",
       "    .dataframe thead th {\n",
       "        text-align: right;\n",
       "    }\n",
       "</style>\n",
       "<table border=\"1\" class=\"dataframe\">\n",
       "  <thead>\n",
       "    <tr style=\"text-align: right;\">\n",
       "      <th></th>\n",
       "      <th>tags</th>\n",
       "      <th>nsfw</th>\n",
       "      <th>my</th>\n",
       "      <th>images</th>\n",
       "      <th>videos</th>\n",
       "      <th>text_len</th>\n",
       "      <th>rating</th>\n",
       "      <th>tsin</th>\n",
       "      <th>tcos</th>\n",
       "      <th>in_comm</th>\n",
       "      <th>...</th>\n",
       "      <th>Милота</th>\n",
       "      <th>Своими руками</th>\n",
       "      <th>My Little Pony</th>\n",
       "      <th>Музыка</th>\n",
       "      <th>Мошенничество</th>\n",
       "      <th>Отношения</th>\n",
       "      <th>Стихи</th>\n",
       "      <th>Зима</th>\n",
       "      <th>СССР</th>\n",
       "      <th>Еда</th>\n",
       "    </tr>\n",
       "  </thead>\n",
       "  <tbody>\n",
       "    <tr>\n",
       "      <th>0</th>\n",
       "      <td>[Творчество детское, Рисунок, Детский сад, Дет...</td>\n",
       "      <td>0</td>\n",
       "      <td>1</td>\n",
       "      <td>2</td>\n",
       "      <td>0</td>\n",
       "      <td>135</td>\n",
       "      <td>683</td>\n",
       "      <td>-0.705620</td>\n",
       "      <td>0.708590</td>\n",
       "      <td>0</td>\n",
       "      <td>...</td>\n",
       "      <td>0</td>\n",
       "      <td>0</td>\n",
       "      <td>0</td>\n",
       "      <td>0</td>\n",
       "      <td>0</td>\n",
       "      <td>0</td>\n",
       "      <td>0</td>\n",
       "      <td>0</td>\n",
       "      <td>0</td>\n",
       "      <td>0</td>\n",
       "    </tr>\n",
       "    <tr>\n",
       "      <th>1</th>\n",
       "      <td>[Собака, Было-Стало]</td>\n",
       "      <td>0</td>\n",
       "      <td>1</td>\n",
       "      <td>1</td>\n",
       "      <td>0</td>\n",
       "      <td>113</td>\n",
       "      <td>480</td>\n",
       "      <td>-0.705414</td>\n",
       "      <td>0.708795</td>\n",
       "      <td>1</td>\n",
       "      <td>...</td>\n",
       "      <td>0</td>\n",
       "      <td>0</td>\n",
       "      <td>0</td>\n",
       "      <td>0</td>\n",
       "      <td>0</td>\n",
       "      <td>0</td>\n",
       "      <td>0</td>\n",
       "      <td>0</td>\n",
       "      <td>0</td>\n",
       "      <td>0</td>\n",
       "    </tr>\n",
       "    <tr>\n",
       "      <th>2</th>\n",
       "      <td>[Дерево, Поле, Фотография]</td>\n",
       "      <td>0</td>\n",
       "      <td>0</td>\n",
       "      <td>1</td>\n",
       "      <td>0</td>\n",
       "      <td>0</td>\n",
       "      <td>301</td>\n",
       "      <td>-0.704950</td>\n",
       "      <td>0.709257</td>\n",
       "      <td>0</td>\n",
       "      <td>...</td>\n",
       "      <td>0</td>\n",
       "      <td>0</td>\n",
       "      <td>0</td>\n",
       "      <td>0</td>\n",
       "      <td>0</td>\n",
       "      <td>0</td>\n",
       "      <td>0</td>\n",
       "      <td>0</td>\n",
       "      <td>0</td>\n",
       "      <td>0</td>\n",
       "    </tr>\n",
       "    <tr>\n",
       "      <th>3</th>\n",
       "      <td>[Военторг, Из сети, Продукты, Длиннопост]</td>\n",
       "      <td>0</td>\n",
       "      <td>0</td>\n",
       "      <td>4</td>\n",
       "      <td>0</td>\n",
       "      <td>0</td>\n",
       "      <td>425</td>\n",
       "      <td>-0.704537</td>\n",
       "      <td>0.709667</td>\n",
       "      <td>0</td>\n",
       "      <td>...</td>\n",
       "      <td>0</td>\n",
       "      <td>0</td>\n",
       "      <td>0</td>\n",
       "      <td>0</td>\n",
       "      <td>0</td>\n",
       "      <td>0</td>\n",
       "      <td>0</td>\n",
       "      <td>0</td>\n",
       "      <td>0</td>\n",
       "      <td>0</td>\n",
       "    </tr>\n",
       "    <tr>\n",
       "      <th>4</th>\n",
       "      <td>[Mortal Kombat 11, Тизер, Текст, Геймеры, Ново...</td>\n",
       "      <td>0</td>\n",
       "      <td>0</td>\n",
       "      <td>1</td>\n",
       "      <td>0</td>\n",
       "      <td>726</td>\n",
       "      <td>617</td>\n",
       "      <td>-0.704021</td>\n",
       "      <td>0.710179</td>\n",
       "      <td>0</td>\n",
       "      <td>...</td>\n",
       "      <td>0</td>\n",
       "      <td>0</td>\n",
       "      <td>0</td>\n",
       "      <td>0</td>\n",
       "      <td>0</td>\n",
       "      <td>0</td>\n",
       "      <td>0</td>\n",
       "      <td>0</td>\n",
       "      <td>0</td>\n",
       "      <td>0</td>\n",
       "    </tr>\n",
       "  </tbody>\n",
       "</table>\n",
       "<p>5 rows × 60 columns</p>\n",
       "</div>"
      ],
      "text/plain": [
       "                                                tags  nsfw  my  images  \\\n",
       "0  [Творчество детское, Рисунок, Детский сад, Дет...     0   1       2   \n",
       "1                               [Собака, Было-Стало]     0   1       1   \n",
       "2                         [Дерево, Поле, Фотография]     0   0       1   \n",
       "3          [Военторг, Из сети, Продукты, Длиннопост]     0   0       4   \n",
       "4  [Mortal Kombat 11, Тизер, Текст, Геймеры, Ново...     0   0       1   \n",
       "\n",
       "   videos  text_len  rating      tsin      tcos  in_comm  ...  Милота  \\\n",
       "0       0       135     683 -0.705620  0.708590        0  ...       0   \n",
       "1       0       113     480 -0.705414  0.708795        1  ...       0   \n",
       "2       0         0     301 -0.704950  0.709257        0  ...       0   \n",
       "3       0         0     425 -0.704537  0.709667        0  ...       0   \n",
       "4       0       726     617 -0.704021  0.710179        0  ...       0   \n",
       "\n",
       "   Своими руками  My Little Pony  Музыка  Мошенничество  Отношения  Стихи  \\\n",
       "0              0               0       0              0          0      0   \n",
       "1              0               0       0              0          0      0   \n",
       "2              0               0       0              0          0      0   \n",
       "3              0               0       0              0          0      0   \n",
       "4              0               0       0              0          0      0   \n",
       "\n",
       "   Зима  СССР  Еда  \n",
       "0     0     0    0  \n",
       "1     0     0    0  \n",
       "2     0     0    0  \n",
       "3     0     0    0  \n",
       "4     0     0    0  \n",
       "\n",
       "[5 rows x 60 columns]"
      ]
     },
     "execution_count": 60,
     "metadata": {},
     "output_type": "execute_result"
    }
   ],
   "source": [
    "for tag in popular_tags:\n",
    "    data[tag] = data.tags.apply(lambda x: int(tag in x))\n",
    "    \n",
    "data.head(5)"
   ]
  },
  {
   "cell_type": "code",
   "execution_count": 67,
   "id": "744e5edd-824b-41c9-ac8e-34c31058df4b",
   "metadata": {
    "tags": []
   },
   "outputs": [
    {
     "data": {
      "text/html": [
       "<div>\n",
       "<style scoped>\n",
       "    .dataframe tbody tr th:only-of-type {\n",
       "        vertical-align: middle;\n",
       "    }\n",
       "\n",
       "    .dataframe tbody tr th {\n",
       "        vertical-align: top;\n",
       "    }\n",
       "\n",
       "    .dataframe thead th {\n",
       "        text-align: right;\n",
       "    }\n",
       "</style>\n",
       "<table border=\"1\" class=\"dataframe\">\n",
       "  <thead>\n",
       "    <tr style=\"text-align: right;\">\n",
       "      <th></th>\n",
       "      <th>tags</th>\n",
       "      <th>nsfw</th>\n",
       "      <th>my</th>\n",
       "      <th>images</th>\n",
       "      <th>videos</th>\n",
       "      <th>text_len</th>\n",
       "      <th>rating</th>\n",
       "      <th>tsin</th>\n",
       "      <th>tcos</th>\n",
       "      <th>in_comm</th>\n",
       "      <th>...</th>\n",
       "      <th>Своими руками</th>\n",
       "      <th>My Little Pony</th>\n",
       "      <th>Музыка</th>\n",
       "      <th>Мошенничество</th>\n",
       "      <th>Отношения</th>\n",
       "      <th>Стихи</th>\n",
       "      <th>Зима</th>\n",
       "      <th>СССР</th>\n",
       "      <th>Еда</th>\n",
       "      <th>other</th>\n",
       "    </tr>\n",
       "  </thead>\n",
       "  <tbody>\n",
       "    <tr>\n",
       "      <th>262572</th>\n",
       "      <td>[Аквариумистика, Аквариумные рыбки, Аквариум, ...</td>\n",
       "      <td>0</td>\n",
       "      <td>1</td>\n",
       "      <td>5</td>\n",
       "      <td>0</td>\n",
       "      <td>387</td>\n",
       "      <td>1128</td>\n",
       "      <td>-0.778409</td>\n",
       "      <td>-0.627757</td>\n",
       "      <td>1</td>\n",
       "      <td>...</td>\n",
       "      <td>0</td>\n",
       "      <td>0</td>\n",
       "      <td>0</td>\n",
       "      <td>0</td>\n",
       "      <td>0</td>\n",
       "      <td>0</td>\n",
       "      <td>0</td>\n",
       "      <td>0</td>\n",
       "      <td>0</td>\n",
       "      <td>0</td>\n",
       "    </tr>\n",
       "    <tr>\n",
       "      <th>262573</th>\n",
       "      <td>[Противогаз, Своими руками, Видео]</td>\n",
       "      <td>0</td>\n",
       "      <td>0</td>\n",
       "      <td>0</td>\n",
       "      <td>1</td>\n",
       "      <td>0</td>\n",
       "      <td>312</td>\n",
       "      <td>-0.779595</td>\n",
       "      <td>-0.626284</td>\n",
       "      <td>0</td>\n",
       "      <td>...</td>\n",
       "      <td>1</td>\n",
       "      <td>0</td>\n",
       "      <td>0</td>\n",
       "      <td>0</td>\n",
       "      <td>0</td>\n",
       "      <td>0</td>\n",
       "      <td>0</td>\n",
       "      <td>0</td>\n",
       "      <td>0</td>\n",
       "      <td>0</td>\n",
       "    </tr>\n",
       "    <tr>\n",
       "      <th>262574</th>\n",
       "      <td>[КБ, Энергетики, Запрет, Текст]</td>\n",
       "      <td>0</td>\n",
       "      <td>0</td>\n",
       "      <td>0</td>\n",
       "      <td>0</td>\n",
       "      <td>315</td>\n",
       "      <td>523</td>\n",
       "      <td>-0.782818</td>\n",
       "      <td>-0.622250</td>\n",
       "      <td>0</td>\n",
       "      <td>...</td>\n",
       "      <td>0</td>\n",
       "      <td>0</td>\n",
       "      <td>0</td>\n",
       "      <td>0</td>\n",
       "      <td>0</td>\n",
       "      <td>0</td>\n",
       "      <td>0</td>\n",
       "      <td>0</td>\n",
       "      <td>0</td>\n",
       "      <td>0</td>\n",
       "    </tr>\n",
       "    <tr>\n",
       "      <th>262575</th>\n",
       "      <td>[Китай, Коронавирус, CS:GO]</td>\n",
       "      <td>0</td>\n",
       "      <td>1</td>\n",
       "      <td>1</td>\n",
       "      <td>0</td>\n",
       "      <td>52</td>\n",
       "      <td>436</td>\n",
       "      <td>-0.784670</td>\n",
       "      <td>-0.619914</td>\n",
       "      <td>1</td>\n",
       "      <td>...</td>\n",
       "      <td>0</td>\n",
       "      <td>0</td>\n",
       "      <td>0</td>\n",
       "      <td>0</td>\n",
       "      <td>0</td>\n",
       "      <td>0</td>\n",
       "      <td>0</td>\n",
       "      <td>0</td>\n",
       "      <td>0</td>\n",
       "      <td>1</td>\n",
       "    </tr>\n",
       "    <tr>\n",
       "      <th>262576</th>\n",
       "      <td>[Питание, Белок, Диета, Метаболизм, Лайл макдо...</td>\n",
       "      <td>0</td>\n",
       "      <td>0</td>\n",
       "      <td>0</td>\n",
       "      <td>0</td>\n",
       "      <td>2426</td>\n",
       "      <td>703</td>\n",
       "      <td>-0.787323</td>\n",
       "      <td>-0.616541</td>\n",
       "      <td>0</td>\n",
       "      <td>...</td>\n",
       "      <td>0</td>\n",
       "      <td>0</td>\n",
       "      <td>0</td>\n",
       "      <td>0</td>\n",
       "      <td>0</td>\n",
       "      <td>0</td>\n",
       "      <td>0</td>\n",
       "      <td>0</td>\n",
       "      <td>0</td>\n",
       "      <td>0</td>\n",
       "    </tr>\n",
       "  </tbody>\n",
       "</table>\n",
       "<p>5 rows × 61 columns</p>\n",
       "</div>"
      ],
      "text/plain": [
       "                                                     tags  nsfw  my  images  \\\n",
       "262572  [Аквариумистика, Аквариумные рыбки, Аквариум, ...     0   1       5   \n",
       "262573                 [Противогаз, Своими руками, Видео]     0   0       0   \n",
       "262574                    [КБ, Энергетики, Запрет, Текст]     0   0       0   \n",
       "262575                        [Китай, Коронавирус, CS:GO]     0   1       1   \n",
       "262576  [Питание, Белок, Диета, Метаболизм, Лайл макдо...     0   0       0   \n",
       "\n",
       "        videos  text_len  rating      tsin      tcos  in_comm  ...  \\\n",
       "262572       0       387    1128 -0.778409 -0.627757        1  ...   \n",
       "262573       1         0     312 -0.779595 -0.626284        0  ...   \n",
       "262574       0       315     523 -0.782818 -0.622250        0  ...   \n",
       "262575       0        52     436 -0.784670 -0.619914        1  ...   \n",
       "262576       0      2426     703 -0.787323 -0.616541        0  ...   \n",
       "\n",
       "        Своими руками  My Little Pony  Музыка  Мошенничество  Отношения  \\\n",
       "262572              0               0       0              0          0   \n",
       "262573              1               0       0              0          0   \n",
       "262574              0               0       0              0          0   \n",
       "262575              0               0       0              0          0   \n",
       "262576              0               0       0              0          0   \n",
       "\n",
       "        Стихи  Зима  СССР  Еда  other  \n",
       "262572      0     0     0    0      0  \n",
       "262573      0     0     0    0      0  \n",
       "262574      0     0     0    0      0  \n",
       "262575      0     0     0    0      1  \n",
       "262576      0     0     0    0      0  \n",
       "\n",
       "[5 rows x 61 columns]"
      ]
     },
     "execution_count": 67,
     "metadata": {},
     "output_type": "execute_result"
    }
   ],
   "source": [
    "data['other'] = data[popular_tags].sum(axis=1)\n",
    "# data.head(5)\n",
    "\n",
    "data['other'] = data['other'].apply(lambda x: int(x == 0))\n",
    "data.tail(5)"
   ]
  },
  {
   "cell_type": "code",
   "execution_count": 72,
   "id": "f176df5b-9659-406f-adba-7ab5f6a6d309",
   "metadata": {
    "tags": []
   },
   "outputs": [
    {
     "data": {
      "text/plain": [
       "Длиннопост                   0.286118\n",
       "Текст                        0.225671\n",
       "Видео                        0.129893\n",
       "Юмор                         0.056962\n",
       "Кот                          0.051459\n",
       "Фотография                   0.041394\n",
       "Мат                          0.032272\n",
       "Скриншот                     0.031423\n",
       "Арт                          0.028887\n",
       "Комиксы                      0.024549\n",
       "Аниме                        0.022454\n",
       "История                      0.020272\n",
       "Anime Art                    0.020268\n",
       "Собака                       0.019362\n",
       "Без рейтинга                 0.019122\n",
       "Комментарии на Пикабу        0.018303\n",
       "Политика                     0.017599\n",
       "Новый Год                    0.017515\n",
       "Дети                         0.017092\n",
       "Рисунок                      0.016806\n",
       "Картинка с текстом           0.016209\n",
       "Новости                      0.016163\n",
       "Девушки                      0.015782\n",
       "Помощь                       0.015100\n",
       "Россия                       0.014929\n",
       "Котомафия                    0.014918\n",
       "Работа                       0.014571\n",
       "Гифка                        0.014464\n",
       "Игры                         0.013840\n",
       "Реальная история из жизни    0.012709\n",
       "Негатив                      0.012659\n",
       "Комментарии                  0.012080\n",
       "Животные                     0.011140\n",
       "Мемы                         0.011094\n",
       "Рассказ                      0.010881\n",
       "Авто                         0.010226\n",
       "Фильмы                       0.010058\n",
       "Москва                       0.009871\n",
       "Санкт-Петербург              0.009502\n",
       "Рукоделие без процесса       0.009372\n",
       "Милота                       0.009346\n",
       "Своими руками                0.009030\n",
       "My Little Pony               0.008889\n",
       "Музыка                       0.008805\n",
       "Мошенничество                0.008775\n",
       "Отношения                    0.008725\n",
       "Стихи                        0.008417\n",
       "Зима                         0.008398\n",
       "СССР                         0.008394\n",
       "Еда                          0.008299\n",
       "other                        0.156804\n",
       "dtype: float64"
      ]
     },
     "execution_count": 72,
     "metadata": {},
     "output_type": "execute_result"
    }
   ],
   "source": [
    "data[popular_tags + ['other']].mean()"
   ]
  },
  {
   "cell_type": "code",
   "execution_count": 73,
   "id": "a1df0180-0fef-44b4-bae4-7a995b72bbd4",
   "metadata": {
    "tags": []
   },
   "outputs": [
    {
     "data": {
      "text/html": [
       "<div>\n",
       "<style scoped>\n",
       "    .dataframe tbody tr th:only-of-type {\n",
       "        vertical-align: middle;\n",
       "    }\n",
       "\n",
       "    .dataframe tbody tr th {\n",
       "        vertical-align: top;\n",
       "    }\n",
       "\n",
       "    .dataframe thead th {\n",
       "        text-align: right;\n",
       "    }\n",
       "</style>\n",
       "<table border=\"1\" class=\"dataframe\">\n",
       "  <thead>\n",
       "    <tr style=\"text-align: right;\">\n",
       "      <th></th>\n",
       "      <th>nsfw</th>\n",
       "      <th>my</th>\n",
       "      <th>images</th>\n",
       "      <th>videos</th>\n",
       "      <th>text_len</th>\n",
       "      <th>rating</th>\n",
       "      <th>tsin</th>\n",
       "      <th>tcos</th>\n",
       "      <th>in_comm</th>\n",
       "      <th>Длиннопост</th>\n",
       "      <th>...</th>\n",
       "      <th>Своими руками</th>\n",
       "      <th>My Little Pony</th>\n",
       "      <th>Музыка</th>\n",
       "      <th>Мошенничество</th>\n",
       "      <th>Отношения</th>\n",
       "      <th>Стихи</th>\n",
       "      <th>Зима</th>\n",
       "      <th>СССР</th>\n",
       "      <th>Еда</th>\n",
       "      <th>other</th>\n",
       "    </tr>\n",
       "  </thead>\n",
       "  <tbody>\n",
       "    <tr>\n",
       "      <th>0</th>\n",
       "      <td>0</td>\n",
       "      <td>1</td>\n",
       "      <td>2</td>\n",
       "      <td>0</td>\n",
       "      <td>135</td>\n",
       "      <td>683</td>\n",
       "      <td>-0.705620</td>\n",
       "      <td>0.708590</td>\n",
       "      <td>0</td>\n",
       "      <td>0</td>\n",
       "      <td>...</td>\n",
       "      <td>0</td>\n",
       "      <td>0</td>\n",
       "      <td>0</td>\n",
       "      <td>0</td>\n",
       "      <td>0</td>\n",
       "      <td>0</td>\n",
       "      <td>0</td>\n",
       "      <td>0</td>\n",
       "      <td>0</td>\n",
       "      <td>0</td>\n",
       "    </tr>\n",
       "    <tr>\n",
       "      <th>1</th>\n",
       "      <td>0</td>\n",
       "      <td>1</td>\n",
       "      <td>1</td>\n",
       "      <td>0</td>\n",
       "      <td>113</td>\n",
       "      <td>480</td>\n",
       "      <td>-0.705414</td>\n",
       "      <td>0.708795</td>\n",
       "      <td>1</td>\n",
       "      <td>0</td>\n",
       "      <td>...</td>\n",
       "      <td>0</td>\n",
       "      <td>0</td>\n",
       "      <td>0</td>\n",
       "      <td>0</td>\n",
       "      <td>0</td>\n",
       "      <td>0</td>\n",
       "      <td>0</td>\n",
       "      <td>0</td>\n",
       "      <td>0</td>\n",
       "      <td>0</td>\n",
       "    </tr>\n",
       "    <tr>\n",
       "      <th>2</th>\n",
       "      <td>0</td>\n",
       "      <td>0</td>\n",
       "      <td>1</td>\n",
       "      <td>0</td>\n",
       "      <td>0</td>\n",
       "      <td>301</td>\n",
       "      <td>-0.704950</td>\n",
       "      <td>0.709257</td>\n",
       "      <td>0</td>\n",
       "      <td>0</td>\n",
       "      <td>...</td>\n",
       "      <td>0</td>\n",
       "      <td>0</td>\n",
       "      <td>0</td>\n",
       "      <td>0</td>\n",
       "      <td>0</td>\n",
       "      <td>0</td>\n",
       "      <td>0</td>\n",
       "      <td>0</td>\n",
       "      <td>0</td>\n",
       "      <td>0</td>\n",
       "    </tr>\n",
       "    <tr>\n",
       "      <th>3</th>\n",
       "      <td>0</td>\n",
       "      <td>0</td>\n",
       "      <td>4</td>\n",
       "      <td>0</td>\n",
       "      <td>0</td>\n",
       "      <td>425</td>\n",
       "      <td>-0.704537</td>\n",
       "      <td>0.709667</td>\n",
       "      <td>0</td>\n",
       "      <td>1</td>\n",
       "      <td>...</td>\n",
       "      <td>0</td>\n",
       "      <td>0</td>\n",
       "      <td>0</td>\n",
       "      <td>0</td>\n",
       "      <td>0</td>\n",
       "      <td>0</td>\n",
       "      <td>0</td>\n",
       "      <td>0</td>\n",
       "      <td>0</td>\n",
       "      <td>0</td>\n",
       "    </tr>\n",
       "    <tr>\n",
       "      <th>4</th>\n",
       "      <td>0</td>\n",
       "      <td>0</td>\n",
       "      <td>1</td>\n",
       "      <td>0</td>\n",
       "      <td>726</td>\n",
       "      <td>617</td>\n",
       "      <td>-0.704021</td>\n",
       "      <td>0.710179</td>\n",
       "      <td>0</td>\n",
       "      <td>0</td>\n",
       "      <td>...</td>\n",
       "      <td>0</td>\n",
       "      <td>0</td>\n",
       "      <td>0</td>\n",
       "      <td>0</td>\n",
       "      <td>0</td>\n",
       "      <td>0</td>\n",
       "      <td>0</td>\n",
       "      <td>0</td>\n",
       "      <td>0</td>\n",
       "      <td>0</td>\n",
       "    </tr>\n",
       "  </tbody>\n",
       "</table>\n",
       "<p>5 rows × 60 columns</p>\n",
       "</div>"
      ],
      "text/plain": [
       "   nsfw  my  images  videos  text_len  rating      tsin      tcos  in_comm  \\\n",
       "0     0   1       2       0       135     683 -0.705620  0.708590        0   \n",
       "1     0   1       1       0       113     480 -0.705414  0.708795        1   \n",
       "2     0   0       1       0         0     301 -0.704950  0.709257        0   \n",
       "3     0   0       4       0         0     425 -0.704537  0.709667        0   \n",
       "4     0   0       1       0       726     617 -0.704021  0.710179        0   \n",
       "\n",
       "   Длиннопост  ...  Своими руками  My Little Pony  Музыка  Мошенничество  \\\n",
       "0           0  ...              0               0       0              0   \n",
       "1           0  ...              0               0       0              0   \n",
       "2           0  ...              0               0       0              0   \n",
       "3           1  ...              0               0       0              0   \n",
       "4           0  ...              0               0       0              0   \n",
       "\n",
       "   Отношения  Стихи  Зима  СССР  Еда  other  \n",
       "0          0      0     0     0    0      0  \n",
       "1          0      0     0     0    0      0  \n",
       "2          0      0     0     0    0      0  \n",
       "3          0      0     0     0    0      0  \n",
       "4          0      0     0     0    0      0  \n",
       "\n",
       "[5 rows x 60 columns]"
      ]
     },
     "execution_count": 73,
     "metadata": {},
     "output_type": "execute_result"
    }
   ],
   "source": [
    "data = data.drop(columns = ['tags'], axis=1)\n",
    "data.head(5)"
   ]
  },
  {
   "cell_type": "code",
   "execution_count": 75,
   "id": "7fabd376-ad00-4f4a-bf8d-d664a153202a",
   "metadata": {
    "tags": []
   },
   "outputs": [],
   "source": [
    "X = data.drop(columns = ['rating']).to_numpy()\n",
    "# X\n",
    "Y = data['rating'].to_numpy()"
   ]
  },
  {
   "cell_type": "code",
   "execution_count": 77,
   "id": "08f81dd2-a960-4465-9444-f0def79f5bab",
   "metadata": {
    "tags": []
   },
   "outputs": [
    {
     "data": {
      "text/plain": [
       "(262577, 59)"
      ]
     },
     "execution_count": 77,
     "metadata": {},
     "output_type": "execute_result"
    }
   ],
   "source": [
    "X.shape"
   ]
  },
  {
   "cell_type": "code",
   "execution_count": 78,
   "id": "b3695dce-b251-4d6d-9f9e-1f87c09379bc",
   "metadata": {
    "tags": []
   },
   "outputs": [
    {
     "data": {
      "text/plain": [
       "(262577,)"
      ]
     },
     "execution_count": 78,
     "metadata": {},
     "output_type": "execute_result"
    }
   ],
   "source": [
    "Y.shape"
   ]
  },
  {
   "cell_type": "code",
   "execution_count": 79,
   "id": "242725fc-6fec-4a72-86ec-660443df7118",
   "metadata": {
    "tags": []
   },
   "outputs": [],
   "source": [
    "import tensorflow as tf"
   ]
  },
  {
   "cell_type": "code",
   "execution_count": 81,
   "id": "ca608aa3-1e0b-4afc-aa7b-c6bd79e74093",
   "metadata": {
    "tags": []
   },
   "outputs": [],
   "source": [
    "model = tf.keras.models.Sequential([\n",
    "    tf.keras.layers.Dense(10, input_shape =(X.shape[1],), activation=tf.keras.activations.relu),\n",
    "    tf.keras.layers.Dense(10, activation='relu',name='l2'),\n",
    "    tf.keras.layers.Dense(1, activation='linear', name='out')\n",
    "\n",
    "])"
   ]
  },
  {
   "cell_type": "code",
   "execution_count": 82,
   "id": "2c85c09a-fdd8-434a-a867-d2b6dc74094d",
   "metadata": {
    "tags": []
   },
   "outputs": [
    {
     "name": "stdout",
     "output_type": "stream",
     "text": [
      "Model: \"sequential\"\n",
      "_________________________________________________________________\n",
      " Layer (type)                Output Shape              Param #   \n",
      "=================================================================\n",
      " dense (Dense)               (None, 10)                600       \n",
      "                                                                 \n",
      " l2 (Dense)                  (None, 10)                110       \n",
      "                                                                 \n",
      " out (Dense)                 (None, 1)                 11        \n",
      "                                                                 \n",
      "=================================================================\n",
      "Total params: 721\n",
      "Trainable params: 721\n",
      "Non-trainable params: 0\n",
      "_________________________________________________________________\n"
     ]
    }
   ],
   "source": [
    "model.summary()"
   ]
  },
  {
   "cell_type": "code",
   "execution_count": 84,
   "id": "4ca2b396-80be-4fa3-a22a-16b7fea4eef1",
   "metadata": {
    "tags": []
   },
   "outputs": [
    {
     "data": {
      "text/plain": [
       "[array([[ 0.34612173],\n",
       "        [ 0.25464725],\n",
       "        [ 0.5792685 ],\n",
       "        [ 0.11310393],\n",
       "        [ 0.47423464],\n",
       "        [ 0.5362975 ],\n",
       "        [ 0.6880844 ],\n",
       "        [-0.62883925],\n",
       "        [ 0.6089849 ],\n",
       "        [ 0.46602863]], dtype=float32),\n",
       " array([0.], dtype=float32)]"
      ]
     },
     "execution_count": 84,
     "metadata": {},
     "output_type": "execute_result"
    }
   ],
   "source": [
    "model.layers[-1].get_weights()"
   ]
  },
  {
   "cell_type": "code",
   "execution_count": 85,
   "id": "0c9de33a-4930-4040-b98f-0c6db4b6d55b",
   "metadata": {
    "tags": []
   },
   "outputs": [
    {
     "data": {
      "text/plain": [
       "[array([[ 0.44247216, -0.40942755,  0.4083557 , -0.08632666,  0.1138044 ,\n",
       "         -0.23498365,  0.4332809 ,  0.37403345, -0.45332223, -0.48986956],\n",
       "        [-0.1895757 ,  0.1528495 ,  0.4243474 , -0.04223323,  0.5454538 ,\n",
       "         -0.08373567, -0.05780953,  0.2918988 , -0.4009027 , -0.42448792],\n",
       "        [ 0.46348703,  0.49076355,  0.26019728,  0.37817806,  0.5348333 ,\n",
       "          0.15742528,  0.20116651, -0.28757516,  0.47715592, -0.5222881 ],\n",
       "        [ 0.41394222, -0.5266129 ,  0.51362705,  0.39451098,  0.24846876,\n",
       "          0.48520052,  0.38165283,  0.269606  ,  0.04421008,  0.22985911],\n",
       "        [-0.47899464, -0.5442249 , -0.02704555,  0.02599066,  0.5475205 ,\n",
       "         -0.44247735, -0.05847552, -0.06751975, -0.16495988,  0.16595691],\n",
       "        [ 0.3483066 ,  0.18014377,  0.43798387,  0.32178628,  0.5406233 ,\n",
       "         -0.41049278, -0.28927305, -0.5410808 , -0.27060968,  0.41798353],\n",
       "        [ 0.38853163, -0.13544169,  0.01828903,  0.4316253 , -0.25134504,\n",
       "         -0.30987385, -0.05606321,  0.4341702 ,  0.40742046,  0.12768519],\n",
       "        [-0.4306032 , -0.52179474,  0.5004355 ,  0.3792308 , -0.05828241,\n",
       "         -0.1973322 , -0.33199129, -0.17513055,  0.48787963, -0.42233703],\n",
       "        [ 0.15815091, -0.02946442,  0.33944416,  0.2989902 , -0.38116783,\n",
       "         -0.40787604, -0.18766132, -0.5208677 , -0.48665997, -0.00729746],\n",
       "        [-0.19732189,  0.38864684,  0.22477919,  0.00602114,  0.516909  ,\n",
       "          0.05492526,  0.04215342, -0.23947036, -0.21914002, -0.52345854]],\n",
       "       dtype=float32),\n",
       " array([0., 0., 0., 0., 0., 0., 0., 0., 0., 0.], dtype=float32)]"
      ]
     },
     "execution_count": 85,
     "metadata": {},
     "output_type": "execute_result"
    }
   ],
   "source": [
    "model.layers[-2].get_weights()"
   ]
  },
  {
   "cell_type": "code",
   "execution_count": 86,
   "id": "255d552d-6db0-4ae4-81e3-59fac565bf87",
   "metadata": {
    "tags": []
   },
   "outputs": [
    {
     "name": "stdout",
     "output_type": "stream",
     "text": [
      "Model: \"sequential\"\n",
      "_________________________________________________________________\n",
      " Layer (type)                Output Shape              Param #   \n",
      "=================================================================\n",
      " dense (Dense)               (None, 10)                600       \n",
      "                                                                 \n",
      "=================================================================\n",
      "Total params: 600\n",
      "Trainable params: 600\n",
      "Non-trainable params: 0\n",
      "_________________________________________________________________\n"
     ]
    }
   ],
   "source": [
    "model.pop()\n",
    "model.pop()\n",
    "\n",
    "model.summary()"
   ]
  },
  {
   "cell_type": "code",
   "execution_count": 89,
   "id": "836135bc-3a7b-4037-b973-5fc9ca98c3b0",
   "metadata": {
    "tags": []
   },
   "outputs": [
    {
     "name": "stdout",
     "output_type": "stream",
     "text": [
      "Model: \"sequential\"\n",
      "_________________________________________________________________\n",
      " Layer (type)                Output Shape              Param #   \n",
      "=================================================================\n",
      " dense (Dense)               (None, 10)                600       \n",
      "                                                                 \n",
      " very_big (Dense)            (None, 1000)              11000     \n",
      "                                                                 \n",
      " out (Dense)                 (None, 1)                 1001      \n",
      "                                                                 \n",
      "=================================================================\n",
      "Total params: 12,601\n",
      "Trainable params: 12,601\n",
      "Non-trainable params: 0\n",
      "_________________________________________________________________\n"
     ]
    }
   ],
   "source": [
    "model.add(tf.keras.layers.Dense(1000, activation='relu', name='very_big'))\n",
    "model.add(tf.keras.layers.Dense(1, activation='linear', name='out'))\n",
    "          \n",
    "model.summary()"
   ]
  },
  {
   "cell_type": "code",
   "execution_count": 93,
   "id": "843bc384-97d4-4129-bde6-d65d92b2c04d",
   "metadata": {
    "tags": []
   },
   "outputs": [],
   "source": [
    "model = tf.keras.models.Sequential([\n",
    "    tf.keras.layers.Dense(60, activation='relu', input_shape=(X.shape[1],)),\n",
    "    tf.keras.layers.Dense(100, activation='relu', name = 'second'),\n",
    "    tf.keras.layers.Dense(10, activation='relu', name= 'third'),\n",
    "    tf.keras.layers.Dense(1, activation='linear', name = 'out')\n",
    "])"
   ]
  },
  {
   "cell_type": "code",
   "execution_count": 94,
   "id": "6bd2a1f7-34ba-4c5b-a13c-a2182bd0a288",
   "metadata": {
    "tags": []
   },
   "outputs": [],
   "source": [
    "model.load_weights('./weights.h5')"
   ]
  },
  {
   "cell_type": "code",
   "execution_count": 96,
   "id": "f01b6134-eb42-48c3-bee5-340a3c6b303b",
   "metadata": {
    "tags": []
   },
   "outputs": [
    {
     "data": {
      "text/plain": [
       "[array([[-0.49175557],\n",
       "        [-0.26270723],\n",
       "        [ 0.5572973 ],\n",
       "        [ 1.0313578 ],\n",
       "        [-1.2322445 ],\n",
       "        [ 0.17110786],\n",
       "        [ 0.77133995],\n",
       "        [-2.3742123 ],\n",
       "        [ 1.0334668 ],\n",
       "        [-0.4283009 ]], dtype=float32),\n",
       " array([4.3187566], dtype=float32)]"
      ]
     },
     "execution_count": 96,
     "metadata": {},
     "output_type": "execute_result"
    }
   ],
   "source": [
    "model.layers[-1].get_weights()"
   ]
  },
  {
   "cell_type": "code",
   "execution_count": 100,
   "id": "64b76e37-6383-4d15-ba10-c7d549b9f9f4",
   "metadata": {
    "tags": []
   },
   "outputs": [
    {
     "name": "stdout",
     "output_type": "stream",
     "text": [
      "8206/8206 [==============================] - 3s 353us/step\n"
     ]
    }
   ],
   "source": [
    "Y_pred = model.predict(X)"
   ]
  },
  {
   "cell_type": "code",
   "execution_count": 101,
   "id": "96e9799e-a6a9-4dac-878d-60ad30c966db",
   "metadata": {
    "tags": []
   },
   "outputs": [
    {
     "data": {
      "text/plain": [
       "array([[533.6504 ],\n",
       "       [479.2525 ],\n",
       "       [278.7952 ],\n",
       "       ...,\n",
       "       [486.67563],\n",
       "       [470.54605],\n",
       "       [582.65735]], dtype=float32)"
      ]
     },
     "execution_count": 101,
     "metadata": {},
     "output_type": "execute_result"
    }
   ],
   "source": [
    "Y_pred"
   ]
  },
  {
   "cell_type": "code",
   "execution_count": 104,
   "id": "a3d45c32-2cca-4046-8926-2f3c44ede396",
   "metadata": {
    "tags": []
   },
   "outputs": [
    {
     "data": {
      "text/plain": [
       "array([683, 480, 301, ..., 523, 436, 703])"
      ]
     },
     "execution_count": 104,
     "metadata": {},
     "output_type": "execute_result"
    }
   ],
   "source": [
    "Y"
   ]
  },
  {
   "cell_type": "code",
   "execution_count": 102,
   "id": "94d938a2-aecf-4469-86b1-5f5a270bfaa1",
   "metadata": {
    "tags": []
   },
   "outputs": [
    {
     "name": "stdout",
     "output_type": "stream",
     "text": [
      "[533.6504] \t 683\n",
      "[479.2525] \t 480\n",
      "[278.7952] \t 301\n",
      "[398.70383] \t 425\n",
      "[522.42804] \t 617\n",
      "[557.4728] \t 515\n",
      "[205.00832] \t 219\n",
      "[514.7047] \t -11\n",
      "[621.1805] \t 628\n",
      "[292.87448] \t 349\n"
     ]
    }
   ],
   "source": [
    "for i in range(10): \n",
    "    print(Y_pred[i], '\\t', Y[i])"
   ]
  },
  {
   "cell_type": "code",
   "execution_count": 105,
   "id": "25388a54-9e0b-404b-9fb0-87f84e831e0d",
   "metadata": {
    "tags": []
   },
   "outputs": [],
   "source": [
    "import seaborn as sns"
   ]
  },
  {
   "cell_type": "code",
   "execution_count": 106,
   "id": "20269a63-d99e-4ef0-a6e8-0221e414f01c",
   "metadata": {
    "tags": []
   },
   "outputs": [
    {
     "data": {
      "text/plain": [
       "<seaborn.axisgrid.FacetGrid at 0x2c23c50f0>"
      ]
     },
     "execution_count": 106,
     "metadata": {},
     "output_type": "execute_result"
    },
    {
     "data": {
      "image/png": "[encoded data removed]",
      "text/plain": [
       "<Figure size 500x500 with 1 Axes>"
      ]
     },
     "metadata": {},
     "output_type": "display_data"
    }
   ],
   "source": [
    "sns.displot(Y)"
   ]
  },
  {
   "cell_type": "code",
   "execution_count": 107,
   "id": "8430ada2-a781-40b9-afdb-086e2b5035a7",
   "metadata": {
    "tags": []
   },
   "outputs": [
    {
     "data": {
      "text/plain": [
       "<seaborn.axisgrid.FacetGrid at 0x2e9d8eb60>"
      ]
     },
     "execution_count": 107,
     "metadata": {},
     "output_type": "execute_result"
    },
    {
     "data": {
      "image/png": "[encoded data removed]",
      "text/plain": [
       "<Figure size 558.75x500 with 1 Axes>"
      ]
     },
     "metadata": {},
     "output_type": "display_data"
    }
   ],
   "source": [
    "sns.displot(Y_pred)"
   ]
  },
  {
   "cell_type": "code",
   "execution_count": 108,
   "id": "79d3dcfe-64b2-43a4-9bf6-05e386fcb95f",
   "metadata": {
    "tags": []
   },
   "outputs": [
    {
     "data": {
      "text/plain": [
       "<seaborn.axisgrid.FacetGrid at 0x2c5554250>"
      ]
     },
     "execution_count": 108,
     "metadata": {},
     "output_type": "execute_result"
    },
    {
     "data": {
      "image/png": "[encoded data removed]",
      "text/plain": [
       "<Figure size 500x500 with 1 Axes>"
      ]
     },
     "metadata": {},
     "output_type": "display_data"
    }
   ],
   "source": [
    "sns.displot([y for y in Y if y < 2000])"
   ]
  },
  {
   "cell_type": "code",
   "execution_count": 109,
   "id": "6db5b48e-8aae-4d5f-b4a1-e2ea86544807",
   "metadata": {
    "tags": []
   },
   "outputs": [
    {
     "data": {
      "text/plain": [
       "<seaborn.axisgrid.FacetGrid at 0x3160a6f80>"
      ]
     },
     "execution_count": 109,
     "metadata": {},
     "output_type": "execute_result"
    },
    {
     "data": {
      "image/png": "[encoded data removed]",
      "text/plain": [
       "<Figure size 500x500 with 1 Axes>"
      ]
     },
     "metadata": {},
     "output_type": "display_data"
    }
   ],
   "source": [
    "sns.displot(Y[:2000])"
   ]
  },
  {
   "cell_type": "code",
   "execution_count": 110,
   "id": "0bf7fd3a-a161-45ca-b3ac-2605f363dadf",
   "metadata": {
    "tags": []
   },
   "outputs": [],
   "source": [
    "from sklearn.metrics import mean_absolute_error"
   ]
  },
  {
   "cell_type": "code",
   "execution_count": 111,
   "id": "22677e61-036e-433f-8fad-e6d3152c8b48",
   "metadata": {
    "tags": []
   },
   "outputs": [
    {
     "data": {
      "text/plain": [
       "140.20016712753355"
      ]
     },
     "execution_count": 111,
     "metadata": {},
     "output_type": "execute_result"
    }
   ],
   "source": [
    "mean_absolute_error(Y, Y_pred)"
   ]
  },
  {
   "cell_type": "code",
   "execution_count": 112,
   "id": "a13d50c3-7a78-4f2f-a75b-7774d89b53ed",
   "metadata": {
    "tags": []
   },
   "outputs": [
    {
     "data": {
      "text/plain": [
       "287.9861978214588"
      ]
     },
     "execution_count": 112,
     "metadata": {},
     "output_type": "execute_result"
    }
   ],
   "source": [
    "Y_pred_mean = np.repeat(Y.mean(), len(Y))\n",
    "\n",
    "mean_absolute_error(Y, Y_pred_mean)"
   ]
  },
  {
   "cell_type": "code",
   "execution_count": 113,
   "id": "b6b2d8d3-d2e3-461c-aace-aaead1811001",
   "metadata": {
    "tags": []
   },
   "outputs": [
    {
     "data": {
      "text/plain": [
       "492.68788203079475"
      ]
     },
     "execution_count": 113,
     "metadata": {},
     "output_type": "execute_result"
    }
   ],
   "source": [
    "Y.mean()"
   ]
  },
  {
   "cell_type": "raw",
   "id": "2b892f99-b374-43d8-b305-5d3a30badd23",
   "metadata": {},
   "source": [
    "task #1 answer = 30"
   ]
  },
  {
   "cell_type": "raw",
   "id": "807f20da-f933-4a3c-93e4-6ed40e1a4d6f",
   "metadata": {},
   "source": [
    "task #2"
   ]
  },
  {
   "cell_type": "code",
   "execution_count": 115,
   "id": "869e968e-96d9-4ef4-8e5f-5e31b96911a0",
   "metadata": {
    "tags": []
   },
   "outputs": [],
   "source": [
    "import random"
   ]
  },
  {
   "cell_type": "code",
   "execution_count": 130,
   "id": "dfffe05a-43c8-4153-a917-86dbe05f72bc",
   "metadata": {
    "tags": []
   },
   "outputs": [
    {
     "name": "stdout",
     "output_type": "stream",
     "text": [
      "[8, 10, 8, 10, 7, 2, 5, 7, 2, 6, 2, 4, 7, 5, 10, 5, 6, 4, 9, 7]\n"
     ]
    },
    {
     "data": {
      "text/plain": [
       "(20,)"
      ]
     },
     "execution_count": 130,
     "metadata": {},
     "output_type": "execute_result"
    }
   ],
   "source": [
    "randomlist = []\n",
    "for i in range(0,20):\n",
    "    n = random.randint(1,10)\n",
    "    randomlist.append(n)\n",
    "print(randomlist)\n",
    "arr = np.array(randomlist)\n",
    "arr.shape"
   ]
  },
  {
   "cell_type": "code",
   "execution_count": 181,
   "id": "6119a77f-4b00-49be-aa7e-ad3e1df72ac2",
   "metadata": {
    "tags": []
   },
   "outputs": [
    {
     "name": "stdout",
     "output_type": "stream",
     "text": [
      "Model: \"sequential_12\"\n",
      "_________________________________________________________________\n",
      " Layer (type)                Output Shape              Param #   \n",
      "=================================================================\n",
      " dense_20 (Dense)            (None, 50)                1050      \n",
      "                                                                 \n",
      " second (Dense)              (None, 120)               6000      \n",
      "                                                                 \n",
      " out (Dense)                 (None, 3)                 363       \n",
      "                                                                 \n",
      "=================================================================\n",
      "Total params: 7,413\n",
      "Trainable params: 7,413\n",
      "Non-trainable params: 0\n",
      "_________________________________________________________________\n"
     ]
    }
   ],
   "source": [
    "model = tf.keras.models.Sequential([\n",
    "    tf.keras.layers.Dense(50, activation='relu', input_shape=arr.shape),\n",
    "    tf.keras.layers.Dense(120, activation='relu', use_bias=False, name='second'),\n",
    "    tf.keras.layers.Dense(3, activation='relu', name='out'),\n",
    "    \n",
    "])\n",
    "\n",
    "model.summary()"
   ]
  },
  {
   "cell_type": "raw",
   "id": "4cd5eca1-d1d3-492d-8c43-32d8c55db3aa",
   "metadata": {},
   "source": [
    "task #2, answer = 7413"
   ]
  },
  {
   "cell_type": "raw",
   "id": "332f81a1-486f-485e-bf3c-2893edce8f98",
   "metadata": {},
   "source": [
    "task #3"
   ]
  },
  {
   "cell_type": "code",
   "execution_count": 189,
   "id": "0ff98d66-389b-43fc-aa3b-8aab0d35f736",
   "metadata": {
    "tags": []
   },
   "outputs": [
    {
     "data": {
      "text/plain": [
       "59"
      ]
     },
     "execution_count": 189,
     "metadata": {},
     "output_type": "execute_result"
    }
   ],
   "source": [
    "matr = np.repeat(1, 59)[np.newaxis]\n",
    "int(matr.shape[1])"
   ]
  },
  {
   "cell_type": "code",
   "execution_count": 193,
   "id": "335d9cda-d9f5-410b-9bcc-84120fbfb09f",
   "metadata": {
    "tags": []
   },
   "outputs": [
    {
     "name": "stdout",
     "output_type": "stream",
     "text": [
      "Model: \"sequential_14\"\n",
      "_________________________________________________________________\n",
      " Layer (type)                Output Shape              Param #   \n",
      "=================================================================\n",
      " dense_24 (Dense)            (None, 60)                3600      \n",
      "                                                                 \n",
      " second (Dense)              (None, 100)               6100      \n",
      "                                                                 \n",
      " third (Dense)               (None, 10)                1010      \n",
      "                                                                 \n",
      " out (Dense)                 (None, 1)                 11        \n",
      "                                                                 \n",
      "=================================================================\n",
      "Total params: 10,721\n",
      "Trainable params: 10,721\n",
      "Non-trainable params: 0\n",
      "_________________________________________________________________\n"
     ]
    }
   ],
   "source": [
    "model = tf.keras.models.Sequential([\n",
    "    tf.keras.layers.Dense(60, activation='relu', input_shape=(matr.shape[1],)),\n",
    "    tf.keras.layers.Dense(100, activation='relu', name='second'),\n",
    "    tf.keras.layers.Dense(10, activation='relu', name='third'),\n",
    "    tf.keras.layers.Dense(1, activation='linear', name='out'),\n",
    "])\n",
    "\n",
    "model.summary()"
   ]
  },
  {
   "cell_type": "code",
   "execution_count": 194,
   "id": "60afdf3b-0042-400c-a351-f95e0b997e3c",
   "metadata": {
    "tags": []
   },
   "outputs": [],
   "source": [
    "model.load_weights('./weights.h5')"
   ]
  },
  {
   "cell_type": "code",
   "execution_count": 195,
   "id": "ed0e9654-06fc-470f-a07a-b3ca1f721817",
   "metadata": {
    "tags": []
   },
   "outputs": [
    {
     "data": {
      "text/plain": [
       "[array([[-0.49175557],\n",
       "        [-0.26270723],\n",
       "        [ 0.5572973 ],\n",
       "        [ 1.0313578 ],\n",
       "        [-1.2322445 ],\n",
       "        [ 0.17110786],\n",
       "        [ 0.77133995],\n",
       "        [-2.3742123 ],\n",
       "        [ 1.0334668 ],\n",
       "        [-0.4283009 ]], dtype=float32),\n",
       " array([4.3187566], dtype=float32)]"
      ]
     },
     "execution_count": 195,
     "metadata": {},
     "output_type": "execute_result"
    }
   ],
   "source": [
    "model.layers[-1].get_weights()"
   ]
  },
  {
   "cell_type": "code",
   "execution_count": 197,
   "id": "b6438480-a86e-473d-acd9-afb8c72188f2",
   "metadata": {
    "tags": []
   },
   "outputs": [
    {
     "name": "stdout",
     "output_type": "stream",
     "text": [
      "1/1 [==============================] - 0s 12ms/step\n"
     ]
    }
   ],
   "source": [
    "Y_pred = model.predict(matr)"
   ]
  },
  {
   "cell_type": "code",
   "execution_count": 202,
   "id": "6b60ab6e-7d45-4290-8807-63995f2ce77d",
   "metadata": {
    "tags": []
   },
   "outputs": [
    {
     "data": {
      "text/plain": [
       "array([[1596.2368]], dtype=float32)"
      ]
     },
     "execution_count": 202,
     "metadata": {},
     "output_type": "execute_result"
    }
   ],
   "source": [
    "Y_pred"
   ]
  },
  {
   "cell_type": "raw",
   "id": "5b7722cd-daad-4a6c-9a77-a38de2aa970e",
   "metadata": {},
   "source": [
    "task #3, answer = 1596"
   ]
  }
 ],
 "metadata": {
  "kernelspec": {
   "display_name": "Python 3 (ipykernel)",
   "language": "python",
   "name": "python3"
  },
  "language_info": {
   "codemirror_mode": {
    "name": "ipython",
    "version": 3
   },
   "file_extension": ".py",
   "mimetype": "text/x-python",
   "name": "python",
   "nbconvert_exporter": "python",
   "pygments_lexer": "ipython3",
   "version": "3.10.9"
  }
 },
 "nbformat": 4,
 "nbformat_minor": 5
}
