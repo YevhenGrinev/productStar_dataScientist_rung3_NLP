{
 "cells": [
  {
   "cell_type": "code",
   "execution_count": 1,
   "id": "f106bcca-0ff1-4578-82b7-d28e0128cd2b",
   "metadata": {
    "tags": []
   },
   "outputs": [],
   "source": [
    "import pandas as pd\n",
    "import numpy as np\n",
    "import tensorflow as tf\n",
    "\n",
    "np.random.seed(17)\n",
    "tf.random.set_seed(17)"
   ]
  },
  {
   "cell_type": "code",
   "execution_count": 2,
   "id": "ec610bbc-e572-4f75-8bb4-73b714b27a31",
   "metadata": {
    "tags": []
   },
   "outputs": [
    {
     "data": {
      "text/html": [
       "<div>\n",
       "<style scoped>\n",
       "    .dataframe tbody tr th:only-of-type {\n",
       "        vertical-align: middle;\n",
       "    }\n",
       "\n",
       "    .dataframe tbody tr th {\n",
       "        vertical-align: top;\n",
       "    }\n",
       "\n",
       "    .dataframe thead th {\n",
       "        text-align: right;\n",
       "    }\n",
       "</style>\n",
       "<table border=\"1\" class=\"dataframe\">\n",
       "  <thead>\n",
       "    <tr style=\"text-align: right;\">\n",
       "      <th></th>\n",
       "      <th>title</th>\n",
       "      <th>text</th>\n",
       "      <th>bad</th>\n",
       "    </tr>\n",
       "  </thead>\n",
       "  <tbody>\n",
       "    <tr>\n",
       "      <th>0</th>\n",
       "      <td>[треб, помощник, работ, оффлайн, удаленк]</td>\n",
       "      <td>[знает, процесс, регистрац, профсоюз, https, а...</td>\n",
       "      <td>1</td>\n",
       "    </tr>\n",
       "    <tr>\n",
       "      <th>1</th>\n",
       "      <td>[хоч, прода, аккаунт, pornhubpremium, реальн]</td>\n",
       "      <td>[появ, больш, количеств, аккаунт, сайт, реальн...</td>\n",
       "      <td>1</td>\n",
       "    </tr>\n",
       "    <tr>\n",
       "      <th>2</th>\n",
       "      <td>[нужн, помощ, кумерта]</td>\n",
       "      <td>[здравств, декабр, дедушк, упа, сво, квартир, ...</td>\n",
       "      <td>1</td>\n",
       "    </tr>\n",
       "    <tr>\n",
       "      <th>3</th>\n",
       "      <td>[щенок, хаск, ищет, хозяин, платн]</td>\n",
       "      <td>[мам, пап, хаск, подробн, телефон]</td>\n",
       "      <td>1</td>\n",
       "    </tr>\n",
       "    <tr>\n",
       "      <th>4</th>\n",
       "      <td>[песик, пройд, опросик]</td>\n",
       "      <td>[привет, всем, обитател, дан, платформ, провож...</td>\n",
       "      <td>1</td>\n",
       "    </tr>\n",
       "  </tbody>\n",
       "</table>\n",
       "</div>"
      ],
      "text/plain": [
       "                                           title  \\\n",
       "0      [треб, помощник, работ, оффлайн, удаленк]   \n",
       "1  [хоч, прода, аккаунт, pornhubpremium, реальн]   \n",
       "2                         [нужн, помощ, кумерта]   \n",
       "3             [щенок, хаск, ищет, хозяин, платн]   \n",
       "4                        [песик, пройд, опросик]   \n",
       "\n",
       "                                                text  bad  \n",
       "0  [знает, процесс, регистрац, профсоюз, https, а...    1  \n",
       "1  [появ, больш, количеств, аккаунт, сайт, реальн...    1  \n",
       "2  [здравств, декабр, дедушк, упа, сво, квартир, ...    1  \n",
       "3                 [мам, пап, хаск, подробн, телефон]    1  \n",
       "4  [привет, всем, обитател, дан, платформ, провож...    1  "
      ]
     },
     "execution_count": 2,
     "metadata": {},
     "output_type": "execute_result"
    }
   ],
   "source": [
    "df = pd.read_pickle('df_pikabu_spam_posts.pd')\n",
    "df.head()"
   ]
  },
  {
   "cell_type": "code",
   "execution_count": 3,
   "id": "f313e7cc-d557-4b9a-ad09-6af1a0e24697",
   "metadata": {
    "tags": []
   },
   "outputs": [
    {
     "data": {
      "text/html": [
       "<div>\n",
       "<style scoped>\n",
       "    .dataframe tbody tr th:only-of-type {\n",
       "        vertical-align: middle;\n",
       "    }\n",
       "\n",
       "    .dataframe tbody tr th {\n",
       "        vertical-align: top;\n",
       "    }\n",
       "\n",
       "    .dataframe thead th {\n",
       "        text-align: right;\n",
       "    }\n",
       "</style>\n",
       "<table border=\"1\" class=\"dataframe\">\n",
       "  <thead>\n",
       "    <tr style=\"text-align: right;\">\n",
       "      <th></th>\n",
       "      <th>title</th>\n",
       "      <th>text</th>\n",
       "      <th>bad</th>\n",
       "    </tr>\n",
       "  </thead>\n",
       "  <tbody>\n",
       "    <tr>\n",
       "      <th>10952</th>\n",
       "      <td>[сапожник, сапог]</td>\n",
       "      <td>[родственник, отправ, сын, лет, котор, плох, у...</td>\n",
       "      <td>0</td>\n",
       "    </tr>\n",
       "    <tr>\n",
       "      <th>11334</th>\n",
       "      <td>[кредитн, карт]</td>\n",
       "      <td>[обрат, человек, помощ, дают, ипотек, слов, сл...</td>\n",
       "      <td>0</td>\n",
       "    </tr>\n",
       "    <tr>\n",
       "      <th>2758</th>\n",
       "      <td>[закаля, умр]</td>\n",
       "      <td>[привет, всем, интерес, сочувств, прост, загля...</td>\n",
       "      <td>0</td>\n",
       "    </tr>\n",
       "    <tr>\n",
       "      <th>3952</th>\n",
       "      <td>[нов, закон, действ]</td>\n",
       "      <td>[https]</td>\n",
       "      <td>0</td>\n",
       "    </tr>\n",
       "    <tr>\n",
       "      <th>676</th>\n",
       "      <td>[нужн, помощ, кемеров]</td>\n",
       "      <td>[добр, ден, знаком, обрат, просьб, помоч, пере...</td>\n",
       "      <td>1</td>\n",
       "    </tr>\n",
       "  </tbody>\n",
       "</table>\n",
       "</div>"
      ],
      "text/plain": [
       "                        title  \\\n",
       "10952       [сапожник, сапог]   \n",
       "11334         [кредитн, карт]   \n",
       "2758            [закаля, умр]   \n",
       "3952     [нов, закон, действ]   \n",
       "676    [нужн, помощ, кемеров]   \n",
       "\n",
       "                                                    text  bad  \n",
       "10952  [родственник, отправ, сын, лет, котор, плох, у...    0  \n",
       "11334  [обрат, человек, помощ, дают, ипотек, слов, сл...    0  \n",
       "2758   [привет, всем, интерес, сочувств, прост, загля...    0  \n",
       "3952                                             [https]    0  \n",
       "676    [добр, ден, знаком, обрат, просьб, помоч, пере...    1  "
      ]
     },
     "execution_count": 3,
     "metadata": {},
     "output_type": "execute_result"
    }
   ],
   "source": [
    "df = df.sample(frac=1)\n",
    "df.head()"
   ]
  },
  {
   "cell_type": "code",
   "execution_count": 4,
   "id": "9d7259a7-efc8-4adc-8782-3f9361f54d96",
   "metadata": {
    "tags": []
   },
   "outputs": [
    {
     "data": {
      "text/plain": [
       "0.23579201934703747"
      ]
     },
     "execution_count": 4,
     "metadata": {},
     "output_type": "execute_result"
    }
   ],
   "source": [
    "df.bad.mean()"
   ]
  },
  {
   "cell_type": "code",
   "execution_count": 5,
   "id": "91469273-2eba-486e-bf2b-4cca0bb3a895",
   "metadata": {
    "tags": []
   },
   "outputs": [
    {
     "name": "stdout",
     "output_type": "stream",
     "text": [
      "59073\n"
     ]
    }
   ],
   "source": [
    "words_set = set()\n",
    "\n",
    "for row in df.itertuples():\n",
    "    for word in row.title:\n",
    "        words_set.add(word)\n",
    "    for word in row.text:\n",
    "        words_set.add(word)\n",
    "        \n",
    "print(len(words_set))"
   ]
  },
  {
   "cell_type": "code",
   "execution_count": 6,
   "id": "2b84731e-1ca5-4314-a8ec-d93dc5bcac14",
   "metadata": {
    "tags": []
   },
   "outputs": [],
   "source": [
    "# words_set"
   ]
  },
  {
   "cell_type": "code",
   "execution_count": 7,
   "id": "409376a1-3de0-449f-aff4-baec8eade20a",
   "metadata": {
    "tags": []
   },
   "outputs": [],
   "source": [
    "words_counter = {w: 0 for w in words_set}\n",
    "\n",
    "for row in df.itertuples():\n",
    "    for word in row.title:\n",
    "        words_counter[word] += 1\n",
    "    for word in row.text:\n",
    "        words_counter[word] += 1\n",
    "        \n",
    "words_list = list(words_counter.items())\n",
    "words_list.sort(key=(lambda x: x[1]), reverse=True)"
   ]
  },
  {
   "cell_type": "code",
   "execution_count": 8,
   "id": "918fa5ad-45e8-4132-a47b-a1d62eab4dd2",
   "metadata": {
    "tags": []
   },
   "outputs": [
    {
     "data": {
      "text/plain": [
       "[('эт', 11379),\n",
       " ('котор', 6957),\n",
       " ('сво', 4743),\n",
       " ('год', 4251),\n",
       " ('так', 4122),\n",
       " ('сам', 3757),\n",
       " ('одн', 3251),\n",
       " ('работ', 3207),\n",
       " ('очен', 3167),\n",
       " ('прост', 3116)]"
      ]
     },
     "execution_count": 8,
     "metadata": {},
     "output_type": "execute_result"
    }
   ],
   "source": [
    "words_list[:10]"
   ]
  },
  {
   "cell_type": "code",
   "execution_count": 9,
   "id": "60cfd806-561d-48b1-9cd0-a1471ce2802d",
   "metadata": {
    "tags": []
   },
   "outputs": [
    {
     "data": {
      "text/plain": [
       "[('дурнот', 1),\n",
       " ('fei', 1),\n",
       " ('запьет', 1),\n",
       " ('мелочида', 1),\n",
       " ('бердер', 1),\n",
       " ('викторовhттпс', 1),\n",
       " ('заставок', 1),\n",
       " ('таблеточек', 1),\n",
       " ('акустик', 1),\n",
       " ('пошиб', 1)]"
      ]
     },
     "execution_count": 9,
     "metadata": {},
     "output_type": "execute_result"
    }
   ],
   "source": [
    "words_list[-10:]"
   ]
  },
  {
   "cell_type": "code",
   "execution_count": 10,
   "id": "e48581b7-06ff-4d9d-9e94-e6e669e90bb0",
   "metadata": {
    "tags": []
   },
   "outputs": [
    {
     "data": {
      "text/plain": [
       "[('вуал', 27),\n",
       " ('маневр', 27),\n",
       " ('отвел', 27),\n",
       " ('распредел', 27),\n",
       " ('почтов', 27),\n",
       " ('тен', 27),\n",
       " ('фонарик', 27),\n",
       " ('орех', 27),\n",
       " ('мартин', 27),\n",
       " ('генератор', 27)]"
      ]
     },
     "execution_count": 10,
     "metadata": {},
     "output_type": "execute_result"
    }
   ],
   "source": [
    "words_list[4990:5000]"
   ]
  },
  {
   "cell_type": "code",
   "execution_count": 11,
   "id": "29dfe08d-3f7e-44df-8964-2eca809cc2cc",
   "metadata": {
    "tags": []
   },
   "outputs": [],
   "source": [
    "words_list = words_list[:5000]\n",
    "# print(words_list)\n",
    "words_list = [k[0] for k in words_list]\n",
    "# print(words_list)\n",
    "words_ohe_positions = {words_list[i]: i for i in range(len(words_list))}"
   ]
  },
  {
   "cell_type": "code",
   "execution_count": 12,
   "id": "11f7a9f4-b15e-4241-a333-029055fe6810",
   "metadata": {
    "tags": []
   },
   "outputs": [],
   "source": [
    "# words_ohe_positions"
   ]
  },
  {
   "cell_type": "code",
   "execution_count": 13,
   "id": "6cf1ab53-4f71-4610-be4e-f87ba0326da4",
   "metadata": {
    "tags": []
   },
   "outputs": [],
   "source": [
    "titles = []\n",
    "texts = []\n",
    "\n",
    "for row in df.itertuples():\n",
    "    title_ohe = [0] * len(words_list)\n",
    "    for word in row.title:\n",
    "        try: \n",
    "            title_ohe[words_ohe_positions[word]] += 1\n",
    "        except:\n",
    "            continue\n",
    "        \n",
    "    text_ohe = [0] * len(words_list)\n",
    "    for word in row.text:\n",
    "        try:\n",
    "            text_ohe[words_ohe_positions[word]] += 1\n",
    "        except:\n",
    "            continue\n",
    "        \n",
    "    titles.append(title_ohe)\n",
    "    texts.append(text_ohe)\n",
    "    \n",
    "titles = np.array(titles)\n",
    "texts = np.array(texts)"
   ]
  },
  {
   "cell_type": "code",
   "execution_count": 14,
   "id": "4077aca4-8ca9-4d76-9731-ff4acb73d451",
   "metadata": {
    "tags": []
   },
   "outputs": [
    {
     "data": {
      "text/plain": [
       "((7443, 5000), (7443, 5000))"
      ]
     },
     "execution_count": 14,
     "metadata": {},
     "output_type": "execute_result"
    }
   ],
   "source": [
    "titles.shape, texts.shape"
   ]
  },
  {
   "cell_type": "code",
   "execution_count": 21,
   "id": "cd935fb0-0a88-41a9-92de-2ddcea2c42ec",
   "metadata": {
    "tags": []
   },
   "outputs": [
    {
     "data": {
      "text/plain": [
       "5000"
      ]
     },
     "execution_count": 21,
     "metadata": {},
     "output_type": "execute_result"
    }
   ],
   "source": [
    "len(titles[0])"
   ]
  },
  {
   "cell_type": "code",
   "execution_count": 15,
   "id": "7e9d812e-21d4-4697-824f-43dcaa1225b2",
   "metadata": {
    "tags": []
   },
   "outputs": [
    {
     "data": {
      "text/plain": [
       "(7443,)"
      ]
     },
     "execution_count": 15,
     "metadata": {},
     "output_type": "execute_result"
    }
   ],
   "source": [
    "y = np.array(df['bad'])\n",
    "y.shape"
   ]
  },
  {
   "cell_type": "code",
   "execution_count": 16,
   "id": "88aa1382-b608-4f35-aa31-b26e089af205",
   "metadata": {
    "tags": []
   },
   "outputs": [],
   "source": [
    "def train_val_test_split(x, val_frac=.15, test_frac=.15):\n",
    "    x_train = x[:round((1-val_frac-test_frac) * len(x))]\n",
    "    x_val = x[round((1-val_frac-test_frac) * len(x)):round((1-test_frac) * len(x))]\n",
    "    x_test = x[round((1-test_frac)*len(x)):]\n",
    "    \n",
    "    return x_train, x_val, x_test\n",
    "    \n",
    "titles_train, titles_val, titles_test = train_val_test_split(titles)\n",
    "texts_train, texts_val, texts_test = train_val_test_split(texts)\n",
    "y_train, y_val, y_test = train_val_test_split(y)"
   ]
  },
  {
   "cell_type": "code",
   "execution_count": null,
   "id": "df5b0788-ae7d-4252-8a25-b78a4983918b",
   "metadata": {},
   "outputs": [],
   "source": [
    "title_input = tf.keras.layers.Input(shape(len(titles[0],)))\n",
    "text_input = tf.keras.layers.Input(shape(len(texts[0],)))\n",
    "\n",
    "title_dense_1 = tf.keras.layers.Dense(1000, activation='relu')(title_input)\n",
    "text_dense_1 = tf.keras.layers.Dense(1000, activation='relu')(text_input)\n",
    "\n",
    "title_bn_1 = tf.keras.layers.BatchNormalization()(title_dense_1)\n",
    "text_bn_1 = tf.keras.layers.BatchNormalization()(text_dense_1)\n",
    "\n",
    "title_dense_2 = tf.keras.layers.Dense(100, activation='relu')(title_bn_1)\n",
    "text_dense_2 = tf.keras.layers.Dense(1000, activation='relu')(text_bn_1)\n",
    "\n",
    "\n"
   ]
  }
 ],
 "metadata": {
  "kernelspec": {
   "display_name": "Python 3 (ipykernel)",
   "language": "python",
   "name": "python3"
  },
  "language_info": {
   "codemirror_mode": {
    "name": "ipython",
    "version": 3
   },
   "file_extension": ".py",
   "mimetype": "text/x-python",
   "name": "python",
   "nbconvert_exporter": "python",
   "pygments_lexer": "ipython3",
   "version": "3.10.10"
  }
 },
 "nbformat": 4,
 "nbformat_minor": 5
}
