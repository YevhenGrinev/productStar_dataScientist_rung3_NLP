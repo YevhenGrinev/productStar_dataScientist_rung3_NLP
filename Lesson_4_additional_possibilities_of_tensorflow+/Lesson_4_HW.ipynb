{
 "cells": [
  {
   "cell_type": "code",
   "execution_count": 1,
   "id": "f106bcca-0ff1-4578-82b7-d28e0128cd2b",
   "metadata": {
    "tags": []
   },
   "outputs": [],
   "source": [
    "import pandas as pd\n",
    "import numpy as np\n",
    "import tensorflow as tf\n",
    "import os\n",
    "\n",
    "np.random.seed(17)\n",
    "tf.random.set_seed(17)"
   ]
  },
  {
   "cell_type": "code",
   "execution_count": 2,
   "id": "ec610bbc-e572-4f75-8bb4-73b714b27a31",
   "metadata": {
    "tags": []
   },
   "outputs": [
    {
     "data": {
      "text/html": [
       "<div>\n",
       "<style scoped>\n",
       "    .dataframe tbody tr th:only-of-type {\n",
       "        vertical-align: middle;\n",
       "    }\n",
       "\n",
       "    .dataframe tbody tr th {\n",
       "        vertical-align: top;\n",
       "    }\n",
       "\n",
       "    .dataframe thead th {\n",
       "        text-align: right;\n",
       "    }\n",
       "</style>\n",
       "<table border=\"1\" class=\"dataframe\">\n",
       "  <thead>\n",
       "    <tr style=\"text-align: right;\">\n",
       "      <th></th>\n",
       "      <th>title</th>\n",
       "      <th>text</th>\n",
       "      <th>bad</th>\n",
       "    </tr>\n",
       "  </thead>\n",
       "  <tbody>\n",
       "    <tr>\n",
       "      <th>0</th>\n",
       "      <td>[треб, помощник, работ, оффлайн, удаленк]</td>\n",
       "      <td>[знает, процесс, регистрац, профсоюз, https, а...</td>\n",
       "      <td>1</td>\n",
       "    </tr>\n",
       "    <tr>\n",
       "      <th>1</th>\n",
       "      <td>[хоч, прода, аккаунт, pornhubpremium, реальн]</td>\n",
       "      <td>[появ, больш, количеств, аккаунт, сайт, реальн...</td>\n",
       "      <td>1</td>\n",
       "    </tr>\n",
       "    <tr>\n",
       "      <th>2</th>\n",
       "      <td>[нужн, помощ, кумерта]</td>\n",
       "      <td>[здравств, декабр, дедушк, упа, сво, квартир, ...</td>\n",
       "      <td>1</td>\n",
       "    </tr>\n",
       "    <tr>\n",
       "      <th>3</th>\n",
       "      <td>[щенок, хаск, ищет, хозяин, платн]</td>\n",
       "      <td>[мам, пап, хаск, подробн, телефон]</td>\n",
       "      <td>1</td>\n",
       "    </tr>\n",
       "    <tr>\n",
       "      <th>4</th>\n",
       "      <td>[песик, пройд, опросик]</td>\n",
       "      <td>[привет, всем, обитател, дан, платформ, провож...</td>\n",
       "      <td>1</td>\n",
       "    </tr>\n",
       "  </tbody>\n",
       "</table>\n",
       "</div>"
      ],
      "text/plain": [
       "                                           title  \\\n",
       "0      [треб, помощник, работ, оффлайн, удаленк]   \n",
       "1  [хоч, прода, аккаунт, pornhubpremium, реальн]   \n",
       "2                         [нужн, помощ, кумерта]   \n",
       "3             [щенок, хаск, ищет, хозяин, платн]   \n",
       "4                        [песик, пройд, опросик]   \n",
       "\n",
       "                                                text  bad  \n",
       "0  [знает, процесс, регистрац, профсоюз, https, а...    1  \n",
       "1  [появ, больш, количеств, аккаунт, сайт, реальн...    1  \n",
       "2  [здравств, декабр, дедушк, упа, сво, квартир, ...    1  \n",
       "3                 [мам, пап, хаск, подробн, телефон]    1  \n",
       "4  [привет, всем, обитател, дан, платформ, провож...    1  "
      ]
     },
     "execution_count": 2,
     "metadata": {},
     "output_type": "execute_result"
    }
   ],
   "source": [
    "df = pd.read_pickle('df_pikabu_spam_posts.pd')\n",
    "df.head()"
   ]
  },
  {
   "cell_type": "code",
   "execution_count": 3,
   "id": "f313e7cc-d557-4b9a-ad09-6af1a0e24697",
   "metadata": {
    "tags": []
   },
   "outputs": [
    {
     "data": {
      "text/html": [
       "<div>\n",
       "<style scoped>\n",
       "    .dataframe tbody tr th:only-of-type {\n",
       "        vertical-align: middle;\n",
       "    }\n",
       "\n",
       "    .dataframe tbody tr th {\n",
       "        vertical-align: top;\n",
       "    }\n",
       "\n",
       "    .dataframe thead th {\n",
       "        text-align: right;\n",
       "    }\n",
       "</style>\n",
       "<table border=\"1\" class=\"dataframe\">\n",
       "  <thead>\n",
       "    <tr style=\"text-align: right;\">\n",
       "      <th></th>\n",
       "      <th>title</th>\n",
       "      <th>text</th>\n",
       "      <th>bad</th>\n",
       "    </tr>\n",
       "  </thead>\n",
       "  <tbody>\n",
       "    <tr>\n",
       "      <th>10952</th>\n",
       "      <td>[сапожник, сапог]</td>\n",
       "      <td>[родственник, отправ, сын, лет, котор, плох, у...</td>\n",
       "      <td>0</td>\n",
       "    </tr>\n",
       "    <tr>\n",
       "      <th>11334</th>\n",
       "      <td>[кредитн, карт]</td>\n",
       "      <td>[обрат, человек, помощ, дают, ипотек, слов, сл...</td>\n",
       "      <td>0</td>\n",
       "    </tr>\n",
       "    <tr>\n",
       "      <th>2758</th>\n",
       "      <td>[закаля, умр]</td>\n",
       "      <td>[привет, всем, интерес, сочувств, прост, загля...</td>\n",
       "      <td>0</td>\n",
       "    </tr>\n",
       "    <tr>\n",
       "      <th>3952</th>\n",
       "      <td>[нов, закон, действ]</td>\n",
       "      <td>[https]</td>\n",
       "      <td>0</td>\n",
       "    </tr>\n",
       "    <tr>\n",
       "      <th>676</th>\n",
       "      <td>[нужн, помощ, кемеров]</td>\n",
       "      <td>[добр, ден, знаком, обрат, просьб, помоч, пере...</td>\n",
       "      <td>1</td>\n",
       "    </tr>\n",
       "  </tbody>\n",
       "</table>\n",
       "</div>"
      ],
      "text/plain": [
       "                        title  \\\n",
       "10952       [сапожник, сапог]   \n",
       "11334         [кредитн, карт]   \n",
       "2758            [закаля, умр]   \n",
       "3952     [нов, закон, действ]   \n",
       "676    [нужн, помощ, кемеров]   \n",
       "\n",
       "                                                    text  bad  \n",
       "10952  [родственник, отправ, сын, лет, котор, плох, у...    0  \n",
       "11334  [обрат, человек, помощ, дают, ипотек, слов, сл...    0  \n",
       "2758   [привет, всем, интерес, сочувств, прост, загля...    0  \n",
       "3952                                             [https]    0  \n",
       "676    [добр, ден, знаком, обрат, просьб, помоч, пере...    1  "
      ]
     },
     "execution_count": 3,
     "metadata": {},
     "output_type": "execute_result"
    }
   ],
   "source": [
    "df = df.sample(frac=1)\n",
    "df.head()"
   ]
  },
  {
   "cell_type": "code",
   "execution_count": 6,
   "id": "91469273-2eba-486e-bf2b-4cca0bb3a895",
   "metadata": {
    "tags": []
   },
   "outputs": [
    {
     "name": "stdout",
     "output_type": "stream",
     "text": [
      "59073\n"
     ]
    }
   ],
   "source": [
    "words_set = set()\n",
    "\n",
    "for row in df.itertuples():\n",
    "    for word in row.title:\n",
    "        words_set.add(word)\n",
    "    for word in row.text:\n",
    "        words_set.add(word)\n",
    "        \n",
    "print(len(words_set))\n",
    "\n",
    "# df.itertuples"
   ]
  },
  {
   "cell_type": "code",
   "execution_count": 5,
   "id": "409376a1-3de0-449f-aff4-baec8eade20a",
   "metadata": {
    "tags": []
   },
   "outputs": [],
   "source": [
    "words_counter = {w: 0 for w in words_set}\n",
    "\n",
    "for row in df.itertuples():\n",
    "    for word in row.title:\n",
    "        words_counter[word] += 1\n",
    "    for word in row.text:\n",
    "        words_counter[word] += 1\n",
    "        \n",
    "words_list = list(words_counter.items())\n",
    "words_list.sort(key=(lambda x: x[1]), reverse=True)"
   ]
  },
  {
   "cell_type": "code",
   "execution_count": 6,
   "id": "29dfe08d-3f7e-44df-8964-2eca809cc2cc",
   "metadata": {
    "tags": []
   },
   "outputs": [],
   "source": [
    "words_list = words_list[:5000]\n",
    "# print(words_list)\n",
    "words_list = [k[0] for k in words_list]\n",
    "# print(words_list)\n",
    "words_ohe_positions = {words_list[i]: i for i in range(len(words_list))}"
   ]
  },
  {
   "cell_type": "code",
   "execution_count": 7,
   "id": "6cf1ab53-4f71-4610-be4e-f87ba0326da4",
   "metadata": {
    "tags": []
   },
   "outputs": [],
   "source": [
    "titles = []\n",
    "texts = []\n",
    "\n",
    "for row in df.itertuples():\n",
    "    title_ohe = [0] * len(words_list)\n",
    "    for word in row.title:\n",
    "        try: \n",
    "            title_ohe[words_ohe_positions[word]] += 1\n",
    "        except:\n",
    "            continue\n",
    "        \n",
    "    text_ohe = [0] * len(words_list)\n",
    "    for word in row.text:\n",
    "        try:\n",
    "            text_ohe[words_ohe_positions[word]] += 1\n",
    "        except:\n",
    "            continue\n",
    "        \n",
    "    titles.append(title_ohe)\n",
    "    texts.append(text_ohe)\n",
    "    \n",
    "titles = np.array(titles)\n",
    "texts = np.array(texts)"
   ]
  },
  {
   "cell_type": "code",
   "execution_count": 8,
   "id": "4077aca4-8ca9-4d76-9731-ff4acb73d451",
   "metadata": {
    "tags": []
   },
   "outputs": [
    {
     "data": {
      "text/plain": [
       "((7443, 5000), (7443, 5000))"
      ]
     },
     "execution_count": 8,
     "metadata": {},
     "output_type": "execute_result"
    }
   ],
   "source": [
    "titles.shape, texts.shape"
   ]
  },
  {
   "cell_type": "code",
   "execution_count": 9,
   "id": "cd935fb0-0a88-41a9-92de-2ddcea2c42ec",
   "metadata": {
    "tags": []
   },
   "outputs": [
    {
     "data": {
      "text/plain": [
       "5000"
      ]
     },
     "execution_count": 9,
     "metadata": {},
     "output_type": "execute_result"
    }
   ],
   "source": [
    "len(titles[0])"
   ]
  },
  {
   "cell_type": "code",
   "execution_count": 10,
   "id": "7e9d812e-21d4-4697-824f-43dcaa1225b2",
   "metadata": {
    "tags": []
   },
   "outputs": [
    {
     "data": {
      "text/plain": [
       "(7443,)"
      ]
     },
     "execution_count": 10,
     "metadata": {},
     "output_type": "execute_result"
    }
   ],
   "source": [
    "y = np.array(df['bad'])\n",
    "y.shape"
   ]
  },
  {
   "cell_type": "code",
   "execution_count": 11,
   "id": "88aa1382-b608-4f35-aa31-b26e089af205",
   "metadata": {
    "tags": []
   },
   "outputs": [],
   "source": [
    "def train_val_test_split(x, val_frac=.15, test_frac=.15):\n",
    "    x_train = x[:round((1-val_frac-test_frac) * len(x))]\n",
    "    x_val = x[round((1-val_frac-test_frac) * len(x)):round((1-test_frac) * len(x))]\n",
    "    x_test = x[round((1-test_frac)*len(x)):]\n",
    "    \n",
    "    return x_train, x_val, x_test\n",
    "    \n",
    "titles_train, titles_val, titles_test = train_val_test_split(titles)\n",
    "texts_train, texts_val, texts_test = train_val_test_split(texts)\n",
    "y_train, y_val, y_test = train_val_test_split(y)"
   ]
  },
  {
   "cell_type": "code",
   "execution_count": 12,
   "id": "df5b0788-ae7d-4252-8a25-b78a4983918b",
   "metadata": {
    "tags": []
   },
   "outputs": [],
   "source": [
    "title_input = tf.keras.layers.Input(shape=(len(titles[0],)))\n",
    "text_input = tf.keras.layers.Input(shape=(len(texts[0],)))\n",
    "\n",
    "title_dense_1 = tf.keras.layers.Dense(500, activation='relu')(title_input)\n",
    "title_bn_1 = tf.keras.layers.BatchNormalization()(title_dense_1)\n",
    "\n",
    "text_dense_1 = tf.keras.layers.Dense(500, activation='relu')(text_input)\n",
    "text_bn_1 = tf.keras.layers.BatchNormalization()(text_dense_1)\n",
    "\n",
    "text_dense_2 = tf.keras.layers.Dense(500, activation='relu')(text_bn_1)\n",
    "text_bn_2 = tf.keras.layers.BatchNormalization()(text_dense_2)\n",
    "\n",
    "add = tf.keras.layers.Add()([title_bn_1, text_bn_2]) \n",
    "\n",
    "main_dense_1 = tf.keras.layers.Dense(300, activation='relu')(add)\n",
    "main_bn_1 = tf.keras.layers.BatchNormalization()(main_dense_1)\n",
    "main_dropout_1 = tf.keras.layers.Dropout(0.8)(main_bn_1)\n",
    "\n",
    "main_dense_2 = tf.keras.layers.Dense(100, activation='relu')(main_dropout_1)\n",
    "main_bn_2 = tf.keras.layers.BatchNormalization()(main_dense_2)\n",
    "main_dropout_2 = tf.keras.layers.Dropout(0.8)(main_bn_2)\n",
    "\n",
    "output = tf.keras.layers.Dense(1, activation='sigmoid')(main_dropout_2)\n",
    "\n",
    "model = tf.keras.Model(\n",
    "    inputs=[title_input, text_input], outputs=output\n",
    ")"
   ]
  },
  {
   "cell_type": "code",
   "execution_count": 13,
   "id": "e3190af6-afa9-4e27-aea6-05951e915fa7",
   "metadata": {
    "tags": []
   },
   "outputs": [
    {
     "name": "stdout",
     "output_type": "stream",
     "text": [
      "Model: \"model\"\n",
      "__________________________________________________________________________________________________\n",
      " Layer (type)                   Output Shape         Param #     Connected to                     \n",
      "==================================================================================================\n",
      " input_2 (InputLayer)           [(None, 5000)]       0           []                               \n",
      "                                                                                                  \n",
      " dense_1 (Dense)                (None, 500)          2500500     ['input_2[0][0]']                \n",
      "                                                                                                  \n",
      " input_1 (InputLayer)           [(None, 5000)]       0           []                               \n",
      "                                                                                                  \n",
      " batch_normalization_1 (BatchNo  (None, 500)         2000        ['dense_1[0][0]']                \n",
      " rmalization)                                                                                     \n",
      "                                                                                                  \n",
      " dense (Dense)                  (None, 500)          2500500     ['input_1[0][0]']                \n",
      "                                                                                                  \n",
      " dense_2 (Dense)                (None, 500)          250500      ['batch_normalization_1[0][0]']  \n",
      "                                                                                                  \n",
      " batch_normalization (BatchNorm  (None, 500)         2000        ['dense[0][0]']                  \n",
      " alization)                                                                                       \n",
      "                                                                                                  \n",
      " batch_normalization_2 (BatchNo  (None, 500)         2000        ['dense_2[0][0]']                \n",
      " rmalization)                                                                                     \n",
      "                                                                                                  \n",
      " add (Add)                      (None, 500)          0           ['batch_normalization[0][0]',    \n",
      "                                                                  'batch_normalization_2[0][0]']  \n",
      "                                                                                                  \n",
      " dense_3 (Dense)                (None, 300)          150300      ['add[0][0]']                    \n",
      "                                                                                                  \n",
      " batch_normalization_3 (BatchNo  (None, 300)         1200        ['dense_3[0][0]']                \n",
      " rmalization)                                                                                     \n",
      "                                                                                                  \n",
      " dropout (Dropout)              (None, 300)          0           ['batch_normalization_3[0][0]']  \n",
      "                                                                                                  \n",
      " dense_4 (Dense)                (None, 100)          30100       ['dropout[0][0]']                \n",
      "                                                                                                  \n",
      " batch_normalization_4 (BatchNo  (None, 100)         400         ['dense_4[0][0]']                \n",
      " rmalization)                                                                                     \n",
      "                                                                                                  \n",
      " dropout_1 (Dropout)            (None, 100)          0           ['batch_normalization_4[0][0]']  \n",
      "                                                                                                  \n",
      " dense_5 (Dense)                (None, 1)            101         ['dropout_1[0][0]']              \n",
      "                                                                                                  \n",
      "==================================================================================================\n",
      "Total params: 5,439,601\n",
      "Trainable params: 5,435,801\n",
      "Non-trainable params: 3,800\n",
      "__________________________________________________________________________________________________\n"
     ]
    }
   ],
   "source": [
    "model.summary()"
   ]
  },
  {
   "cell_type": "raw",
   "id": "626abd21-d55e-445f-9e4a-8a14911f9bc4",
   "metadata": {},
   "source": [
    "task 1, answer = 5435801"
   ]
  },
  {
   "cell_type": "code",
   "execution_count": 14,
   "id": "7e1dac64-fdc4-46ab-a094-4e6de5e1ad23",
   "metadata": {
    "tags": []
   },
   "outputs": [],
   "source": [
    "accuracy = tf.keras.metrics.binary_accuracy\n",
    "\n",
    "model.compile(\n",
    "    optimizer=tf.keras.optimizers.Adam(),\n",
    "    loss=tf.keras.losses.binary_crossentropy,\n",
    "    metrics=([accuracy])\n",
    "    \n",
    ")"
   ]
  },
  {
   "cell_type": "code",
   "execution_count": 15,
   "id": "8627900f-e8a7-40f8-9c3c-654b6cdb7f2a",
   "metadata": {
    "tags": []
   },
   "outputs": [],
   "source": [
    "os.mkdir('logs_hw')"
   ]
  },
  {
   "cell_type": "code",
   "execution_count": 16,
   "id": "a841342d-458c-48bd-b0d6-1bde8644d7cd",
   "metadata": {
    "tags": []
   },
   "outputs": [],
   "source": [
    "tb_callback = tf.keras.callbacks.TensorBoard(\n",
    "    log_dir='logs_hw/first',\n",
    "    histogram_freq=1\n",
    ")"
   ]
  },
  {
   "cell_type": "code",
   "execution_count": 17,
   "id": "0f36f15f-d207-42b6-922f-b189259fb558",
   "metadata": {
    "tags": []
   },
   "outputs": [
    {
     "name": "stdout",
     "output_type": "stream",
     "text": [
      "Epoch 1/10\n"
     ]
    },
    {
     "name": "stderr",
     "output_type": "stream",
     "text": [
      "2023-04-02 23:14:18.910167: W tensorflow/core/platform/profile_utils/cpu_utils.cc:128] Failed to get CPU frequency: 0 Hz\n"
     ]
    },
    {
     "name": "stdout",
     "output_type": "stream",
     "text": [
      "21/21 [==============================] - 3s 95ms/step - loss: 1.0887 - binary_accuracy: 0.5388 - val_loss: 0.5653 - val_binary_accuracy: 0.7663\n",
      "Epoch 2/10\n",
      "21/21 [==============================] - 2s 78ms/step - loss: 0.7403 - binary_accuracy: 0.6618 - val_loss: 0.5077 - val_binary_accuracy: 0.7878\n",
      "Epoch 3/10\n",
      "21/21 [==============================] - 2s 79ms/step - loss: 0.4999 - binary_accuracy: 0.7745 - val_loss: 0.4224 - val_binary_accuracy: 0.8478\n",
      "Epoch 4/10\n",
      "21/21 [==============================] - 2s 79ms/step - loss: 0.2950 - binary_accuracy: 0.8891 - val_loss: 0.3447 - val_binary_accuracy: 0.8648\n",
      "Epoch 5/10\n",
      "21/21 [==============================] - 2s 80ms/step - loss: 0.2015 - binary_accuracy: 0.9388 - val_loss: 0.3031 - val_binary_accuracy: 0.8729\n",
      "Epoch 6/10\n",
      "21/21 [==============================] - 2s 81ms/step - loss: 0.1289 - binary_accuracy: 0.9699 - val_loss: 0.2843 - val_binary_accuracy: 0.8765\n",
      "Epoch 7/10\n",
      "21/21 [==============================] - 2s 82ms/step - loss: 0.0885 - binary_accuracy: 0.9848 - val_loss: 0.2710 - val_binary_accuracy: 0.8863\n",
      "Epoch 8/10\n",
      "21/21 [==============================] - 2s 84ms/step - loss: 0.0611 - binary_accuracy: 0.9898 - val_loss: 0.2674 - val_binary_accuracy: 0.8917\n",
      "Epoch 9/10\n",
      "21/21 [==============================] - 2s 85ms/step - loss: 0.0494 - binary_accuracy: 0.9925 - val_loss: 0.2755 - val_binary_accuracy: 0.8908\n",
      "Epoch 10/10\n",
      "21/21 [==============================] - 2s 80ms/step - loss: 0.0382 - binary_accuracy: 0.9956 - val_loss: 0.2588 - val_binary_accuracy: 0.9069\n"
     ]
    },
    {
     "data": {
      "text/plain": [
       "<keras.callbacks.History at 0x14cee7ac0>"
      ]
     },
     "execution_count": 17,
     "metadata": {},
     "output_type": "execute_result"
    }
   ],
   "source": [
    "model.fit(\n",
    "    [titles_train, texts_train], y_train,\n",
    "    validation_data=([titles_val, texts_val], y_val),\n",
    "    batch_size = 256,\n",
    "    epochs = 10,\n",
    "    callbacks=[tb_callback]\n",
    ")"
   ]
  },
  {
   "cell_type": "code",
   "execution_count": 18,
   "id": "9d032f89-2a85-4458-b8d3-2cddf4311d51",
   "metadata": {
    "tags": []
   },
   "outputs": [
    {
     "data": {
      "text/plain": [
       "0.9"
      ]
     },
     "execution_count": 18,
     "metadata": {},
     "output_type": "execute_result"
    }
   ],
   "source": [
    "round(0.9069, 1)"
   ]
  }
 ],
 "metadata": {
  "kernelspec": {
   "display_name": "Python 3 (ipykernel)",
   "language": "python",
   "name": "python3"
  },
  "language_info": {
   "codemirror_mode": {
    "name": "ipython",
    "version": 3
   },
   "file_extension": ".py",
   "mimetype": "text/x-python",
   "name": "python",
   "nbconvert_exporter": "python",
   "pygments_lexer": "ipython3",
   "version": "3.10.10"
  }
 },
 "nbformat": 4,
 "nbformat_minor": 5
}
