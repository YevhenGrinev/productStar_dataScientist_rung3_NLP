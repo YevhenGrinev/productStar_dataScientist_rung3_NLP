{
 "cells": [
  {
   "cell_type": "code",
   "execution_count": 1,
   "id": "6323233a-4806-4a5b-a068-da8798b456c0",
   "metadata": {
    "tags": []
   },
   "outputs": [],
   "source": [
    "import numpy as np\n",
    "import tensorflow as tf\n",
    "import random \n",
    "import os\n",
    "\n",
    "np.random.seed(17)\n",
    "tf.random.set_seed(17)\n",
    "random.seed(17)"
   ]
  },
  {
   "cell_type": "code",
   "execution_count": 2,
   "id": "e1291078-3b7a-4d76-904d-0c395946e3da",
   "metadata": {},
   "outputs": [],
   "source": [
    "densenet = tf.keras.applications.densenet.DenseNet201()"
   ]
  },
  {
   "cell_type": "code",
   "execution_count": 3,
   "id": "2d9027b6-89d5-420c-b9c4-5ef74d888c3f",
   "metadata": {},
   "outputs": [],
   "source": [
    "cat_img = tf.keras.preprocessing.image.load_img('cat.jpg', target_size=(224,224))"
   ]
  },
  {
   "cell_type": "code",
   "execution_count": 4,
   "id": "521a1991-c715-44c9-b213-3b574e621112",
   "metadata": {
    "tags": []
   },
   "outputs": [],
   "source": [
    "cat_img.show()"
   ]
  },
  {
   "cell_type": "code",
   "execution_count": 5,
   "id": "4a1a3d52-dfb0-4ca9-b2a3-a6c58d1fcc08",
   "metadata": {
    "tags": []
   },
   "outputs": [],
   "source": [
    "cat_img = tf.keras.preprocessing.image.img_to_array(cat_img)"
   ]
  },
  {
   "cell_type": "code",
   "execution_count": 6,
   "id": "5d96e5b8-ef7d-445e-98b6-bc8316fe546c",
   "metadata": {
    "tags": []
   },
   "outputs": [
    {
     "data": {
      "text/plain": [
       "(224, 224, 3)"
      ]
     },
     "execution_count": 6,
     "metadata": {},
     "output_type": "execute_result"
    }
   ],
   "source": [
    "cat_img.shape"
   ]
  },
  {
   "cell_type": "code",
   "execution_count": 7,
   "id": "3cac4c64-143a-4f7b-906b-80983aa299b3",
   "metadata": {
    "tags": []
   },
   "outputs": [
    {
     "data": {
      "text/plain": [
       "array([[[[1.0330508, 1.7633053, 2.5528543],\n",
       "         [0.9988013, 1.7282913, 2.5179958],\n",
       "         [0.9988013, 1.7282913, 2.5179958],\n",
       "         ...,\n",
       "         [1.2042983, 1.8333333, 2.5702832],\n",
       "         [1.2042983, 1.8333333, 2.5702832],\n",
       "         [1.2042983, 1.8333333, 2.5702832]],\n",
       "\n",
       "        [[1.015926 , 1.7457983, 2.535425 ],\n",
       "         [0.9988013, 1.7282913, 2.5179958],\n",
       "         [0.9988013, 1.7282913, 2.5179958],\n",
       "         ...,\n",
       "         [1.2042983, 1.8333333, 2.5702832],\n",
       "         [1.2042983, 1.8333333, 2.5702832],\n",
       "         [1.2042983, 1.8333333, 2.5702832]],\n",
       "\n",
       "        [[1.015926 , 1.7457983, 2.535425 ],\n",
       "         [0.9988013, 1.7282913, 2.5179958],\n",
       "         [0.9988013, 1.7282913, 2.5179958],\n",
       "         ...,\n",
       "         [1.2042983, 1.8333333, 2.5702832],\n",
       "         [1.2042983, 1.8333333, 2.5702832],\n",
       "         [1.2042983, 1.8333333, 2.5702832]],\n",
       "\n",
       "        ...,\n",
       "\n",
       "        [[1.6837914, 2.2009804, 2.6051416],\n",
       "         [1.7180408, 2.2009804, 2.622571 ],\n",
       "         [1.7180408, 2.2009804, 2.622571 ],\n",
       "         ...,\n",
       "         [2.1632845, 2.3585434, 2.6051416],\n",
       "         [2.1632845, 2.3585434, 2.6051416],\n",
       "         [2.1632845, 2.3585434, 2.6051416]],\n",
       "\n",
       "        [[1.6837914, 2.2009804, 2.6051416],\n",
       "         [1.7009162, 2.1834733, 2.6051416],\n",
       "         [1.7180408, 2.2009804, 2.622571 ],\n",
       "         ...,\n",
       "         [2.1632845, 2.3585434, 2.6051416],\n",
       "         [2.1632845, 2.3585434, 2.6051416],\n",
       "         [2.1632845, 2.3585434, 2.6051416]],\n",
       "\n",
       "        [[1.6837914, 2.2009804, 2.6051416],\n",
       "         [1.7009162, 2.1834733, 2.6051416],\n",
       "         [1.7180408, 2.2009804, 2.622571 ],\n",
       "         ...,\n",
       "         [2.1632845, 2.3585434, 2.6051416],\n",
       "         [2.1632845, 2.3585434, 2.6051416],\n",
       "         [2.1632845, 2.3585434, 2.6051416]]]], dtype=float32)"
      ]
     },
     "execution_count": 7,
     "metadata": {},
     "output_type": "execute_result"
    }
   ],
   "source": [
    "cat_img = np.expand_dims(cat_img, axis=0)\n",
    "cat_img = tf.keras.applications.densenet.preprocess_input(cat_img)\n",
    "cat_img"
   ]
  },
  {
   "cell_type": "code",
   "execution_count": 8,
   "id": "70b1b569-2958-406b-a154-9909317632a5",
   "metadata": {
    "tags": []
   },
   "outputs": [
    {
     "name": "stderr",
     "output_type": "stream",
     "text": [
      "2023-04-03 23:54:54.522050: W tensorflow/core/platform/profile_utils/cpu_utils.cc:128] Failed to get CPU frequency: 0 Hz\n"
     ]
    },
    {
     "name": "stdout",
     "output_type": "stream",
     "text": [
      "1/1 [==============================] - 2s 2s/step\n"
     ]
    }
   ],
   "source": [
    "pred = densenet.predict(cat_img)"
   ]
  },
  {
   "cell_type": "code",
   "execution_count": 9,
   "id": "dcc5892b-b139-48c9-9475-f31a0d28f0fe",
   "metadata": {
    "tags": []
   },
   "outputs": [
    {
     "data": {
      "text/plain": [
       "[[('n02124075', 'Egyptian_cat', 0.1692347),\n",
       "  ('n01882714', 'koala', 0.14802781),\n",
       "  ('n01883070', 'wombat', 0.11369825),\n",
       "  ('n02108915', 'French_bulldog', 0.109237164),\n",
       "  ('n02125311', 'cougar', 0.045628116)]]"
      ]
     },
     "execution_count": 9,
     "metadata": {},
     "output_type": "execute_result"
    }
   ],
   "source": [
    "tf.keras.applications.densenet.decode_predictions(pred)"
   ]
  },
  {
   "cell_type": "raw",
   "id": "1e780807-10c2-4a36-9d5e-b6534c2264e1",
   "metadata": {},
   "source": [
    "task 1, answer = Egyptian_cat"
   ]
  },
  {
   "cell_type": "code",
   "execution_count": 10,
   "id": "0ca8208e-6be4-4160-a137-2e6de63426f0",
   "metadata": {
    "tags": []
   },
   "outputs": [],
   "source": [
    "for layer in densenet.layers:\n",
    "    layer.trainable = False\n",
    "    \n",
    "for layer in densenet.layers[-10:]:\n",
    "    layer.trainable = True\n",
    "\n",
    "densenet.layers[-1].activation = tf.keras.activations.relu"
   ]
  },
  {
   "cell_type": "code",
   "execution_count": 11,
   "id": "4559893d-f657-4a70-877f-649c22a51354",
   "metadata": {
    "tags": []
   },
   "outputs": [],
   "source": [
    "model_cats = tf.keras.models.Sequential([\n",
    "    densenet,\n",
    "    tf.keras.layers.Dense(1, activation='sigmoid')\n",
    "])"
   ]
  },
  {
   "cell_type": "code",
   "execution_count": 12,
   "id": "c992734d-328b-40f6-87bd-6e10cb20bbdd",
   "metadata": {
    "tags": []
   },
   "outputs": [
    {
     "name": "stdout",
     "output_type": "stream",
     "text": [
      "Model: \"sequential\"\n",
      "_________________________________________________________________\n",
      " Layer (type)                Output Shape              Param #   \n",
      "=================================================================\n",
      " densenet201 (Functional)    (None, 1000)              20242984  \n",
      "                                                                 \n",
      " dense (Dense)               (None, 1)                 1001      \n",
      "                                                                 \n",
      "=================================================================\n",
      "Total params: 20,243,985\n",
      "Trainable params: 2,204,625\n",
      "Non-trainable params: 18,039,360\n",
      "_________________________________________________________________\n"
     ]
    }
   ],
   "source": [
    "model_cats.summary()"
   ]
  },
  {
   "cell_type": "raw",
   "id": "0b03eb9f-26d5-45d3-b62d-5baa0f5ec66f",
   "metadata": {},
   "source": [
    "task 2, answer = 2204625"
   ]
  },
  {
   "cell_type": "code",
   "execution_count": 13,
   "id": "76249d9c-760c-435a-a9a2-cae7a7f043a1",
   "metadata": {
    "tags": []
   },
   "outputs": [],
   "source": [
    "recall = tf.keras.metrics.Recall()\n",
    "precision = tf.keras.metrics.Precision()\n",
    "\n",
    "def f1_mettrics(y_true, y_pred):\n",
    "    prec = precision(y_true, y_pred)\n",
    "    rec = recall(y_true, y_pred)\n",
    "    return 2 * ((prec * rec)/(prec + rec + 1e-7))"
   ]
  },
  {
   "cell_type": "code",
   "execution_count": 27,
   "id": "9654567e-3184-49db-b82f-913ef608b071",
   "metadata": {
    "tags": []
   },
   "outputs": [],
   "source": [
    "model_cats.compile(\n",
    "    optimizer=tf.keras.optimizers.Adam(),\n",
    "    loss=tf.keras.losses.binary_crossentropy,\n",
    "    metrics=[f1_mettrics]\n",
    ")"
   ]
  },
  {
   "cell_type": "code",
   "execution_count": 15,
   "id": "788c1391-f725-4585-809a-2501c432cdcc",
   "metadata": {
    "tags": []
   },
   "outputs": [],
   "source": [
    "def preprocess_image(file):\n",
    "    img = tf.keras.preprocessing.image.load_img(file, target_size=(224,224))\n",
    "    img = tf.keras.preprocessing.image.img_to_array(img)\n",
    "    img = tf.keras.applications.densenet.preprocess_input(img)\n",
    "    return img"
   ]
  },
  {
   "cell_type": "code",
   "execution_count": 16,
   "id": "500f6666-6fb7-4d63-a4e4-962c888dce3d",
   "metadata": {
    "tags": []
   },
   "outputs": [],
   "source": [
    "cats = [(preprocess_image('pics/cats/'+file), 1) for file in os.listdir('pics/cats')]\n",
    "        \n",
    "nocats = [(preprocess_image('pics/nocats/'+file), 0) for file in os.listdir('pics/nocats')]"
   ]
  },
  {
   "cell_type": "code",
   "execution_count": 17,
   "id": "1787d2d5-9b9f-4863-a0dc-8de405c955b2",
   "metadata": {
    "tags": []
   },
   "outputs": [],
   "source": [
    "all_pics = cats + nocats"
   ]
  },
  {
   "cell_type": "code",
   "execution_count": 18,
   "id": "3ce1bf1e-8ec0-4576-8873-25c86136af5b",
   "metadata": {
    "tags": []
   },
   "outputs": [],
   "source": [
    "random.shuffle(all_pics)"
   ]
  },
  {
   "cell_type": "code",
   "execution_count": 19,
   "id": "49836bb5-ddba-4546-aafd-974c75263c35",
   "metadata": {
    "tags": []
   },
   "outputs": [],
   "source": [
    "x = np.array([a[0] for a in all_pics])\n",
    "y = np.array([a[1] for a in all_pics])"
   ]
  },
  {
   "cell_type": "code",
   "execution_count": 20,
   "id": "bf737649-3b63-43c2-a9ef-147452f54cf8",
   "metadata": {
    "tags": []
   },
   "outputs": [],
   "source": [
    "def train_val_test(x, val_frac=.15, test_frac=.15):\n",
    "    x_train = x[:round((1-val_frac-test_frac) * len(x))]\n",
    "    x_val = x[round((1-val_frac-test_frac)*len(x)):round((1-test_frac)*len(x))]\n",
    "    x_test = x[round((1-test_frac) * len(x)):]\n",
    "    \n",
    "    return x_train, x_val, x_test\n",
    "\n",
    "x_train, x_val, x_test = train_val_test(x)\n",
    "y_train, y_val, y_test = train_val_test(y)"
   ]
  },
  {
   "cell_type": "code",
   "execution_count": 21,
   "id": "2fad585a-e1ff-4466-bddd-8dbbf5dac237",
   "metadata": {
    "tags": []
   },
   "outputs": [
    {
     "data": {
      "text/plain": [
       "((321, 224, 224, 3), (68, 224, 224, 3), (69, 224, 224, 3))"
      ]
     },
     "execution_count": 21,
     "metadata": {},
     "output_type": "execute_result"
    }
   ],
   "source": [
    "x_train.shape, x_val.shape, x_test.shape"
   ]
  },
  {
   "cell_type": "code",
   "execution_count": 22,
   "id": "b8a65d93-5bbd-46cb-8c41-66a0af61d303",
   "metadata": {
    "tags": []
   },
   "outputs": [
    {
     "data": {
      "text/plain": [
       "((321,), (68,), (69,))"
      ]
     },
     "execution_count": 22,
     "metadata": {},
     "output_type": "execute_result"
    }
   ],
   "source": [
    "y_train.shape, y_val.shape, y_test.shape"
   ]
  },
  {
   "cell_type": "code",
   "execution_count": 26,
   "id": "236cd8a3-e7c5-491a-be93-03385e85f601",
   "metadata": {
    "tags": []
   },
   "outputs": [
    {
     "name": "stdout",
     "output_type": "stream",
     "text": [
      "Epoch 1/50\n"
     ]
    },
    {
     "ename": "ValueError",
     "evalue": "in user code:\n\n    File \"/Users/evgenijgrinev/.pyenv/versions/3.10.10/lib/python3.10/site-packages/keras/engine/training.py\", line 1051, in train_function  *\n        return step_function(self, iterator)\n    File \"/Users/evgenijgrinev/.pyenv/versions/3.10.10/lib/python3.10/site-packages/keras/engine/training.py\", line 1040, in step_function  **\n        outputs = model.distribute_strategy.run(run_step, args=(data,))\n    File \"/Users/evgenijgrinev/.pyenv/versions/3.10.10/lib/python3.10/site-packages/keras/engine/training.py\", line 1030, in run_step  **\n        outputs = model.train_step(data)\n    File \"/Users/evgenijgrinev/.pyenv/versions/3.10.10/lib/python3.10/site-packages/keras/engine/training.py\", line 891, in train_step\n        self._validate_target_and_loss(y, loss)\n    File \"/Users/evgenijgrinev/.pyenv/versions/3.10.10/lib/python3.10/site-packages/keras/engine/training.py\", line 857, in _validate_target_and_loss\n        raise ValueError(\n\n    ValueError: No loss found. You may have forgotten to provide a `loss` argument in the `compile()` method.\n",
     "output_type": "error",
     "traceback": [
      "\u001b[0;31m---------------------------------------------------------------------------\u001b[0m",
      "\u001b[0;31mValueError\u001b[0m                                Traceback (most recent call last)",
      "Cell \u001b[0;32mIn[26], line 1\u001b[0m\n\u001b[0;32m----> 1\u001b[0m \u001b[43mmodel_cats\u001b[49m\u001b[38;5;241;43m.\u001b[39;49m\u001b[43mfit\u001b[49m\u001b[43m(\u001b[49m\n\u001b[1;32m      2\u001b[0m \u001b[43m    \u001b[49m\u001b[43mx_train\u001b[49m\u001b[43m,\u001b[49m\u001b[43m \u001b[49m\u001b[43my_train\u001b[49m\u001b[43m,\u001b[49m\n\u001b[1;32m      3\u001b[0m \u001b[43m    \u001b[49m\u001b[43mvalidation_data\u001b[49m\u001b[38;5;241;43m=\u001b[39;49m\u001b[43m(\u001b[49m\u001b[43mx_val\u001b[49m\u001b[43m,\u001b[49m\u001b[43m \u001b[49m\u001b[43my_val\u001b[49m\u001b[43m)\u001b[49m\u001b[43m,\u001b[49m\n\u001b[1;32m      4\u001b[0m \u001b[43m    \u001b[49m\u001b[43mbatch_size\u001b[49m\u001b[38;5;241;43m=\u001b[39;49m\u001b[38;5;241;43m16\u001b[39;49m\u001b[43m,\u001b[49m\n\u001b[1;32m      5\u001b[0m \u001b[43m    \u001b[49m\u001b[43mepochs\u001b[49m\u001b[38;5;241;43m=\u001b[39;49m\u001b[38;5;241;43m50\u001b[39;49m\n\u001b[1;32m      6\u001b[0m \u001b[43m)\u001b[49m\n",
      "File \u001b[0;32m~/.pyenv/versions/3.10.10/lib/python3.10/site-packages/keras/utils/traceback_utils.py:67\u001b[0m, in \u001b[0;36mfilter_traceback.<locals>.error_handler\u001b[0;34m(*args, **kwargs)\u001b[0m\n\u001b[1;32m     65\u001b[0m \u001b[38;5;28;01mexcept\u001b[39;00m \u001b[38;5;167;01mException\u001b[39;00m \u001b[38;5;28;01mas\u001b[39;00m e:  \u001b[38;5;66;03m# pylint: disable=broad-except\u001b[39;00m\n\u001b[1;32m     66\u001b[0m   filtered_tb \u001b[38;5;241m=\u001b[39m _process_traceback_frames(e\u001b[38;5;241m.\u001b[39m__traceback__)\n\u001b[0;32m---> 67\u001b[0m   \u001b[38;5;28;01mraise\u001b[39;00m e\u001b[38;5;241m.\u001b[39mwith_traceback(filtered_tb) \u001b[38;5;28;01mfrom\u001b[39;00m \u001b[38;5;28mNone\u001b[39m\n\u001b[1;32m     68\u001b[0m \u001b[38;5;28;01mfinally\u001b[39;00m:\n\u001b[1;32m     69\u001b[0m   \u001b[38;5;28;01mdel\u001b[39;00m filtered_tb\n",
      "File \u001b[0;32m/var/folders/xs/2vggnzy5647cbgyx17jmsdm40000gn/T/__autograph_generated_filexq5t6b71.py:15\u001b[0m, in \u001b[0;36mouter_factory.<locals>.inner_factory.<locals>.tf__train_function\u001b[0;34m(iterator)\u001b[0m\n\u001b[1;32m     13\u001b[0m \u001b[38;5;28;01mtry\u001b[39;00m:\n\u001b[1;32m     14\u001b[0m     do_return \u001b[38;5;241m=\u001b[39m \u001b[38;5;28;01mTrue\u001b[39;00m\n\u001b[0;32m---> 15\u001b[0m     retval_ \u001b[38;5;241m=\u001b[39m ag__\u001b[38;5;241m.\u001b[39mconverted_call(ag__\u001b[38;5;241m.\u001b[39mld(step_function), (ag__\u001b[38;5;241m.\u001b[39mld(\u001b[38;5;28mself\u001b[39m), ag__\u001b[38;5;241m.\u001b[39mld(iterator)), \u001b[38;5;28;01mNone\u001b[39;00m, fscope)\n\u001b[1;32m     16\u001b[0m \u001b[38;5;28;01mexcept\u001b[39;00m:\n\u001b[1;32m     17\u001b[0m     do_return \u001b[38;5;241m=\u001b[39m \u001b[38;5;28;01mFalse\u001b[39;00m\n",
      "\u001b[0;31mValueError\u001b[0m: in user code:\n\n    File \"/Users/evgenijgrinev/.pyenv/versions/3.10.10/lib/python3.10/site-packages/keras/engine/training.py\", line 1051, in train_function  *\n        return step_function(self, iterator)\n    File \"/Users/evgenijgrinev/.pyenv/versions/3.10.10/lib/python3.10/site-packages/keras/engine/training.py\", line 1040, in step_function  **\n        outputs = model.distribute_strategy.run(run_step, args=(data,))\n    File \"/Users/evgenijgrinev/.pyenv/versions/3.10.10/lib/python3.10/site-packages/keras/engine/training.py\", line 1030, in run_step  **\n        outputs = model.train_step(data)\n    File \"/Users/evgenijgrinev/.pyenv/versions/3.10.10/lib/python3.10/site-packages/keras/engine/training.py\", line 891, in train_step\n        self._validate_target_and_loss(y, loss)\n    File \"/Users/evgenijgrinev/.pyenv/versions/3.10.10/lib/python3.10/site-packages/keras/engine/training.py\", line 857, in _validate_target_and_loss\n        raise ValueError(\n\n    ValueError: No loss found. You may have forgotten to provide a `loss` argument in the `compile()` method.\n"
     ]
    }
   ],
   "source": [
    "model_cats.fit(\n",
    "    x_train, y_train,\n",
    "    validation_data=(x_val, y_val),\n",
    "    batch_size=16,\n",
    "    epochs=50\n",
    ")"
   ]
  },
  {
   "cell_type": "code",
   "execution_count": 24,
   "id": "dda233fc-1561-4d5a-a03f-53602238ecfe",
   "metadata": {
    "tags": []
   },
   "outputs": [
    {
     "data": {
      "text/plain": [
       "1.0"
      ]
     },
     "execution_count": 24,
     "metadata": {},
     "output_type": "execute_result"
    }
   ],
   "source": [
    "round(0.9675,1)"
   ]
  },
  {
   "cell_type": "raw",
   "id": "df178810-40d4-4b2b-9982-c6eef1e6663d",
   "metadata": {},
   "source": [
    "task 3, answer 0.9"
   ]
  }
 ],
 "metadata": {
  "kernelspec": {
   "display_name": "Python 3 (ipykernel)",
   "language": "python",
   "name": "python3"
  },
  "language_info": {
   "codemirror_mode": {
    "name": "ipython",
    "version": 3
   },
   "file_extension": ".py",
   "mimetype": "text/x-python",
   "name": "python",
   "nbconvert_exporter": "python",
   "pygments_lexer": "ipython3",
   "version": "3.10.10"
  }
 },
 "nbformat": 4,
 "nbformat_minor": 5
}
