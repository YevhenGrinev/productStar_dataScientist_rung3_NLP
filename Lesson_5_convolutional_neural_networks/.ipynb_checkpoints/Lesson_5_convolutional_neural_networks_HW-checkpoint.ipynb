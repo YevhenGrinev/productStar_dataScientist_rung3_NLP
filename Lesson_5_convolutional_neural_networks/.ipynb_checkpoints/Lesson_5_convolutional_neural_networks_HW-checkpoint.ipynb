{
 "cells": [
  {
   "cell_type": "code",
   "execution_count": 1,
   "id": "6323233a-4806-4a5b-a068-da8798b456c0",
   "metadata": {
    "tags": []
   },
   "outputs": [],
   "source": [
    "import numpy as np\n",
    "import tensorflow as tf\n",
    "import random \n",
    "import os\n",
    "\n",
    "np.random.seed(17)\n",
    "tf.random.set_seed(17)\n",
    "random.seed(17)"
   ]
  },
  {
   "cell_type": "code",
   "execution_count": 2,
   "id": "e1291078-3b7a-4d76-904d-0c395946e3da",
   "metadata": {},
   "outputs": [],
   "source": [
    "densenet = tf.keras.applications.densenet.DenseNet201()"
   ]
  },
  {
   "cell_type": "code",
   "execution_count": 3,
   "id": "2d9027b6-89d5-420c-b9c4-5ef74d888c3f",
   "metadata": {},
   "outputs": [],
   "source": [
    "cat_img = tf.keras.preprocessing.image.load_img('cat.jpg', target_size=(224,224))"
   ]
  },
  {
   "cell_type": "code",
   "execution_count": 4,
   "id": "521a1991-c715-44c9-b213-3b574e621112",
   "metadata": {
    "tags": []
   },
   "outputs": [],
   "source": [
    "cat_img.show()"
   ]
  },
  {
   "cell_type": "code",
   "execution_count": 5,
   "id": "4a1a3d52-dfb0-4ca9-b2a3-a6c58d1fcc08",
   "metadata": {
    "tags": []
   },
   "outputs": [],
   "source": [
    "cat_img = tf.keras.preprocessing.image.img_to_array(cat_img)"
   ]
  },
  {
   "cell_type": "code",
   "execution_count": 6,
   "id": "5d96e5b8-ef7d-445e-98b6-bc8316fe546c",
   "metadata": {
    "tags": []
   },
   "outputs": [
    {
     "data": {
      "text/plain": [
       "(224, 224, 3)"
      ]
     },
     "execution_count": 6,
     "metadata": {},
     "output_type": "execute_result"
    }
   ],
   "source": [
    "cat_img.shape"
   ]
  },
  {
   "cell_type": "code",
   "execution_count": 7,
   "id": "3cac4c64-143a-4f7b-906b-80983aa299b3",
   "metadata": {
    "tags": []
   },
   "outputs": [
    {
     "data": {
      "text/plain": [
       "array([[[[1.0330508, 1.7633053, 2.5528543],\n",
       "         [0.9988013, 1.7282913, 2.5179958],\n",
       "         [0.9988013, 1.7282913, 2.5179958],\n",
       "         ...,\n",
       "         [1.2042983, 1.8333333, 2.5702832],\n",
       "         [1.2042983, 1.8333333, 2.5702832],\n",
       "         [1.2042983, 1.8333333, 2.5702832]],\n",
       "\n",
       "        [[1.015926 , 1.7457983, 2.535425 ],\n",
       "         [0.9988013, 1.7282913, 2.5179958],\n",
       "         [0.9988013, 1.7282913, 2.5179958],\n",
       "         ...,\n",
       "         [1.2042983, 1.8333333, 2.5702832],\n",
       "         [1.2042983, 1.8333333, 2.5702832],\n",
       "         [1.2042983, 1.8333333, 2.5702832]],\n",
       "\n",
       "        [[1.015926 , 1.7457983, 2.535425 ],\n",
       "         [0.9988013, 1.7282913, 2.5179958],\n",
       "         [0.9988013, 1.7282913, 2.5179958],\n",
       "         ...,\n",
       "         [1.2042983, 1.8333333, 2.5702832],\n",
       "         [1.2042983, 1.8333333, 2.5702832],\n",
       "         [1.2042983, 1.8333333, 2.5702832]],\n",
       "\n",
       "        ...,\n",
       "\n",
       "        [[1.6837914, 2.2009804, 2.6051416],\n",
       "         [1.7180408, 2.2009804, 2.622571 ],\n",
       "         [1.7180408, 2.2009804, 2.622571 ],\n",
       "         ...,\n",
       "         [2.1632845, 2.3585434, 2.6051416],\n",
       "         [2.1632845, 2.3585434, 2.6051416],\n",
       "         [2.1632845, 2.3585434, 2.6051416]],\n",
       "\n",
       "        [[1.6837914, 2.2009804, 2.6051416],\n",
       "         [1.7009162, 2.1834733, 2.6051416],\n",
       "         [1.7180408, 2.2009804, 2.622571 ],\n",
       "         ...,\n",
       "         [2.1632845, 2.3585434, 2.6051416],\n",
       "         [2.1632845, 2.3585434, 2.6051416],\n",
       "         [2.1632845, 2.3585434, 2.6051416]],\n",
       "\n",
       "        [[1.6837914, 2.2009804, 2.6051416],\n",
       "         [1.7009162, 2.1834733, 2.6051416],\n",
       "         [1.7180408, 2.2009804, 2.622571 ],\n",
       "         ...,\n",
       "         [2.1632845, 2.3585434, 2.6051416],\n",
       "         [2.1632845, 2.3585434, 2.6051416],\n",
       "         [2.1632845, 2.3585434, 2.6051416]]]], dtype=float32)"
      ]
     },
     "execution_count": 7,
     "metadata": {},
     "output_type": "execute_result"
    }
   ],
   "source": [
    "cat_img = np.expand_dims(cat_img, axis=0)\n",
    "cat_img = tf.keras.applications.densenet.preprocess_input(cat_img)\n",
    "cat_img"
   ]
  },
  {
   "cell_type": "code",
   "execution_count": 8,
   "id": "70b1b569-2958-406b-a154-9909317632a5",
   "metadata": {
    "tags": []
   },
   "outputs": [
    {
     "name": "stderr",
     "output_type": "stream",
     "text": [
      "2023-04-03 23:54:54.522050: W tensorflow/core/platform/profile_utils/cpu_utils.cc:128] Failed to get CPU frequency: 0 Hz\n"
     ]
    },
    {
     "name": "stdout",
     "output_type": "stream",
     "text": [
      "1/1 [==============================] - 2s 2s/step\n"
     ]
    }
   ],
   "source": [
    "pred = densenet.predict(cat_img)"
   ]
  },
  {
   "cell_type": "code",
   "execution_count": 9,
   "id": "dcc5892b-b139-48c9-9475-f31a0d28f0fe",
   "metadata": {
    "tags": []
   },
   "outputs": [
    {
     "data": {
      "text/plain": [
       "[[('n02124075', 'Egyptian_cat', 0.1692347),\n",
       "  ('n01882714', 'koala', 0.14802781),\n",
       "  ('n01883070', 'wombat', 0.11369825),\n",
       "  ('n02108915', 'French_bulldog', 0.109237164),\n",
       "  ('n02125311', 'cougar', 0.045628116)]]"
      ]
     },
     "execution_count": 9,
     "metadata": {},
     "output_type": "execute_result"
    }
   ],
   "source": [
    "tf.keras.applications.densenet.decode_predictions(pred)"
   ]
  },
  {
   "cell_type": "raw",
   "id": "1e780807-10c2-4a36-9d5e-b6534c2264e1",
   "metadata": {},
   "source": [
    "task 1, answer = Egyptian_cat"
   ]
  },
  {
   "cell_type": "code",
   "execution_count": 10,
   "id": "0ca8208e-6be4-4160-a137-2e6de63426f0",
   "metadata": {
    "tags": []
   },
   "outputs": [],
   "source": [
    "for layer in densenet.layers:\n",
    "    layer.trainable = False\n",
    "    \n",
    "for layer in densenet.layers[-10:]:\n",
    "    layer.trainable = True\n",
    "\n",
    "densenet.layers[-1].activation = tf.keras.activations.relu"
   ]
  },
  {
   "cell_type": "code",
   "execution_count": 11,
   "id": "4559893d-f657-4a70-877f-649c22a51354",
   "metadata": {
    "tags": []
   },
   "outputs": [],
   "source": [
    "model_cats = tf.keras.models.Sequential([\n",
    "    densenet,\n",
    "    tf.keras.layers.Dense(1, activation='sigmoid')\n",
    "])"
   ]
  },
  {
   "cell_type": "code",
   "execution_count": 12,
   "id": "c992734d-328b-40f6-87bd-6e10cb20bbdd",
   "metadata": {
    "tags": []
   },
   "outputs": [
    {
     "name": "stdout",
     "output_type": "stream",
     "text": [
      "Model: \"sequential\"\n",
      "_________________________________________________________________\n",
      " Layer (type)                Output Shape              Param #   \n",
      "=================================================================\n",
      " densenet201 (Functional)    (None, 1000)              20242984  \n",
      "                                                                 \n",
      " dense (Dense)               (None, 1)                 1001      \n",
      "                                                                 \n",
      "=================================================================\n",
      "Total params: 20,243,985\n",
      "Trainable params: 2,204,625\n",
      "Non-trainable params: 18,039,360\n",
      "_________________________________________________________________\n"
     ]
    }
   ],
   "source": [
    "model_cats.summary()"
   ]
  },
  {
   "cell_type": "raw",
   "id": "0b03eb9f-26d5-45d3-b62d-5baa0f5ec66f",
   "metadata": {},
   "source": [
    "task 2, answer = 2204625"
   ]
  },
  {
   "cell_type": "code",
   "execution_count": 13,
   "id": "76249d9c-760c-435a-a9a2-cae7a7f043a1",
   "metadata": {
    "tags": []
   },
   "outputs": [],
   "source": [
    "recall = tf.keras.metrics.Recall()\n",
    "precision = tf.keras.metrics.Precision()\n",
    "\n",
    "def f1_mettrics(y_true, y_pred):\n",
    "    prec = precision(y_true, y_pred)\n",
    "    rec = recall(y_true, y_pred)\n",
    "    return 2 * ((prec * rec)/(prec + rec + 1e-7))"
   ]
  },
  {
   "cell_type": "code",
   "execution_count": 14,
   "id": "9654567e-3184-49db-b82f-913ef608b071",
   "metadata": {
    "tags": []
   },
   "outputs": [],
   "source": [
    "model_cats.compile(\n",
    "    optimizer=tf.keras.optimizers.Adam(),\n",
    "    loss=tf.keras.losses.binary_crossentropy,\n",
    "    metrics=[f1_mettrics]\n",
    ")"
   ]
  },
  {
   "cell_type": "code",
   "execution_count": 15,
   "id": "788c1391-f725-4585-809a-2501c432cdcc",
   "metadata": {
    "tags": []
   },
   "outputs": [],
   "source": [
    "def preprocess_image(file):\n",
    "    img = tf.keras.preprocessing.image.load_img(file, target_size=(224,224))\n",
    "    img = tf.keras.preprocessing.image.img_to_array(img)\n",
    "    img = tf.keras.applications.densenet.preprocess_input(img)\n",
    "    return img"
   ]
  },
  {
   "cell_type": "code",
   "execution_count": 16,
   "id": "500f6666-6fb7-4d63-a4e4-962c888dce3d",
   "metadata": {
    "tags": []
   },
   "outputs": [],
   "source": [
    "cats = [(preprocess_image('pics/cats/'+file), 1) for file in os.listdir('pics/cats')]\n",
    "        \n",
    "nocats = [(preprocess_image('pics/nocats/'+file), 0) for file in os.listdir('pics/nocats')]"
   ]
  },
  {
   "cell_type": "code",
   "execution_count": 17,
   "id": "1787d2d5-9b9f-4863-a0dc-8de405c955b2",
   "metadata": {
    "tags": []
   },
   "outputs": [],
   "source": [
    "all_pics = cats + nocats"
   ]
  },
  {
   "cell_type": "code",
   "execution_count": 18,
   "id": "3ce1bf1e-8ec0-4576-8873-25c86136af5b",
   "metadata": {
    "tags": []
   },
   "outputs": [],
   "source": [
    "random.shuffle(all_pics)"
   ]
  },
  {
   "cell_type": "code",
   "execution_count": 19,
   "id": "49836bb5-ddba-4546-aafd-974c75263c35",
   "metadata": {
    "tags": []
   },
   "outputs": [],
   "source": [
    "x = np.array([a[0] for a in all_pics])\n",
    "y = np.array([a[1] for a in all_pics])"
   ]
  },
  {
   "cell_type": "code",
   "execution_count": 20,
   "id": "bf737649-3b63-43c2-a9ef-147452f54cf8",
   "metadata": {
    "tags": []
   },
   "outputs": [],
   "source": [
    "def train_val_test(x, val_frac=.15, test_frac=.15):\n",
    "    x_train = x[:round((1-val_frac-test_frac) * len(x))]\n",
    "    x_val = x[round((1-val_frac-test_frac)*len(x)):round((1-test_frac)*len(x))]\n",
    "    x_test = x[round((1-test_frac) * len(x)):]\n",
    "    \n",
    "    return x_train, x_val, x_test\n",
    "\n",
    "x_train, x_val, x_test = train_val_test(x)\n",
    "y_train, y_val, y_test = train_val_test(y)"
   ]
  },
  {
   "cell_type": "code",
   "execution_count": 21,
   "id": "2fad585a-e1ff-4466-bddd-8dbbf5dac237",
   "metadata": {
    "tags": []
   },
   "outputs": [
    {
     "data": {
      "text/plain": [
       "((321, 224, 224, 3), (68, 224, 224, 3), (69, 224, 224, 3))"
      ]
     },
     "execution_count": 21,
     "metadata": {},
     "output_type": "execute_result"
    }
   ],
   "source": [
    "x_train.shape, x_val.shape, x_test.shape"
   ]
  },
  {
   "cell_type": "code",
   "execution_count": 22,
   "id": "b8a65d93-5bbd-46cb-8c41-66a0af61d303",
   "metadata": {
    "tags": []
   },
   "outputs": [
    {
     "data": {
      "text/plain": [
       "((321,), (68,), (69,))"
      ]
     },
     "execution_count": 22,
     "metadata": {},
     "output_type": "execute_result"
    }
   ],
   "source": [
    "y_train.shape, y_val.shape, y_test.shape"
   ]
  },
  {
   "cell_type": "code",
   "execution_count": 23,
   "id": "236cd8a3-e7c5-491a-be93-03385e85f601",
   "metadata": {
    "tags": []
   },
   "outputs": [
    {
     "name": "stdout",
     "output_type": "stream",
     "text": [
      "Epoch 1/50\n",
      "21/21 [==============================] - 44s 2s/step - loss: 0.4324 - f1_mettrics: 0.5985 - val_loss: 0.3059 - val_f1_mettrics: 0.7717\n",
      "Epoch 2/50\n",
      "21/21 [==============================] - 32s 2s/step - loss: 0.1030 - f1_mettrics: 0.8245 - val_loss: 0.1719 - val_f1_mettrics: 0.8648\n",
      "Epoch 3/50\n",
      "21/21 [==============================] - 34s 2s/step - loss: 0.4012 - f1_mettrics: 0.8628 - val_loss: 0.2024 - val_f1_mettrics: 0.8733\n",
      "Epoch 4/50\n",
      "21/21 [==============================] - 31s 2s/step - loss: 0.0349 - f1_mettrics: 0.8874 - val_loss: 0.2828 - val_f1_mettrics: 0.8960\n",
      "Epoch 5/50\n",
      "21/21 [==============================] - 32s 2s/step - loss: 0.0081 - f1_mettrics: 0.9072 - val_loss: 0.2650 - val_f1_mettrics: 0.9144\n",
      "Epoch 6/50\n",
      "21/21 [==============================] - 32s 2s/step - loss: 0.0260 - f1_mettrics: 0.9216 - val_loss: 0.2526 - val_f1_mettrics: 0.9263\n",
      "Epoch 7/50\n",
      "21/21 [==============================] - 32s 2s/step - loss: 0.0199 - f1_mettrics: 0.9321 - val_loss: 0.2318 - val_f1_mettrics: 0.9359\n",
      "Epoch 8/50\n",
      "21/21 [==============================] - 32s 2s/step - loss: 0.0243 - f1_mettrics: 0.9402 - val_loss: 0.1763 - val_f1_mettrics: 0.9428\n",
      "Epoch 9/50\n",
      "21/21 [==============================] - 32s 2s/step - loss: 0.0178 - f1_mettrics: 0.9458 - val_loss: 0.4929 - val_f1_mettrics: 0.9450\n",
      "Epoch 10/50\n",
      "21/21 [==============================] - 32s 2s/step - loss: 0.6841 - f1_mettrics: 0.9377 - val_loss: 0.3975 - val_f1_mettrics: 0.9344\n",
      "Epoch 11/50\n",
      "21/21 [==============================] - 32s 2s/step - loss: 0.0344 - f1_mettrics: 0.9364 - val_loss: 0.2765 - val_f1_mettrics: 0.9381\n",
      "Epoch 12/50\n",
      "21/21 [==============================] - 32s 2s/step - loss: 0.2651 - f1_mettrics: 0.9364 - val_loss: 1.5283 - val_f1_mettrics: 0.9348\n",
      "Epoch 13/50\n",
      "21/21 [==============================] - 32s 2s/step - loss: 0.1016 - f1_mettrics: 0.9354 - val_loss: 0.3077 - val_f1_mettrics: 0.9367\n",
      "Epoch 14/50\n",
      "21/21 [==============================] - 32s 2s/step - loss: 0.1394 - f1_mettrics: 0.9377 - val_loss: 0.3396 - val_f1_mettrics: 0.9381\n",
      "Epoch 15/50\n",
      "21/21 [==============================] - 33s 2s/step - loss: 0.0061 - f1_mettrics: 0.9403 - val_loss: 0.2407 - val_f1_mettrics: 0.9418\n",
      "Epoch 16/50\n",
      "21/21 [==============================] - 328s 16s/step - loss: 0.0083 - f1_mettrics: 0.9435 - val_loss: 0.5255 - val_f1_mettrics: 0.9446\n",
      "Epoch 17/50\n",
      "21/21 [==============================] - 31s 1s/step - loss: 0.0060 - f1_mettrics: 0.9461 - val_loss: 0.2870 - val_f1_mettrics: 0.9472\n",
      "Epoch 18/50\n",
      "21/21 [==============================] - 31s 2s/step - loss: 0.0033 - f1_mettrics: 0.9485 - val_loss: 0.2895 - val_f1_mettrics: 0.9496\n",
      "Epoch 19/50\n",
      "21/21 [==============================] - 32s 2s/step - loss: 9.7099e-04 - f1_mettrics: 0.9509 - val_loss: 0.2784 - val_f1_mettrics: 0.9518\n",
      "Epoch 20/50\n",
      "21/21 [==============================] - 32s 2s/step - loss: 0.0257 - f1_mettrics: 0.9530 - val_loss: 0.1572 - val_f1_mettrics: 0.9538\n",
      "Epoch 21/50\n",
      "21/21 [==============================] - 32s 2s/step - loss: 0.1867 - f1_mettrics: 0.9531 - val_loss: 0.3407 - val_f1_mettrics: 0.9533\n",
      "Epoch 22/50\n",
      "21/21 [==============================] - 32s 2s/step - loss: 0.1989 - f1_mettrics: 0.9529 - val_loss: 0.2236 - val_f1_mettrics: 0.9530\n",
      "Epoch 23/50\n",
      "21/21 [==============================] - 32s 2s/step - loss: 0.0274 - f1_mettrics: 0.9539 - val_loss: 0.2456 - val_f1_mettrics: 0.9545\n",
      "Epoch 24/50\n",
      "21/21 [==============================] - 32s 2s/step - loss: 0.0032 - f1_mettrics: 0.9554 - val_loss: 0.2196 - val_f1_mettrics: 0.9561\n",
      "Epoch 25/50\n",
      "21/21 [==============================] - 33s 2s/step - loss: 0.0111 - f1_mettrics: 0.9570 - val_loss: 0.2865 - val_f1_mettrics: 0.9576\n",
      "Epoch 26/50\n",
      "21/21 [==============================] - 33s 2s/step - loss: 0.2690 - f1_mettrics: 0.9575 - val_loss: 0.2005 - val_f1_mettrics: 0.9572\n",
      "Epoch 27/50\n",
      "21/21 [==============================] - 34s 2s/step - loss: 0.5385 - f1_mettrics: 0.9556 - val_loss: 0.8439 - val_f1_mettrics: 0.9549\n",
      "Epoch 28/50\n",
      "21/21 [==============================] - 40s 2s/step - loss: 0.2083 - f1_mettrics: 0.9553 - val_loss: 0.6196 - val_f1_mettrics: 0.9550\n",
      "Epoch 29/50\n",
      "21/21 [==============================] - 36s 2s/step - loss: 0.6584 - f1_mettrics: 0.9537 - val_loss: 0.5646 - val_f1_mettrics: 0.9529\n",
      "Epoch 30/50\n",
      "21/21 [==============================] - 36s 2s/step - loss: 0.0560 - f1_mettrics: 0.9537 - val_loss: 0.3854 - val_f1_mettrics: 0.9539\n",
      "Epoch 31/50\n",
      "21/21 [==============================] - 39s 2s/step - loss: 0.0771 - f1_mettrics: 0.9545 - val_loss: 0.7238 - val_f1_mettrics: 0.9541\n",
      "Epoch 32/50\n",
      "21/21 [==============================] - 37s 2s/step - loss: 0.0541 - f1_mettrics: 0.9547 - val_loss: 0.5605 - val_f1_mettrics: 0.9549\n",
      "Epoch 33/50\n",
      "21/21 [==============================] - 34s 2s/step - loss: 0.0035 - f1_mettrics: 0.9555 - val_loss: 0.2553 - val_f1_mettrics: 0.9559\n",
      "Epoch 34/50\n",
      "21/21 [==============================] - 34s 2s/step - loss: 0.0210 - f1_mettrics: 0.9565 - val_loss: 0.3984 - val_f1_mettrics: 0.9569\n",
      "Epoch 35/50\n",
      "21/21 [==============================] - 34s 2s/step - loss: 0.0253 - f1_mettrics: 0.9574 - val_loss: 0.1701 - val_f1_mettrics: 0.9577\n",
      "Epoch 36/50\n",
      "21/21 [==============================] - 40s 2s/step - loss: 0.0025 - f1_mettrics: 0.9583 - val_loss: 0.4203 - val_f1_mettrics: 0.9587\n",
      "Epoch 37/50\n",
      "21/21 [==============================] - 40s 2s/step - loss: 0.0051 - f1_mettrics: 0.9592 - val_loss: 0.3919 - val_f1_mettrics: 0.9596\n",
      "Epoch 38/50\n",
      "21/21 [==============================] - 34s 2s/step - loss: 0.0030 - f1_mettrics: 0.9601 - val_loss: 0.3629 - val_f1_mettrics: 0.9605\n",
      "Epoch 39/50\n",
      "21/21 [==============================] - 34s 2s/step - loss: 0.0171 - f1_mettrics: 0.9609 - val_loss: 0.3156 - val_f1_mettrics: 0.9612\n",
      "Epoch 40/50\n",
      "21/21 [==============================] - 34s 2s/step - loss: 0.0171 - f1_mettrics: 0.9616 - val_loss: 0.1450 - val_f1_mettrics: 0.9617\n",
      "Epoch 41/50\n",
      "21/21 [==============================] - 35s 2s/step - loss: 8.0009e-04 - f1_mettrics: 0.9622 - val_loss: 0.2345 - val_f1_mettrics: 0.9625\n",
      "Epoch 42/50\n",
      "21/21 [==============================] - 34s 2s/step - loss: 0.0125 - f1_mettrics: 0.9630 - val_loss: 0.2405 - val_f1_mettrics: 0.9632\n",
      "Epoch 43/50\n",
      "21/21 [==============================] - 34s 2s/step - loss: 0.0131 - f1_mettrics: 0.9636 - val_loss: 0.1228 - val_f1_mettrics: 0.9638\n",
      "Epoch 44/50\n",
      "21/21 [==============================] - 35s 2s/step - loss: 0.0152 - f1_mettrics: 0.9642 - val_loss: 0.2441 - val_f1_mettrics: 0.9643\n",
      "Epoch 45/50\n",
      "21/21 [==============================] - 35s 2s/step - loss: 0.0090 - f1_mettrics: 0.9647 - val_loss: 0.1282 - val_f1_mettrics: 0.9649\n",
      "Epoch 46/50\n",
      "21/21 [==============================] - 39s 2s/step - loss: 4.8800e-04 - f1_mettrics: 0.9653 - val_loss: 0.2496 - val_f1_mettrics: 0.9656\n",
      "Epoch 47/50\n",
      "21/21 [==============================] - 34s 2s/step - loss: 3.1389e-04 - f1_mettrics: 0.9659 - val_loss: 0.2751 - val_f1_mettrics: 0.9662\n",
      "Epoch 48/50\n",
      "21/21 [==============================] - 35s 2s/step - loss: 0.0020 - f1_mettrics: 0.9665 - val_loss: 0.2597 - val_f1_mettrics: 0.9667\n",
      "Epoch 49/50\n",
      "21/21 [==============================] - 36s 2s/step - loss: 0.0013 - f1_mettrics: 0.9670 - val_loss: 0.2347 - val_f1_mettrics: 0.9673\n",
      "Epoch 50/50\n",
      "21/21 [==============================] - 36s 2s/step - loss: 0.0247 - f1_mettrics: 0.9673 - val_loss: 0.1501 - val_f1_mettrics: 0.9675\n"
     ]
    },
    {
     "data": {
      "text/plain": [
       "<keras.callbacks.History at 0x17b158f40>"
      ]
     },
     "execution_count": 23,
     "metadata": {},
     "output_type": "execute_result"
    }
   ],
   "source": [
    "model_cats.fit(\n",
    "    x_train, y_train,\n",
    "    validation_data=(x_val, y_val),\n",
    "    batch_size=16,\n",
    "    epochs=50\n",
    ")"
   ]
  },
  {
   "cell_type": "code",
   "execution_count": 24,
   "id": "dda233fc-1561-4d5a-a03f-53602238ecfe",
   "metadata": {
    "tags": []
   },
   "outputs": [
    {
     "data": {
      "text/plain": [
       "1.0"
      ]
     },
     "execution_count": 24,
     "metadata": {},
     "output_type": "execute_result"
    }
   ],
   "source": [
    "round(0.9675,1)"
   ]
  },
  {
   "cell_type": "raw",
   "id": "df178810-40d4-4b2b-9982-c6eef1e6663d",
   "metadata": {},
   "source": [
    "task 3, answer 0.9"
   ]
  }
 ],
 "metadata": {
  "kernelspec": {
   "display_name": "Python 3 (ipykernel)",
   "language": "python",
   "name": "python3"
  },
  "language_info": {
   "codemirror_mode": {
    "name": "ipython",
    "version": 3
   },
   "file_extension": ".py",
   "mimetype": "text/x-python",
   "name": "python",
   "nbconvert_exporter": "python",
   "pygments_lexer": "ipython3",
   "version": "3.10.10"
  }
 },
 "nbformat": 4,
 "nbformat_minor": 5
}
