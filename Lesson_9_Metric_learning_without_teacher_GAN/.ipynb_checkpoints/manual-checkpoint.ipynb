{
 "cells": [
  {
   "cell_type": "code",
   "execution_count": null,
   "id": "c32086dd-f53e-4fc2-82c1-b82458b72e8a",
   "metadata": {
    "tags": []
   },
   "outputs": [],
   "source": [
    "import tensorflow as tf\n",
    "import numpy as np \n",
    "\n",
    "np.random.seed(17)\n",
    "tf.random.set_seed(17)"
   ]
  },
  {
   "cell_type": "code",
   "execution_count": null,
   "id": "5bcb7566-239c-4bb5-b308-427c3b34c072",
   "metadata": {
    "tags": []
   },
   "outputs": [],
   "source": [
    "(x_train, _), (x_test, _) = tf.keras.datasets.mnist.load_data()"
   ]
  },
  {
   "cell_type": "code",
   "execution_count": null,
   "id": "841b7d10-5050-430f-a83e-2c69078db77f",
   "metadata": {
    "tags": []
   },
   "outputs": [],
   "source": [
    "x_train.shape, x_test.shape"
   ]
  },
  {
   "cell_type": "code",
   "execution_count": null,
   "id": "ea1a238c-73c3-4e62-a832-4d71cbd1d7ec",
   "metadata": {
    "tags": []
   },
   "outputs": [],
   "source": [
    "all_digits = np.concatenate([x_train, x_test])\n",
    "all_digits = all_digits.astype('float32') / 255"
   ]
  },
  {
   "cell_type": "code",
   "execution_count": null,
   "id": "c62ace30-b715-4545-a609-627f61fc72dd",
   "metadata": {
    "tags": []
   },
   "outputs": [],
   "source": [
    "import matplotlib.pyplot as plt\n",
    "\n",
    "plt.figure(figsize=(10,10))\n",
    "for i in range(25):\n",
    "    plt.subplot(5,5,i+1)\n",
    "    plt.imshow(all_digits[i], cmap=plt.cm.gray)\n",
    "plt.show()"
   ]
  },
  {
   "cell_type": "code",
   "execution_count": null,
   "id": "5cc36b09-e049-4844-a445-e60254f1041c",
   "metadata": {
    "tags": []
   },
   "outputs": [],
   "source": [
    "all_digits = np.reshape(all_digits, (-1, 28, 28, 1))\n",
    "\n",
    "dataset = tf.data.Dataset.from_tensor_slices(all_digits)\n",
    "\n",
    "batch_size = 64\n",
    "dataset = dataset.shuffle(buffer_size=1024).batch(batch_size).prefetch(32)"
   ]
  },
  {
   "cell_type": "code",
   "execution_count": null,
   "id": "5fea3cb2-ddef-49a7-bc4e-6de9c5bf0db5",
   "metadata": {
    "tags": []
   },
   "outputs": [],
   "source": [
    "discriminator = tf.keras.Sequential([\n",
    "    tf.keras.Input(shape=(28,28,1)),\n",
    "    \n",
    "    tf.keras.layers.Conv2D(64, (3, 3), strides=(1,1), padding='same'),\n",
    "    tf.keras.layers.LeakyReLU(alpha=.2),\n",
    "    \n",
    "    tf.keras.layers.Conv2D(64, (3, 3), strides=(1,1), padding='same'),\n",
    "    tf.keras.layers.LeakyReLU(alpha=.2),\n",
    "    \n",
    "    tf.keras.layers.MaxPooling2D(pool_size=(2,2)),\n",
    "    \n",
    "    tf.keras.layers.Conv2D(128, (3, 3), strides=(2,2), padding='same'),\n",
    "    tf.keras.layers.LeakyReLU(alpha=.2),\n",
    "    \n",
    "    tf.keras.layers.Conv2D(128, (3, 3), strides=(2,2), padding='same'),\n",
    "    tf.keras.layers.LeakyReLU(alpha=.2), \n",
    "    \n",
    "    tf.keras.layers.GlobalMaxPooling2D(),\n",
    "    \n",
    "    tf.keras.layers.Dense(1),\n",
    "    ], \n",
    "    name='discriminator',\n",
    ")"
   ]
  },
  {
   "cell_type": "code",
   "execution_count": null,
   "id": "96b74da6-98e1-4232-85f8-0e27b465a281",
   "metadata": {
    "tags": []
   },
   "outputs": [],
   "source": [
    "latent_dim = 128"
   ]
  },
  {
   "cell_type": "code",
   "execution_count": null,
   "id": "89445d71-79ae-4825-9096-f395458d262e",
   "metadata": {
    "tags": []
   },
   "outputs": [],
   "source": [
    "generator = tf.keras.Sequential(\n",
    "    [\n",
    "        tf.keras.Input(shape=(latent_dim)),\n",
    "\n",
    "        tf.keras.layers.Dense(7*7*128),\n",
    "        tf.keras.layers.LeakyReLU(.2),\n",
    "\n",
    "        tf.keras.layers.Reshape((7,7,128)),\n",
    "\n",
    "        tf.keras.layers.Conv2DTranspose(128, (3,3), strides=(1,1), padding='same'),\n",
    "        tf.keras.layers.LeakyReLU(alpha=.2),\n",
    "\n",
    "        tf.keras.layers.UpSampling2D(size=(2,2)),\n",
    "\n",
    "        tf.keras.layers.Conv2DTranspose(128, (4,4), strides=(2,2), padding='same'),\n",
    "        tf.keras.layers.LeakyReLU(alpha=.2),\n",
    "\n",
    "        tf.keras.layers.Conv2DTranspose(64, (3,3), strides=(1,1), padding='same'),\n",
    "        tf.keras.layers.LeakyReLU(alpha=.2),\n",
    "\n",
    "        tf.keras.layers.Conv2D(1, (7,7), padding='same', activation='sigmoid'),\n",
    "                           \n",
    "    ],\n",
    "    \n",
    "        name = 'generator',\n",
    "\n",
    ")"
   ]
  },
  {
   "cell_type": "code",
   "execution_count": null,
   "id": "3faacfb3-8474-491b-8211-38a49690e801",
   "metadata": {
    "tags": []
   },
   "outputs": [],
   "source": [
    "class GAN(tf.keras.Model):\n",
    "    \n",
    "    def __init__(self, discriminator, generator, latent_dim):\n",
    "        super(GAN, self).__init__()\n",
    "        self.discriminator = discriminator\n",
    "        self.generator = generator\n",
    "        self.latent_dim = latent_dim\n",
    "        \n",
    "    def compile(self, d_optimizer, g_optimizer, loss_fn):\n",
    "        super(GAN, self).compile()\n",
    "        self.d_optimizer = d_optimizer\n",
    "        self.g_optimizer = g_optimizer\n",
    "        self.loss_fn = loss_fn\n",
    "        \n",
    "    def train_step(self, real_images):\n",
    "        if isinstance(real_images, tuple):\n",
    "            real_images = real_images[0]\n",
    "            \n",
    "        batch_size = tf.shape(real_images)[0]\n",
    "        \n",
    "        random_latent_vectors = tf.random.normal(shape=(batch_size, self.latent_dim))\n",
    "        \n",
    "        generated_images = self.generator(random_latent_vectors)\n",
    "        \n",
    "        combined_images = tf.concat([generated_images, real_images], axis=0)\n",
    "        \n",
    "        labels = tf.concat(\n",
    "            [tf.ones((batch_size, 1)), tf.zeros((batch_size, 1))] , axis=0\n",
    "        )\n",
    "        \n",
    "        labels += 0.05 * tf.random.uniform(tf.shape(labels))\n",
    "        \n",
    "        with tf.GradientTape() as tape:\n",
    "            \n",
    "            predictions = self.discriminator(combined_images)\n",
    "            \n",
    "            d_loss = self.loss_fn(labels, predictions)\n",
    "        \n",
    "        grads = tape.gradient(d_loss, self.discriminator.trainable_weights)\n",
    "        \n",
    "        self.d_optimizer.apply_gradients(\n",
    "            zip(grads, self.discriminator.trainable_weights)\n",
    "        )\n",
    "        \n",
    "        random_latent_vectors = tf.random.normal(shape=(batch_size, self.latent_dim))\n",
    "        \n",
    "        misleading_labels = tf.zeros((batch_size, 1))\n",
    "        \n",
    "        with tf.GradientTape() as tape:\n",
    "            predictions = self.discriminator(self.generator(random_latent_vectors))\n",
    "            g_loss = self.loss_fn(misleading_labels, predictions)\n",
    "            \n",
    "        grads = tape.gradient(g_loss, self.generator.trainable_weights)\n",
    "        \n",
    "        self.g_optimizer.apply_gradients(zip(grads, self.generator.trainable_weights))\n",
    "        \n",
    "        return {'d_loss:': d_loss, 'g_loss:': g_loss}"
   ]
  },
  {
   "cell_type": "code",
   "execution_count": null,
   "id": "cc684fd3-ee37-469c-8e81-06b2ab9b8fe5",
   "metadata": {
    "tags": []
   },
   "outputs": [],
   "source": [
    "gan = GAN(discriminator=discriminator, generator=generator, latent_dim=latent_dim)"
   ]
  },
  {
   "cell_type": "code",
   "execution_count": null,
   "id": "2d557e71-d7aa-4139-a4a9-cc5b6989565b",
   "metadata": {
    "tags": []
   },
   "outputs": [],
   "source": [
    "gan.compile(\n",
    "    d_optimizer=tf.keras.optimizers.Adam(learning_rate=0.0003),\n",
    "    g_optimizer=tf.keras.optimizers.Adam(learning_rate=0.0003),\n",
    "    loss_fn=tf.keras.losses.BinaryCrossentropy(from_logits=True),\n",
    ")"
   ]
  },
  {
   "cell_type": "code",
   "execution_count": null,
   "id": "acdd518f-a841-4130-80f3-58d5c9b4d57b",
   "metadata": {
    "tags": []
   },
   "outputs": [],
   "source": [
    "import os\n",
    "os.mkdir('images_manual')"
   ]
  },
  {
   "cell_type": "code",
   "execution_count": null,
   "id": "ffce1e2e-e8ac-44ab-b54d-a3eda914a4b0",
   "metadata": {
    "tags": []
   },
   "outputs": [],
   "source": [
    "class GANMonitor(tf.keras.callbacks.Callback):\n",
    "    def __init__(self, num_img=5, latent_dim=128):\n",
    "        self.num_img = num_img\n",
    "        self.latent_dim = latent_dim\n",
    "        \n",
    "    def on_epoch_end(self, epoch, logs=None):\n",
    "        random_latent_vectors = tf.random.normal(shape=(self.num_img, self.latent_dim))\n",
    "        \n",
    "        generated_images = self.model.generator(random_latent_vectors)\n",
    "        \n",
    "        generated_images *= 255\n",
    "        generated_images.numpy()\n",
    "        \n",
    "        for i in range(self.num_img):\n",
    "            img = tf.keras.preprocessing.image.array_to_img(generated_images[i])\n",
    "            img.save(f'images_manual/{epoch}_img_{i}.png')"
   ]
  },
  {
   "cell_type": "code",
   "execution_count": null,
   "id": "6eec7949-c301-4074-9b5a-489d3698cca1",
   "metadata": {
    "tags": []
   },
   "outputs": [],
   "source": [
    "# img_monitoring = GANMonitor(num_img=5, latent_dim=latent_dim)\n",
    "\n",
    "# epochs = 60\n",
    "\n",
    "# gan.fit(\n",
    "#     dataset,\n",
    "#     epochs=epochs,\n",
    "#     callbacks=[img_monitoring]\n",
    "# )"
   ]
  },
  {
   "cell_type": "code",
   "execution_count": null,
   "id": "eb3954e4-180e-4883-887a-a090f63d96f7",
   "metadata": {
    "tags": []
   },
   "outputs": [],
   "source": [
    "gan.load_weights('gan_weights.h5')"
   ]
  },
  {
   "cell_type": "code",
   "execution_count": null,
   "id": "2112077c-8c21-4333-b4e2-5f51cee9c09c",
   "metadata": {},
   "outputs": [],
   "source": []
  }
 ],
 "metadata": {
  "kernelspec": {
   "display_name": "Python 3 (ipykernel)",
   "language": "python",
   "name": "python3"
  },
  "language_info": {
   "codemirror_mode": {
    "name": "ipython",
    "version": 3
   },
   "file_extension": ".py",
   "mimetype": "text/x-python",
   "name": "python",
   "nbconvert_exporter": "python",
   "pygments_lexer": "ipython3",
   "version": "3.10.10"
  }
 },
 "nbformat": 4,
 "nbformat_minor": 5
}
